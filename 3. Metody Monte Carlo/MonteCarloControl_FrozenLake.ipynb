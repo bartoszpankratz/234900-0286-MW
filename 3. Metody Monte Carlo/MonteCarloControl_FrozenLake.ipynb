{
 "cells": [
  {
   "cell_type": "markdown",
   "id": "c02416a9",
   "metadata": {},
   "source": [
    "# Frozen Lake Monte Carlo Control"
   ]
  },
  {
   "cell_type": "code",
   "execution_count": 1,
   "id": "79c65645",
   "metadata": {},
   "outputs": [],
   "source": [
    "using ReinforcementLearning, PyPlot, Random"
   ]
  },
  {
   "cell_type": "markdown",
   "id": "303cfba9",
   "metadata": {},
   "source": [
    "Firstly, we will define our environment. We will make it recognizable for the [<tt>ReinforcementLearning.jl</tt>]( https://juliareinforcementlearning.org/).\n",
    "\n",
    "Let us start with predefined constants and functions:"
   ]
  },
  {
   "cell_type": "code",
   "execution_count": 2,
   "id": "7257e580",
   "metadata": {},
   "outputs": [],
   "source": [
    "#actions coded as :left => 1, :down => 2, :right => 3, :up => 4\n",
    "#arrows are corresponding to actions\n",
    "arrows = Dict(1 => '⇐', 2 => '⇓', 3 => '⇒', 4 => '⇑');\n",
    "\n",
    "grid4x4= ['S' 'F' 'F' 'F';\n",
    "        'F' 'H' 'F' 'H';\n",
    "        'F' 'F' 'F' 'H';\n",
    "        'H' 'F' 'F' 'G'];\n",
    "\n",
    "grid8x8 =['S' 'F' 'F' 'F' 'F' 'F' 'F' 'F';\n",
    "        'F' 'F' 'F' 'F' 'F' 'F' 'F' 'F';\n",
    "        'F' 'F' 'F' 'H' 'F' 'F' 'F' 'F';\n",
    "        'F' 'F' 'F' 'F' 'F' 'H' 'F' 'F';\n",
    "        'F' 'F' 'F' 'H' 'F' 'F' 'F' 'F';\n",
    "        'F' 'H' 'H' 'F' 'F' 'F' 'H' 'F';\n",
    "        'F' 'H' 'F' 'F' 'H' 'F' 'H' 'F';\n",
    "        'F' 'F' 'F' 'H' 'F' 'F' 'F' 'G';];"
   ]
  },
  {
   "cell_type": "code",
   "execution_count": 3,
   "id": "f15e8cc1",
   "metadata": {},
   "outputs": [
    {
     "data": {
      "text/plain": [
       "print_policy (generic function with 2 methods)"
      ]
     },
     "execution_count": 3,
     "metadata": {},
     "output_type": "execute_result"
    }
   ],
   "source": [
    "#Auxilliary functions\n",
    "function get_grid(dim, p_holes, seed = 234)\n",
    "    Random.seed!(seed)\n",
    "    grid = [rand() < p_holes ? 'H' : 'F' for i in 1:dim, j in 1:dim]\n",
    "    grid[1,1] = 'S'\n",
    "    grid[end,end] = 'G'\n",
    "    return grid\n",
    "end\n",
    "\n",
    "function random_policy(grid,actions = actions)\n",
    "    P = rand(Int,size(grid))\n",
    "    for i = 1:length(grid)\n",
    "        P[i] = rand(1:length(actions))\n",
    "    end\n",
    "    return P\n",
    "end\n",
    "\n",
    "function print_policy(P, grid, arrows = arrows)\n",
    "    Policy = rand(Char,size(grid))\n",
    "    for i = 1:length(grid)\n",
    "        if grid[i] == 'F' || grid[i] == 'S' \n",
    "            Policy[i] = arrows[P[i]]\n",
    "        elseif grid[i] == 'H' \n",
    "            Policy[i] = '⦷'\n",
    "        else\n",
    "            Policy[i] = grid[i]\n",
    "        end\n",
    "    end\n",
    "    return Policy\n",
    "end"
   ]
  },
  {
   "cell_type": "markdown",
   "id": "1082d53f",
   "metadata": {},
   "source": [
    "#Now, we will define the environment as a mutable struct:\n"
   ]
  },
  {
   "cell_type": "code",
   "execution_count": 4,
   "id": "0913ec04",
   "metadata": {},
   "outputs": [
    {
     "data": {
      "text/plain": [
       "FrozenLakeEnv"
      ]
     },
     "execution_count": 4,
     "metadata": {},
     "output_type": "execute_result"
    }
   ],
   "source": [
    "\n",
    "mutable struct FrozenLakeEnv <: AbstractEnv\n",
    "    reward::Union{Nothing, Float64}\n",
    "    rewards::Dict{Char, Float64} \n",
    "    actions::Dict{Int64, Tuple{Int64, Int64}}  \n",
    "    world::Matrix{Char} \n",
    "    ES::Bool \n",
    "    position::Int \n",
    "end\n",
    "Main.FrozenLakeEnv"
   ]
  },
  {
   "cell_type": "markdown",
   "id": "ea250faa",
   "metadata": {},
   "source": [
    "and define a constructor function of Frozen Lake environment:"
   ]
  },
  {
   "cell_type": "code",
   "execution_count": 5,
   "id": "629b2877",
   "metadata": {},
   "outputs": [
    {
     "data": {
      "text/plain": [
       "FrozenLakeEnv"
      ]
     },
     "execution_count": 5,
     "metadata": {},
     "output_type": "execute_result"
    }
   ],
   "source": [
    "function FrozenLakeEnv(grid::Union{Int,Symbol} = :grid4x4; ES::Bool = false) \n",
    "    if typeof(grid) == Int\n",
    "        world = get_grid(grid, 0.1)\n",
    "    elseif grid == :grid4x4\n",
    "        world = grid4x4\n",
    "    elseif grid == :grid8x8\n",
    "        world = grid8x8\n",
    "    else\n",
    "        @error \"unknown grid\"\n",
    "    end\n",
    "    ES == true ? position = rand(1:length(world)) : position = 1\n",
    "    return FrozenLakeEnv(nothing, Dict('S' => -0.05, 'G' => 1.0, 'H' => -1.0, 'F' => -0.05),\n",
    "    Dict(1 => (0,-1), 2 => (1,0), 3 => (0,1), 4 => (-1,0)), \n",
    "        world, ES, position)\n",
    "    \n",
    "end"
   ]
  },
  {
   "cell_type": "markdown",
   "id": "e552a50b",
   "metadata": {},
   "source": [
    "Now, we must define the minimal interface of the environment. Without this functions code will not work properly:"
   ]
  },
  {
   "cell_type": "code",
   "execution_count": 6,
   "id": "3a13cf15",
   "metadata": {},
   "outputs": [],
   "source": [
    "#functions:\n",
    "RLBase.action_space(env::FrozenLakeEnv) = Base.OneTo(length(env.actions))\n",
    "RLBase.state_space(env::FrozenLakeEnv) = Base.OneTo(length(env.world))\n",
    "RLBase.reward(env::FrozenLakeEnv) = env.reward\n",
    "RLBase.state(env::FrozenLakeEnv) = env.position\n",
    "RLBase.is_terminated(env::FrozenLakeEnv) = env.reward == 1.0 || env.reward == -1.0\n",
    "function RLBase.reset!(env::FrozenLakeEnv) \n",
    "    env.reward = nothing\n",
    "    env.ES == true ? env.position = rand(state_space(env)) : env.position = 1\n",
    "end"
   ]
  },
  {
   "cell_type": "markdown",
   "id": "e5d97b58",
   "metadata": {},
   "source": [
    "and the most important function that controls the  movement:"
   ]
  },
  {
   "cell_type": "code",
   "execution_count": 7,
   "id": "165663fc",
   "metadata": {},
   "outputs": [],
   "source": [
    "\n",
    "function (x::FrozenLakeEnv)(action)\n",
    "    @assert action in action_space(x)\n",
    "    direction = x.actions[action]\n",
    "    cartesian_state = (CartesianIndices(x.world)[x.position][1],\n",
    "                        CartesianIndices(x.world)[x.position][2])\n",
    "    sides = filter(y -> !(y in [direction, direction .* -1]), collect(values(x.actions)))\n",
    "    p = rand()\n",
    "    if p <= 0.8\n",
    "        new_state = cartesian_state .+ direction\n",
    "    elseif p <= 0.9\n",
    "        new_state = cartesian_state .+ sides[1]\n",
    "    else\n",
    "        new_state = cartesian_state .+ sides[2]\n",
    "    end\n",
    "    if new_state[1] in (1:size(x.world,1)) && new_state[2] in (1:size(x.world,2))\n",
    "        x.position = LinearIndices(x.world)[new_state[1],new_state[2]]\n",
    "        x.reward = x.rewards[x.world[x.position]]\n",
    "    else\n",
    "        x.position = LinearIndices(x.world)[cartesian_state[1],cartesian_state[2]]\n",
    "        x.reward = x.rewards[x.world[x.position]]\n",
    "    end\n",
    "end"
   ]
  },
  {
   "cell_type": "markdown",
   "id": "6ac8df2b",
   "metadata": {},
   "source": [
    "Now we could test if the Frozen Lake enviroment works and debug it if neccessary:"
   ]
  },
  {
   "cell_type": "code",
   "execution_count": 8,
   "id": "8da738c4",
   "metadata": {},
   "outputs": [
    {
     "name": "stdout",
     "output_type": "stream",
     "text": [
      "\u001b[0m\u001b[1mTest Summary:                    | \u001b[22m\u001b[32m\u001b[1mPass  \u001b[22m\u001b[39m\u001b[36m\u001b[1mTotal  \u001b[22m\u001b[39m\u001b[0m\u001b[1mTime\u001b[22m\n",
      "random policy with FrozenLakeEnv | \u001b[32m2000  \u001b[39m\u001b[36m 2000  \u001b[39m\u001b[0m0.0s\n"
     ]
    }
   ],
   "source": [
    "env = FrozenLakeEnv(:grid8x8, ES = false);\n",
    "RLBase.test_runnable!(env);"
   ]
  },
  {
   "cell_type": "markdown",
   "id": "c8347960",
   "metadata": {},
   "source": [
    "[Hooks](https://juliareinforcementlearning.org/docs/How_to_use_hooks/) are one of the biggest advantages of the <tt>ReinforcementLearning.jl</tt> package. They allow us to collect some useful information about the training process. Here is the simple example how we could use them:"
   ]
  },
  {
   "cell_type": "code",
   "execution_count": 9,
   "id": "d5138ad5",
   "metadata": {},
   "outputs": [
    {
     "data": {
      "text/plain": [
       "TotalRewardPerEpisode(Float64[], 0.0, true)"
      ]
     },
     "execution_count": 9,
     "metadata": {},
     "output_type": "execute_result"
    }
   ],
   "source": [
    "hook = TotalRewardPerEpisode()\n",
    "TotalRewardPerEpisode(Float64[], 0.0, true)"
   ]
  },
  {
   "cell_type": "code",
   "execution_count": 10,
   "id": "0b39b91b",
   "metadata": {},
   "outputs": [
    {
     "name": "stderr",
     "output_type": "stream",
     "text": [
      "\u001b[32mProgress: 100%|█████████████████████████████████████████| Time: 0:00:03\u001b[39m\n"
     ]
    },
    {
     "name": "stdout",
     "output_type": "stream",
     "text": [
      "             ⠀⠀⠀⠀⠀⠀⠀⠀⠀\u001b[97;1mTotal reward per episode\u001b[0m⠀⠀⠀⠀⠀⠀⠀⠀⠀ \n",
      "             \u001b[38;5;8m┌────────────────────────────────────────┐\u001b[0m \n",
      "          \u001b[38;5;8m10\u001b[0m \u001b[38;5;8m│\u001b[0m⠀⠀⠀⠀⠀⠀⠀⠀⠀⠀⠀⠀⠀⠀⠀⠀⠀⠀⠀⠀⠀⠀⠀⠀⠀⠀⠀⠀⠀⠀⠀⠀⠀⠀⠀⠀⠀⠀⠀⠀\u001b[38;5;8m│\u001b[0m \u001b[38;5;8m\u001b[0m\n",
      "            \u001b[38;5;8m\u001b[0m \u001b[38;5;8m│\u001b[0m⠀⠀⠀⠀⠀⠀⠀⠀⠀⠀⠀⠀⠀⠀⠀⠀⠀⠀⠀⠀⠀⠀⠀⠀⠀⠀⠀⠀⠀⠀⠀⠀⠀⠀⠀⠀⠀⠀⠀⠀\u001b[38;5;8m│\u001b[0m \u001b[38;5;8m\u001b[0m\n",
      "            \u001b[38;5;8m\u001b[0m \u001b[38;5;8m│\u001b[0m⠀⠀⠀⠀⠀⠀⠀⠀⠀⠀⠀⠀⠀⠀⠀⠀⠀⠀⠀⠀⠀⠀⠀⠀⠀⠀⠀⠀⠀⠀⠀⠀⠀⠀⠀⠀⠀⠀⠀⠀\u001b[38;5;8m│\u001b[0m \u001b[38;5;8m\u001b[0m\n",
      "            \u001b[38;5;8m\u001b[0m \u001b[38;5;8m│\u001b[0m⠀⠀⠀⠀⠀⠀⠀⠀⠀⠀⠀⠀⠀⠀⠀⠀⠀⠀⠀⠀⠀⠀⠀⠀⠀⠀⠀⠀⠀⠀⠀⠀⠀⠀⠀⠀⠀⠀⠀⠀\u001b[38;5;8m│\u001b[0m \u001b[38;5;8m\u001b[0m\n",
      "            \u001b[38;5;8m\u001b[0m \u001b[38;5;8m│\u001b[0m⠀⠀⠀\u001b[38;5;2m⡀\u001b[0m⠀⠀⠀⠀⠀⠀⠀⠀⠀⠀⠀⠀⠀⠀⠀⠀⠀⠀\u001b[38;5;2m⢀\u001b[0m⠀⠀⠀⠀⠀⠀⠀⠀⠀⠀⠀⠀⠀⠀⠀\u001b[38;5;2m⡀\u001b[0m⠀\u001b[38;5;8m│\u001b[0m \u001b[38;5;8m\u001b[0m\n",
      "            \u001b[38;5;8m\u001b[0m \u001b[38;5;8m│\u001b[0m\u001b[38;5;2m⣿\u001b[0m\u001b[38;5;2m⣿\u001b[0m\u001b[38;5;2m⣯\u001b[0m\u001b[38;5;2m⣯\u001b[0m\u001b[38;5;2m⣿\u001b[0m\u001b[38;5;2m⣿\u001b[0m\u001b[38;5;2m⣿\u001b[0m\u001b[38;5;2m⣿\u001b[0m\u001b[38;5;2m⣯\u001b[0m\u001b[38;5;2m⣿\u001b[0m\u001b[38;5;2m⣿\u001b[0m\u001b[38;5;2m⣭\u001b[0m\u001b[38;5;2m⣽\u001b[0m\u001b[38;5;2m⣽\u001b[0m\u001b[38;5;2m⣿\u001b[0m\u001b[38;5;2m⣿\u001b[0m\u001b[38;5;2m⣭\u001b[0m\u001b[38;5;2m⣽\u001b[0m\u001b[38;5;2m⣯\u001b[0m\u001b[38;5;2m⣯\u001b[0m\u001b[38;5;2m⣿\u001b[0m\u001b[38;5;2m⣿\u001b[0m\u001b[38;5;2m⣽\u001b[0m\u001b[38;5;2m⣭\u001b[0m\u001b[38;5;2m⣿\u001b[0m\u001b[38;5;2m⣯\u001b[0m\u001b[38;5;2m⣭\u001b[0m\u001b[38;5;2m⣯\u001b[0m\u001b[38;5;2m⣭\u001b[0m\u001b[38;5;2m⣯\u001b[0m\u001b[38;5;2m⣿\u001b[0m\u001b[38;5;2m⣿\u001b[0m\u001b[38;5;2m⣿\u001b[0m\u001b[38;5;2m⣿\u001b[0m\u001b[38;5;2m⣽\u001b[0m\u001b[38;5;2m⣿\u001b[0m\u001b[38;5;2m⣿\u001b[0m\u001b[38;5;2m⣿\u001b[0m\u001b[38;5;2m⣿\u001b[0m\u001b[38;5;2m⣿\u001b[0m\u001b[38;5;8m│\u001b[0m \u001b[38;5;8m\u001b[0m\n",
      "            \u001b[38;5;8m\u001b[0m \u001b[38;5;8m│\u001b[0m\u001b[38;5;2m⣿\u001b[0m\u001b[38;5;2m⣿\u001b[0m\u001b[38;5;2m⣿\u001b[0m\u001b[38;5;2m⣿\u001b[0m\u001b[38;5;2m⣿\u001b[0m\u001b[38;5;2m⣿\u001b[0m\u001b[38;5;2m⣿\u001b[0m\u001b[38;5;2m⣿\u001b[0m\u001b[38;5;2m⣿\u001b[0m\u001b[38;5;2m⣿\u001b[0m\u001b[38;5;2m⣿\u001b[0m\u001b[38;5;2m⣿\u001b[0m\u001b[38;5;2m⣿\u001b[0m\u001b[38;5;2m⣿\u001b[0m\u001b[38;5;2m⣿\u001b[0m\u001b[38;5;2m⣿\u001b[0m\u001b[38;5;2m⣿\u001b[0m\u001b[38;5;2m⣿\u001b[0m\u001b[38;5;2m⣿\u001b[0m\u001b[38;5;2m⣿\u001b[0m\u001b[38;5;2m⣿\u001b[0m\u001b[38;5;2m⣿\u001b[0m\u001b[38;5;2m⣿\u001b[0m\u001b[38;5;2m⣿\u001b[0m\u001b[38;5;2m⣿\u001b[0m\u001b[38;5;2m⣿\u001b[0m\u001b[38;5;2m⣿\u001b[0m\u001b[38;5;2m⣿\u001b[0m\u001b[38;5;2m⣿\u001b[0m\u001b[38;5;2m⣿\u001b[0m\u001b[38;5;2m⣿\u001b[0m\u001b[38;5;2m⣿\u001b[0m\u001b[38;5;2m⣿\u001b[0m\u001b[38;5;2m⣿\u001b[0m\u001b[38;5;2m⣿\u001b[0m\u001b[38;5;2m⣿\u001b[0m\u001b[38;5;2m⣿\u001b[0m\u001b[38;5;2m⣿\u001b[0m\u001b[38;5;2m⣿\u001b[0m\u001b[38;5;2m⣿\u001b[0m\u001b[38;5;8m│\u001b[0m \u001b[38;5;8m\u001b[0m\n",
      "   Score    \u001b[38;5;8m\u001b[0m \u001b[38;5;8m│\u001b[0m\u001b[38;5;2m⣿\u001b[0m\u001b[38;5;2m⣿\u001b[0m\u001b[38;5;2m⣿\u001b[0m\u001b[38;5;2m⣿\u001b[0m\u001b[38;5;2m⣿\u001b[0m\u001b[38;5;2m⣿\u001b[0m\u001b[38;5;2m⣿\u001b[0m\u001b[38;5;2m⣿\u001b[0m\u001b[38;5;2m⣿\u001b[0m\u001b[38;5;2m⣿\u001b[0m\u001b[38;5;2m⣿\u001b[0m\u001b[38;5;2m⣿\u001b[0m\u001b[38;5;2m⣿\u001b[0m\u001b[38;5;2m⣿\u001b[0m\u001b[38;5;2m⣿\u001b[0m\u001b[38;5;2m⣿\u001b[0m\u001b[38;5;2m⣿\u001b[0m\u001b[38;5;2m⣿\u001b[0m\u001b[38;5;2m⣿\u001b[0m\u001b[38;5;2m⣿\u001b[0m\u001b[38;5;2m⣿\u001b[0m\u001b[38;5;2m⣿\u001b[0m\u001b[38;5;2m⣿\u001b[0m\u001b[38;5;2m⣿\u001b[0m\u001b[38;5;2m⣿\u001b[0m\u001b[38;5;2m⣿\u001b[0m\u001b[38;5;2m⣿\u001b[0m\u001b[38;5;2m⣿\u001b[0m\u001b[38;5;2m⣿\u001b[0m\u001b[38;5;2m⣿\u001b[0m\u001b[38;5;2m⣿\u001b[0m\u001b[38;5;2m⣿\u001b[0m\u001b[38;5;2m⣿\u001b[0m\u001b[38;5;2m⣿\u001b[0m\u001b[38;5;2m⣿\u001b[0m\u001b[38;5;2m⣿\u001b[0m\u001b[38;5;2m⣿\u001b[0m\u001b[38;5;2m⣿\u001b[0m\u001b[38;5;2m⣿\u001b[0m\u001b[38;5;2m⣿\u001b[0m\u001b[38;5;8m│\u001b[0m \u001b[38;5;8m\u001b[0m\n",
      "            \u001b[38;5;8m\u001b[0m \u001b[38;5;8m│\u001b[0m\u001b[38;5;2m⣿\u001b[0m\u001b[38;5;2m⣿\u001b[0m\u001b[38;5;2m⣿\u001b[0m\u001b[38;5;2m⣿\u001b[0m\u001b[38;5;2m⣿\u001b[0m\u001b[38;5;2m⣿\u001b[0m\u001b[38;5;2m⣿\u001b[0m\u001b[38;5;2m⣿\u001b[0m\u001b[38;5;2m⣿\u001b[0m\u001b[38;5;2m⣿\u001b[0m\u001b[38;5;2m⣿\u001b[0m\u001b[38;5;2m⣿\u001b[0m\u001b[38;5;2m⣿\u001b[0m\u001b[38;5;2m⣿\u001b[0m\u001b[38;5;2m⣿\u001b[0m\u001b[38;5;2m⣿\u001b[0m\u001b[38;5;2m⣿\u001b[0m\u001b[38;5;2m⣿\u001b[0m\u001b[38;5;2m⣿\u001b[0m\u001b[38;5;2m⣿\u001b[0m\u001b[38;5;2m⣿\u001b[0m\u001b[38;5;2m⣿\u001b[0m\u001b[38;5;2m⣿\u001b[0m\u001b[38;5;2m⣿\u001b[0m\u001b[38;5;2m⣿\u001b[0m\u001b[38;5;2m⣿\u001b[0m\u001b[38;5;2m⣿\u001b[0m\u001b[38;5;2m⣿\u001b[0m\u001b[38;5;2m⣿\u001b[0m\u001b[38;5;2m⣿\u001b[0m\u001b[38;5;2m⣿\u001b[0m\u001b[38;5;2m⣿\u001b[0m\u001b[38;5;2m⣿\u001b[0m\u001b[38;5;2m⣿\u001b[0m\u001b[38;5;2m⣿\u001b[0m\u001b[38;5;2m⣿\u001b[0m\u001b[38;5;2m⣿\u001b[0m\u001b[38;5;2m⣿\u001b[0m\u001b[38;5;2m⣿\u001b[0m\u001b[38;5;2m⣿\u001b[0m\u001b[38;5;8m│\u001b[0m \u001b[38;5;8m\u001b[0m\n",
      "            \u001b[38;5;8m\u001b[0m \u001b[38;5;8m│\u001b[0m\u001b[38;5;2m⣿\u001b[0m\u001b[38;5;2m⣿\u001b[0m\u001b[38;5;2m⣿\u001b[0m\u001b[38;5;2m⣿\u001b[0m\u001b[38;5;2m⣿\u001b[0m\u001b[38;5;2m⢿\u001b[0m\u001b[38;5;2m⣿\u001b[0m\u001b[38;5;2m⣿\u001b[0m\u001b[38;5;2m⣿\u001b[0m\u001b[38;5;2m⣿\u001b[0m\u001b[38;5;2m⣿\u001b[0m\u001b[38;5;2m⡏\u001b[0m\u001b[38;5;2m⣿\u001b[0m\u001b[38;5;2m⣿\u001b[0m\u001b[38;5;2m⣿\u001b[0m\u001b[38;5;2m⡿\u001b[0m\u001b[38;5;2m⣿\u001b[0m\u001b[38;5;2m⡏\u001b[0m\u001b[38;5;2m⣿\u001b[0m\u001b[38;5;2m⠟\u001b[0m\u001b[38;5;2m⣿\u001b[0m\u001b[38;5;2m⣿\u001b[0m\u001b[38;5;2m⣿\u001b[0m\u001b[38;5;2m⣿\u001b[0m\u001b[38;5;2m⣿\u001b[0m\u001b[38;5;2m⣿\u001b[0m\u001b[38;5;2m⣿\u001b[0m\u001b[38;5;2m⣿\u001b[0m\u001b[38;5;2m⣿\u001b[0m\u001b[38;5;2m⣿\u001b[0m\u001b[38;5;2m⢿\u001b[0m\u001b[38;5;2m⡿\u001b[0m\u001b[38;5;2m⣿\u001b[0m\u001b[38;5;2m⣿\u001b[0m\u001b[38;5;2m⡿\u001b[0m\u001b[38;5;2m⣿\u001b[0m\u001b[38;5;2m⣿\u001b[0m\u001b[38;5;2m⣿\u001b[0m\u001b[38;5;2m⠿\u001b[0m\u001b[38;5;2m⣿\u001b[0m\u001b[38;5;8m│\u001b[0m \u001b[38;5;8m\u001b[0m\n",
      "            \u001b[38;5;8m\u001b[0m \u001b[38;5;8m│\u001b[0m\u001b[38;5;2m⠉\u001b[0m\u001b[38;5;2m⡿\u001b[0m\u001b[38;5;2m⣿\u001b[0m\u001b[38;5;2m⠈\u001b[0m\u001b[38;5;2m⠁\u001b[0m\u001b[38;5;2m⠸\u001b[0m\u001b[38;5;2m⠋\u001b[0m\u001b[38;5;2m⢸\u001b[0m\u001b[38;5;2m⠈\u001b[0m\u001b[38;5;2m⠸\u001b[0m\u001b[38;5;2m⢹\u001b[0m\u001b[38;5;2m⠁\u001b[0m\u001b[38;5;2m⠋\u001b[0m\u001b[38;5;2m⢿\u001b[0m\u001b[38;5;2m⠈\u001b[0m\u001b[38;5;2m⠁\u001b[0m\u001b[38;5;2m⠇\u001b[0m\u001b[38;5;2m⡇\u001b[0m\u001b[38;5;2m⣿\u001b[0m⠀\u001b[38;5;2m⠈\u001b[0m\u001b[38;5;2m⢿\u001b[0m\u001b[38;5;2m⠉\u001b[0m\u001b[38;5;2m⠟\u001b[0m\u001b[38;5;2m⣿\u001b[0m\u001b[38;5;2m⣿\u001b[0m\u001b[38;5;2m⡿\u001b[0m\u001b[38;5;2m⡟\u001b[0m⠀\u001b[38;5;2m⠉\u001b[0m\u001b[38;5;2m⠸\u001b[0m\u001b[38;5;2m⠁\u001b[0m\u001b[38;5;2m⠏\u001b[0m\u001b[38;5;2m⠟\u001b[0m\u001b[38;5;2m⡇\u001b[0m\u001b[38;5;2m⠃\u001b[0m\u001b[38;5;2m⢿\u001b[0m\u001b[38;5;2m⢸\u001b[0m⠀\u001b[38;5;2m⢹\u001b[0m\u001b[38;5;8m│\u001b[0m \u001b[38;5;8m\u001b[0m\n",
      "            \u001b[38;5;8m\u001b[0m \u001b[38;5;8m│\u001b[0m⠀⠀\u001b[38;5;2m⢸\u001b[0m⠀⠀⠀⠀\u001b[38;5;2m⠘\u001b[0m⠀⠀\u001b[38;5;2m⠸\u001b[0m⠀⠀\u001b[38;5;2m⠘\u001b[0m⠀⠀⠀\u001b[38;5;2m⠃\u001b[0m\u001b[38;5;2m⡏\u001b[0m⠀⠀⠀⠀⠀⠀\u001b[38;5;2m⠘\u001b[0m\u001b[38;5;2m⠁\u001b[0m\u001b[38;5;2m⠁\u001b[0m⠀⠀⠀⠀⠀⠀\u001b[38;5;2m⠇\u001b[0m⠀⠀⠀⠀\u001b[38;5;2m⠈\u001b[0m\u001b[38;5;8m│\u001b[0m \u001b[38;5;8m\u001b[0m\n",
      "            \u001b[38;5;8m\u001b[0m \u001b[38;5;8m│\u001b[0m⠀⠀\u001b[38;5;2m⠸\u001b[0m⠀⠀⠀⠀⠀⠀⠀⠀⠀⠀⠀⠀⠀⠀⠀\u001b[38;5;2m⠃\u001b[0m⠀⠀⠀⠀⠀⠀⠀⠀⠀⠀⠀⠀⠀⠀⠀⠀⠀⠀⠀⠀⠀\u001b[38;5;8m│\u001b[0m \u001b[38;5;8m\u001b[0m\n",
      "            \u001b[38;5;8m\u001b[0m \u001b[38;5;8m│\u001b[0m⠀⠀⠀⠀⠀⠀⠀⠀⠀⠀⠀⠀⠀⠀⠀⠀⠀⠀⠀⠀⠀⠀⠀⠀⠀⠀⠀⠀⠀⠀⠀⠀⠀⠀⠀⠀⠀⠀⠀⠀\u001b[38;5;8m│\u001b[0m \u001b[38;5;8m\u001b[0m\n",
      "         \u001b[38;5;8m-20\u001b[0m \u001b[38;5;8m│\u001b[0m⠀⠀⠀⠀⠀⠀⠀⠀⠀⠀⠀⠀⠀⠀⠀⠀⠀⠀⠀⠀⠀⠀⠀⠀⠀⠀⠀⠀⠀⠀⠀⠀⠀⠀⠀⠀⠀⠀⠀⠀\u001b[38;5;8m│\u001b[0m \u001b[38;5;8m\u001b[0m\n",
      "             \u001b[38;5;8m└────────────────────────────────────────┘\u001b[0m \n",
      "             ⠀\u001b[38;5;8m0\u001b[0m⠀⠀⠀⠀⠀⠀⠀⠀⠀⠀⠀⠀⠀⠀⠀⠀⠀⠀\u001b[38;5;8m\u001b[0m⠀⠀⠀⠀⠀⠀⠀⠀⠀⠀⠀⠀⠀⠀⠀\u001b[38;5;8m200000\u001b[0m⠀ \n",
      "             ⠀⠀⠀⠀⠀⠀⠀⠀⠀⠀⠀⠀⠀⠀⠀⠀⠀⠀Episode⠀⠀⠀⠀⠀⠀⠀⠀⠀⠀⠀⠀⠀⠀⠀⠀⠀ \n"
     ]
    },
    {
     "data": {
      "text/plain": [
       "TotalRewardPerEpisode([-1.8000000000000003, -1.85, -2.650000000000001, -4.199999999999997, -1.9000000000000004, -2.8000000000000007, -2.4500000000000006, -5.049999999999994, -1.75, -1.35  …  -2.4000000000000004, -2.500000000000001, -2.500000000000001, -2.1000000000000005, -2.650000000000001, -1.45, -3.0500000000000007, -1.3, -1.45, -1.8000000000000003], 0.0, true)"
      ]
     },
     "execution_count": 10,
     "metadata": {},
     "output_type": "execute_result"
    }
   ],
   "source": [
    "run(RandomPolicy(action_space(env)), env, StopAfterEpisode(200_000), hook)"
   ]
  },
  {
   "cell_type": "markdown",
   "id": "0213ea33",
   "metadata": {},
   "source": [
    "or in a more sophisticated case:"
   ]
  },
  {
   "cell_type": "code",
   "execution_count": 11,
   "id": "cfefd5a9",
   "metadata": {},
   "outputs": [
    {
     "data": {
      "text/plain": [
       "typename(QBasedPolicy)\n",
       "├─ learner => typename(MonteCarloLearner)\n",
       "│  ├─ approximator => typename(TabularApproximator)\n",
       "│  │  ├─ table => 4×64 Matrix{Float64}\n",
       "│  │  └─ optimizer => typename(Flux.Optimise.InvDecay)\n",
       "│  │     ├─ gamma => 1.0\n",
       "│  │     └─ state => typename(IdDict)\n",
       "│  ├─ γ => 0.999\n",
       "│  ├─ kind => typename(ReinforcementLearningZoo.FirstVisit)\n",
       "│  └─ sampling => typename(ReinforcementLearningZoo.NoSampling)\n",
       "└─ explorer => typename(EpsilonGreedyExplorer)\n",
       "   ├─ ϵ_stable => 0.1\n",
       "   ├─ ϵ_init => 1.0\n",
       "   ├─ warmup_steps => 0\n",
       "   ├─ decay_steps => 0\n",
       "   ├─ step => 1\n",
       "   ├─ rng => typename(Random._GLOBAL_RNG)\n",
       "   └─ is_training => true\n"
      ]
     },
     "execution_count": 11,
     "metadata": {},
     "output_type": "execute_result"
    }
   ],
   "source": [
    "mcpolicy = QBasedPolicy(\n",
    "           learner = MonteCarloLearner(\n",
    "                   approximator=TabularQApproximator(\n",
    "                       ;n_state = length(state_space(env)),\n",
    "                       n_action = length(action_space(env)),\n",
    "                        init = 0.0,\n",
    "                   ),\n",
    "            γ = 0.999\n",
    "               ),\n",
    "           explorer = EpsilonGreedyExplorer(0.1)\n",
    "       )"
   ]
  },
  {
   "cell_type": "code",
   "execution_count": 12,
   "id": "fdbbde98",
   "metadata": {},
   "outputs": [
    {
     "name": "stderr",
     "output_type": "stream",
     "text": [
      "\u001b[32mProgress: 100%|█████████████████████████████████████████| Time: 0:00:24\u001b[39m\n"
     ]
    },
    {
     "name": "stdout",
     "output_type": "stream",
     "text": [
      "              ⠀⠀⠀⠀⠀⠀⠀⠀⠀\u001b[97;1mTotal reward per episode\u001b[0m⠀⠀⠀⠀⠀⠀⠀⠀⠀ \n",
      "              \u001b[38;5;8m┌────────────────────────────────────────┐\u001b[0m \n",
      "          \u001b[38;5;8m100\u001b[0m \u001b[38;5;8m│\u001b[0m⠀⠀⠀⠀⠀⠀⠀⠀⠀⠀⠀⠀⠀⠀⠀⠀⠀⠀⠀⠀⠀⠀⠀⠀⠀⠀⠀⠀⠀⠀⠀⠀⠀⠀⠀⠀⠀⠀⠀⠀\u001b[38;5;8m│\u001b[0m \u001b[38;5;8m\u001b[0m\n",
      "             \u001b[38;5;8m\u001b[0m \u001b[38;5;8m│\u001b[0m⠀⠀⠀⠀⠀⠀⠀⠀⠀⠀⠀⠀⠀⠀⠀⠀⠀⠀⠀⠀⠀⠀⠀⠀⠀⠀⠀⠀⠀⠀⠀⠀⠀⠀⠀⠀⠀⠀⠀⠀\u001b[38;5;8m│\u001b[0m \u001b[38;5;8m\u001b[0m\n",
      "             \u001b[38;5;8m\u001b[0m \u001b[38;5;8m│\u001b[0m⠀⠀⠀⠀⠀⠀⠀⠀⠀⠀⠀⠀⠀⠀⠀⠀⠀⠀⠀⠀⠀⠀⠀⠀⠀⠀⠀⠀⠀⠀⠀⠀⠀⠀⠀⠀⠀⠀⠀⠀\u001b[38;5;8m│\u001b[0m \u001b[38;5;8m\u001b[0m\n",
      "             \u001b[38;5;8m\u001b[0m \u001b[38;5;8m│\u001b[0m⠀⠀⠀⠀⠀⠀⠀⠀⠀⠀⠀⠀⠀⠀⠀⠀⠀⠀⠀⠀⠀⠀⠀⠀⠀⠀⠀⠀⠀⠀⠀⠀⠀⠀⠀⠀⠀⠀⠀⠀\u001b[38;5;8m│\u001b[0m \u001b[38;5;8m\u001b[0m\n",
      "             \u001b[38;5;8m\u001b[0m \u001b[38;5;8m│\u001b[0m⠀\u001b[38;5;2m⢀\u001b[0m⠀⠀⠀⠀⠀⠀⠀⠀⠀\u001b[38;5;2m⡀\u001b[0m⠀⠀⠀⠀⠀⠀⠀\u001b[38;5;2m⡀\u001b[0m⠀⠀⠀⠀⠀⠀⠀⠀⠀⠀⠀⠀⠀⠀⠀⠀⠀⠀⠀⠀\u001b[38;5;8m│\u001b[0m \u001b[38;5;8m\u001b[0m\n",
      "             \u001b[38;5;8m\u001b[0m \u001b[38;5;8m│\u001b[0m\u001b[38;5;2m⠿\u001b[0m\u001b[38;5;2m⡿\u001b[0m\u001b[38;5;2m⠿\u001b[0m\u001b[38;5;2m⠿\u001b[0m\u001b[38;5;2m⠿\u001b[0m\u001b[38;5;2m⠿\u001b[0m\u001b[38;5;2m⠿\u001b[0m\u001b[38;5;2m⠿\u001b[0m\u001b[38;5;2m⠿\u001b[0m\u001b[38;5;2m⠟\u001b[0m\u001b[38;5;2m⠿\u001b[0m\u001b[38;5;2m⠿\u001b[0m\u001b[38;5;2m⠿\u001b[0m\u001b[38;5;2m⠿\u001b[0m\u001b[38;5;2m⠻\u001b[0m\u001b[38;5;2m⠿\u001b[0m\u001b[38;5;2m⠿\u001b[0m\u001b[38;5;2m⠿\u001b[0m\u001b[38;5;2m⠿\u001b[0m\u001b[38;5;2m⠻\u001b[0m\u001b[38;5;2m⣿\u001b[0m\u001b[38;5;2m⣿\u001b[0m\u001b[38;5;2m⣿\u001b[0m\u001b[38;5;2m⣿\u001b[0m\u001b[38;5;2m⣿\u001b[0m\u001b[38;5;2m⣿\u001b[0m\u001b[38;5;2m⣿\u001b[0m\u001b[38;5;2m⣿\u001b[0m\u001b[38;5;2m⣿\u001b[0m\u001b[38;5;2m⣿\u001b[0m\u001b[38;5;2m⣿\u001b[0m\u001b[38;5;2m⣿\u001b[0m\u001b[38;5;2m⣿\u001b[0m\u001b[38;5;2m⣿\u001b[0m\u001b[38;5;2m⣿\u001b[0m\u001b[38;5;2m⣿\u001b[0m\u001b[38;5;2m⣿\u001b[0m\u001b[38;5;2m⣿\u001b[0m\u001b[38;5;2m⣿\u001b[0m\u001b[38;5;2m⣿\u001b[0m\u001b[38;5;8m│\u001b[0m \u001b[38;5;8m\u001b[0m\n",
      "             \u001b[38;5;8m\u001b[0m \u001b[38;5;8m│\u001b[0m⠀⠀⠀⠀⠀⠀⠀⠀⠀⠀⠀⠀⠀⠀⠀⠀⠀⠀⠀⠀\u001b[38;5;2m⣿\u001b[0m\u001b[38;5;2m⣿\u001b[0m\u001b[38;5;2m⣿\u001b[0m\u001b[38;5;2m⣿\u001b[0m\u001b[38;5;2m⣿\u001b[0m\u001b[38;5;2m⣿\u001b[0m\u001b[38;5;2m⣿\u001b[0m\u001b[38;5;2m⣿\u001b[0m\u001b[38;5;2m⣿\u001b[0m\u001b[38;5;2m⣿\u001b[0m\u001b[38;5;2m⣿\u001b[0m\u001b[38;5;2m⣿\u001b[0m\u001b[38;5;2m⣿\u001b[0m\u001b[38;5;2m⣿\u001b[0m\u001b[38;5;2m⣿\u001b[0m\u001b[38;5;2m⣿\u001b[0m\u001b[38;5;2m⣿\u001b[0m\u001b[38;5;2m⣿\u001b[0m\u001b[38;5;2m⣿\u001b[0m\u001b[38;5;2m⣿\u001b[0m\u001b[38;5;8m│\u001b[0m \u001b[38;5;8m\u001b[0m\n",
      "   Score     \u001b[38;5;8m\u001b[0m \u001b[38;5;8m│\u001b[0m⠀⠀⠀⠀⠀⠀⠀⠀⠀⠀⠀⠀⠀⠀⠀⠀⠀⠀⠀⠀\u001b[38;5;2m⣿\u001b[0m\u001b[38;5;2m⣿\u001b[0m\u001b[38;5;2m⣿\u001b[0m\u001b[38;5;2m⣿\u001b[0m\u001b[38;5;2m⣿\u001b[0m\u001b[38;5;2m⣿\u001b[0m\u001b[38;5;2m⣿\u001b[0m\u001b[38;5;2m⣿\u001b[0m\u001b[38;5;2m⣿\u001b[0m\u001b[38;5;2m⣿\u001b[0m\u001b[38;5;2m⣿\u001b[0m\u001b[38;5;2m⣿\u001b[0m\u001b[38;5;2m⣿\u001b[0m\u001b[38;5;2m⣿\u001b[0m\u001b[38;5;2m⣿\u001b[0m\u001b[38;5;2m⣿\u001b[0m\u001b[38;5;2m⣿\u001b[0m\u001b[38;5;2m⣿\u001b[0m\u001b[38;5;2m⣿\u001b[0m\u001b[38;5;2m⣿\u001b[0m\u001b[38;5;8m│\u001b[0m \u001b[38;5;8m\u001b[0m\n",
      "             \u001b[38;5;8m\u001b[0m \u001b[38;5;8m│\u001b[0m⠀⠀⠀⠀⠀⠀⠀⠀⠀⠀⠀⠀⠀⠀⠀⠀⠀⠀⠀⠀\u001b[38;5;2m⣿\u001b[0m\u001b[38;5;2m⣿\u001b[0m\u001b[38;5;2m⣿\u001b[0m\u001b[38;5;2m⣿\u001b[0m\u001b[38;5;2m⣿\u001b[0m\u001b[38;5;2m⣿\u001b[0m\u001b[38;5;2m⣿\u001b[0m\u001b[38;5;2m⣿\u001b[0m\u001b[38;5;2m⣿\u001b[0m\u001b[38;5;2m⣿\u001b[0m\u001b[38;5;2m⣿\u001b[0m\u001b[38;5;2m⣿\u001b[0m\u001b[38;5;2m⣿\u001b[0m\u001b[38;5;2m⣿\u001b[0m\u001b[38;5;2m⣿\u001b[0m\u001b[38;5;2m⣿\u001b[0m\u001b[38;5;2m⣿\u001b[0m\u001b[38;5;2m⣿\u001b[0m\u001b[38;5;2m⣿\u001b[0m\u001b[38;5;2m⣿\u001b[0m\u001b[38;5;8m│\u001b[0m \u001b[38;5;8m\u001b[0m\n",
      "             \u001b[38;5;8m\u001b[0m \u001b[38;5;8m│\u001b[0m⠀⠀⠀⠀⠀⠀⠀⠀⠀⠀⠀⠀⠀⠀⠀⠀⠀⠀⠀⠀\u001b[38;5;2m⣿\u001b[0m\u001b[38;5;2m⢹\u001b[0m\u001b[38;5;2m⡏\u001b[0m\u001b[38;5;2m⣿\u001b[0m\u001b[38;5;2m⠿\u001b[0m\u001b[38;5;2m⡏\u001b[0m\u001b[38;5;2m⣿\u001b[0m\u001b[38;5;2m⠿\u001b[0m\u001b[38;5;2m⣿\u001b[0m\u001b[38;5;2m⣿\u001b[0m\u001b[38;5;2m⣿\u001b[0m\u001b[38;5;2m⣿\u001b[0m\u001b[38;5;2m⠿\u001b[0m\u001b[38;5;2m⢻\u001b[0m\u001b[38;5;2m⣿\u001b[0m\u001b[38;5;2m⣿\u001b[0m\u001b[38;5;2m⢹\u001b[0m\u001b[38;5;2m⣿\u001b[0m\u001b[38;5;2m⣿\u001b[0m\u001b[38;5;2m⣿\u001b[0m\u001b[38;5;8m│\u001b[0m \u001b[38;5;8m\u001b[0m\n",
      "             \u001b[38;5;8m\u001b[0m \u001b[38;5;8m│\u001b[0m⠀⠀⠀⠀⠀⠀⠀⠀⠀⠀⠀⠀⠀⠀⠀⠀⠀⠀⠀⠀\u001b[38;5;2m⠈\u001b[0m⠀⠀\u001b[38;5;2m⠉\u001b[0m⠀\u001b[38;5;2m⠁\u001b[0m\u001b[38;5;2m⠈\u001b[0m⠀\u001b[38;5;2m⠋\u001b[0m\u001b[38;5;2m⠁\u001b[0m\u001b[38;5;2m⢿\u001b[0m\u001b[38;5;2m⡏\u001b[0m⠀\u001b[38;5;2m⢸\u001b[0m\u001b[38;5;2m⠘\u001b[0m\u001b[38;5;2m⠉\u001b[0m\u001b[38;5;2m⠘\u001b[0m\u001b[38;5;2m⡿\u001b[0m\u001b[38;5;2m⡿\u001b[0m\u001b[38;5;2m⠛\u001b[0m\u001b[38;5;8m│\u001b[0m \u001b[38;5;8m\u001b[0m\n",
      "             \u001b[38;5;8m\u001b[0m \u001b[38;5;8m│\u001b[0m⠀⠀⠀⠀⠀⠀⠀⠀⠀⠀⠀⠀⠀⠀⠀⠀⠀⠀⠀⠀⠀⠀⠀⠀⠀⠀⠀⠀⠀⠀\u001b[38;5;2m⠘\u001b[0m⠀⠀\u001b[38;5;2m⠈\u001b[0m⠀⠀⠀\u001b[38;5;2m⠇\u001b[0m\u001b[38;5;2m⠁\u001b[0m⠀\u001b[38;5;8m│\u001b[0m \u001b[38;5;8m\u001b[0m\n",
      "             \u001b[38;5;8m\u001b[0m \u001b[38;5;8m│\u001b[0m⠀⠀⠀⠀⠀⠀⠀⠀⠀⠀⠀⠀⠀⠀⠀⠀⠀⠀⠀⠀⠀⠀⠀⠀⠀⠀⠀⠀⠀⠀⠀⠀⠀⠀⠀⠀⠀⠀⠀⠀\u001b[38;5;8m│\u001b[0m \u001b[38;5;8m\u001b[0m\n",
      "             \u001b[38;5;8m\u001b[0m \u001b[38;5;8m│\u001b[0m⠀⠀⠀⠀⠀⠀⠀⠀⠀⠀⠀⠀⠀⠀⠀⠀⠀⠀⠀⠀⠀⠀⠀⠀⠀⠀⠀⠀⠀⠀⠀⠀⠀⠀⠀⠀⠀⠀⠀⠀\u001b[38;5;8m│\u001b[0m \u001b[38;5;8m\u001b[0m\n",
      "         \u001b[38;5;8m-200\u001b[0m \u001b[38;5;8m│\u001b[0m⠀⠀⠀⠀⠀⠀⠀⠀⠀⠀⠀⠀⠀⠀⠀⠀⠀⠀⠀⠀⠀⠀⠀⠀⠀⠀⠀⠀⠀⠀⠀⠀⠀⠀⠀⠀⠀⠀⠀⠀\u001b[38;5;8m│\u001b[0m \u001b[38;5;8m\u001b[0m\n",
      "              \u001b[38;5;8m└────────────────────────────────────────┘\u001b[0m \n",
      "              ⠀\u001b[38;5;8m0\u001b[0m⠀⠀⠀⠀⠀⠀⠀⠀⠀⠀⠀⠀⠀⠀⠀⠀⠀⠀\u001b[38;5;8m\u001b[0m⠀⠀⠀⠀⠀⠀⠀⠀⠀⠀⠀⠀⠀⠀⠀\u001b[38;5;8m400000\u001b[0m⠀ \n",
      "              ⠀⠀⠀⠀⠀⠀⠀⠀⠀⠀⠀⠀⠀⠀⠀⠀⠀⠀Episode⠀⠀⠀⠀⠀⠀⠀⠀⠀⠀⠀⠀⠀⠀⠀⠀⠀ \n"
     ]
    },
    {
     "data": {
      "text/plain": [
       "TotalRewardPerEpisode([-1.8000000000000003, -1.85, -2.650000000000001, -4.199999999999997, -1.9000000000000004, -2.8000000000000007, -2.4500000000000006, -5.049999999999994, -1.75, -1.35  …  -4.7999999999999945, -39.249999999999964, -8.099999999999984, -16.400000000000084, -7.249999999999986, -11.550000000000015, -18.20000000000011, -12.850000000000033, -26.65000000000023, -7.649999999999984], 0.0, true)"
      ]
     },
     "execution_count": 12,
     "metadata": {},
     "output_type": "execute_result"
    }
   ],
   "source": [
    "run(mcpolicy, env, StopAfterEpisode(200_000), hook)"
   ]
  },
  {
   "cell_type": "code",
   "execution_count": 13,
   "id": "29d22919",
   "metadata": {},
   "outputs": [
    {
     "data": {
      "text/plain": [
       "typename(Agent)\n",
       "├─ policy => typename(QBasedPolicy)\n",
       "│  ├─ learner => typename(MonteCarloLearner)\n",
       "│  │  ├─ approximator => typename(TabularApproximator)\n",
       "│  │  │  ├─ table => 4×64 Matrix{Float64}\n",
       "│  │  │  └─ optimizer => typename(Flux.Optimise.InvDecay)\n",
       "│  │  │     ├─ gamma => 1.0\n",
       "│  │  │     └─ state => typename(IdDict)\n",
       "│  │  ├─ γ => 0.999\n",
       "│  │  ├─ kind => typename(ReinforcementLearningZoo.FirstVisit)\n",
       "│  │  └─ sampling => typename(ReinforcementLearningZoo.NoSampling)\n",
       "│  └─ explorer => typename(EpsilonGreedyExplorer)\n",
       "│     ├─ ϵ_stable => 0.1\n",
       "│     ├─ ϵ_init => 1.0\n",
       "│     ├─ warmup_steps => 0\n",
       "│     ├─ decay_steps => 0\n",
       "│     ├─ step => 54478652\n",
       "│     ├─ rng => typename(Random._GLOBAL_RNG)\n",
       "│     └─ is_training => true\n",
       "└─ trajectory => typename(Trajectory)\n",
       "   └─ traces => typename(NamedTuple)\n",
       "      ├─ state => 0-element Vector{Int64}\n",
       "      ├─ action => 0-element Vector{Int64}\n",
       "      ├─ reward => 0-element Vector{Float32}\n",
       "      └─ terminal => 0-element Vector{Bool}\n"
      ]
     },
     "execution_count": 13,
     "metadata": {},
     "output_type": "execute_result"
    }
   ],
   "source": [
    "agentMC = Agent(\n",
    "           policy = mcpolicy,\n",
    "           trajectory = VectorSARTTrajectory()\n",
    "       )"
   ]
  },
  {
   "cell_type": "code",
   "execution_count": 14,
   "id": "1db23f88",
   "metadata": {},
   "outputs": [
    {
     "name": "stderr",
     "output_type": "stream",
     "text": [
      "\u001b[32mProgress: 100%|█████████████████████████████████████████| Time: 0:00:09\u001b[39m\n"
     ]
    },
    {
     "name": "stdout",
     "output_type": "stream",
     "text": [
      "              ⠀⠀⠀⠀⠀⠀⠀⠀⠀\u001b[97;1mTotal reward per episode\u001b[0m⠀⠀⠀⠀⠀⠀⠀⠀⠀ \n",
      "              \u001b[38;5;8m┌────────────────────────────────────────┐\u001b[0m \n",
      "          \u001b[38;5;8m100\u001b[0m \u001b[38;5;8m│\u001b[0m⠀⠀⠀⠀⠀⠀⠀⠀⠀⠀⠀⠀⠀⠀⠀⠀⠀⠀⠀⠀⠀⠀⠀⠀⠀⠀⠀⠀⠀⠀⠀⠀⠀⠀⠀⠀⠀⠀⠀⠀\u001b[38;5;8m│\u001b[0m \u001b[38;5;8m\u001b[0m\n",
      "             \u001b[38;5;8m\u001b[0m \u001b[38;5;8m│\u001b[0m⠀⠀⠀⠀⠀⠀⠀⠀⠀⠀⠀⠀⠀⠀⠀⠀⠀⠀⠀⠀⠀⠀⠀⠀⠀⠀⠀⠀⠀⠀⠀⠀⠀⠀⠀⠀⠀⠀⠀⠀\u001b[38;5;8m│\u001b[0m \u001b[38;5;8m\u001b[0m\n",
      "             \u001b[38;5;8m\u001b[0m \u001b[38;5;8m│\u001b[0m⠀⠀⠀⠀⠀⠀⠀⠀⠀⠀⠀⠀⠀⠀⠀⠀⠀⠀⠀⠀⠀⠀⠀⠀⠀⠀⠀⠀⠀⠀⠀⠀⠀⠀⠀⠀⠀⠀⠀⠀\u001b[38;5;8m│\u001b[0m \u001b[38;5;8m\u001b[0m\n",
      "             \u001b[38;5;8m\u001b[0m \u001b[38;5;8m│\u001b[0m⠀⠀⠀⠀⠀⠀⠀⠀⠀⠀⠀⠀⠀⠀⠀⠀⠀⠀⠀⠀⠀⠀⠀⠀⠀⠀⠀⠀⠀⠀⠀⠀⠀⠀⠀⠀⠀⠀⠀⠀\u001b[38;5;8m│\u001b[0m \u001b[38;5;8m\u001b[0m\n",
      "             \u001b[38;5;8m\u001b[0m \u001b[38;5;8m│\u001b[0m⠀\u001b[38;5;2m⡀\u001b[0m⠀⠀⠀⠀⠀\u001b[38;5;2m⢀\u001b[0m⠀⠀⠀⠀\u001b[38;5;2m⢀\u001b[0m⠀⠀⠀⠀⠀⠀⠀⠀⠀⠀⠀⠀⠀⠀\u001b[38;5;2m⣀\u001b[0m\u001b[38;5;2m⣀\u001b[0m\u001b[38;5;2m⣀\u001b[0m\u001b[38;5;2m⣀\u001b[0m\u001b[38;5;2m⣀\u001b[0m\u001b[38;5;2m⣀\u001b[0m\u001b[38;5;2m⣀\u001b[0m\u001b[38;5;2m⣀\u001b[0m\u001b[38;5;2m⣀\u001b[0m\u001b[38;5;2m⣀\u001b[0m\u001b[38;5;2m⣀\u001b[0m\u001b[38;5;2m⣀\u001b[0m\u001b[38;5;2m⣀\u001b[0m\u001b[38;5;8m│\u001b[0m \u001b[38;5;8m\u001b[0m\n",
      "             \u001b[38;5;8m\u001b[0m \u001b[38;5;8m│\u001b[0m\u001b[38;5;2m⢿\u001b[0m\u001b[38;5;2m⠿\u001b[0m\u001b[38;5;2m⠿\u001b[0m\u001b[38;5;2m⠿\u001b[0m\u001b[38;5;2m⠿\u001b[0m\u001b[38;5;2m⠿\u001b[0m\u001b[38;5;2m⠿\u001b[0m\u001b[38;5;2m⠿\u001b[0m\u001b[38;5;2m⠿\u001b[0m\u001b[38;5;2m⠿\u001b[0m\u001b[38;5;2m⠿\u001b[0m\u001b[38;5;2m⠿\u001b[0m\u001b[38;5;2m⠿\u001b[0m\u001b[38;5;2m⣿\u001b[0m\u001b[38;5;2m⣿\u001b[0m\u001b[38;5;2m⣿\u001b[0m\u001b[38;5;2m⣿\u001b[0m\u001b[38;5;2m⣿\u001b[0m\u001b[38;5;2m⣿\u001b[0m\u001b[38;5;2m⣿\u001b[0m\u001b[38;5;2m⣿\u001b[0m\u001b[38;5;2m⣿\u001b[0m\u001b[38;5;2m⣿\u001b[0m\u001b[38;5;2m⣿\u001b[0m\u001b[38;5;2m⣿\u001b[0m\u001b[38;5;2m⣿\u001b[0m\u001b[38;5;2m⣿\u001b[0m\u001b[38;5;2m⠋\u001b[0m\u001b[38;5;2m⠉\u001b[0m\u001b[38;5;2m⠉\u001b[0m\u001b[38;5;2m⠉\u001b[0m\u001b[38;5;2m⠉\u001b[0m\u001b[38;5;2m⠉\u001b[0m\u001b[38;5;2m⠉\u001b[0m\u001b[38;5;2m⠉\u001b[0m\u001b[38;5;2m⠉\u001b[0m\u001b[38;5;2m⠉\u001b[0m\u001b[38;5;2m⠉\u001b[0m\u001b[38;5;2m⠉\u001b[0m\u001b[38;5;2m⠉\u001b[0m\u001b[38;5;8m│\u001b[0m \u001b[38;5;8m\u001b[0m\n",
      "             \u001b[38;5;8m\u001b[0m \u001b[38;5;8m│\u001b[0m⠀⠀⠀⠀⠀⠀⠀⠀⠀⠀⠀⠀⠀\u001b[38;5;2m⣿\u001b[0m\u001b[38;5;2m⣿\u001b[0m\u001b[38;5;2m⣿\u001b[0m\u001b[38;5;2m⣿\u001b[0m\u001b[38;5;2m⣿\u001b[0m\u001b[38;5;2m⣿\u001b[0m\u001b[38;5;2m⣿\u001b[0m\u001b[38;5;2m⣿\u001b[0m\u001b[38;5;2m⣿\u001b[0m\u001b[38;5;2m⣿\u001b[0m\u001b[38;5;2m⣿\u001b[0m\u001b[38;5;2m⣿\u001b[0m\u001b[38;5;2m⣿\u001b[0m\u001b[38;5;2m⣿\u001b[0m⠀⠀⠀⠀⠀⠀⠀⠀⠀⠀⠀⠀⠀\u001b[38;5;8m│\u001b[0m \u001b[38;5;8m\u001b[0m\n",
      "   Score     \u001b[38;5;8m\u001b[0m \u001b[38;5;8m│\u001b[0m⠀⠀⠀⠀⠀⠀⠀⠀⠀⠀⠀⠀⠀\u001b[38;5;2m⣿\u001b[0m\u001b[38;5;2m⣿\u001b[0m\u001b[38;5;2m⣿\u001b[0m\u001b[38;5;2m⣿\u001b[0m\u001b[38;5;2m⣿\u001b[0m\u001b[38;5;2m⣿\u001b[0m\u001b[38;5;2m⣿\u001b[0m\u001b[38;5;2m⣿\u001b[0m\u001b[38;5;2m⣿\u001b[0m\u001b[38;5;2m⣿\u001b[0m\u001b[38;5;2m⣿\u001b[0m\u001b[38;5;2m⣿\u001b[0m\u001b[38;5;2m⣿\u001b[0m\u001b[38;5;2m⣿\u001b[0m⠀⠀⠀⠀⠀⠀⠀⠀⠀⠀⠀⠀⠀\u001b[38;5;8m│\u001b[0m \u001b[38;5;8m\u001b[0m\n",
      "             \u001b[38;5;8m\u001b[0m \u001b[38;5;8m│\u001b[0m⠀⠀⠀⠀⠀⠀⠀⠀⠀⠀⠀⠀⠀\u001b[38;5;2m⣿\u001b[0m\u001b[38;5;2m⣿\u001b[0m\u001b[38;5;2m⣿\u001b[0m\u001b[38;5;2m⣿\u001b[0m\u001b[38;5;2m⣿\u001b[0m\u001b[38;5;2m⣿\u001b[0m\u001b[38;5;2m⣿\u001b[0m\u001b[38;5;2m⣿\u001b[0m\u001b[38;5;2m⣿\u001b[0m\u001b[38;5;2m⣿\u001b[0m\u001b[38;5;2m⣿\u001b[0m\u001b[38;5;2m⣿\u001b[0m\u001b[38;5;2m⣿\u001b[0m\u001b[38;5;2m⡿\u001b[0m⠀⠀⠀⠀⠀⠀⠀⠀⠀⠀⠀⠀⠀\u001b[38;5;8m│\u001b[0m \u001b[38;5;8m\u001b[0m\n",
      "             \u001b[38;5;8m\u001b[0m \u001b[38;5;8m│\u001b[0m⠀⠀⠀⠀⠀⠀⠀⠀⠀⠀⠀⠀⠀\u001b[38;5;2m⢿\u001b[0m\u001b[38;5;2m⣿\u001b[0m\u001b[38;5;2m⢿\u001b[0m\u001b[38;5;2m⢿\u001b[0m\u001b[38;5;2m⢹\u001b[0m\u001b[38;5;2m⢿\u001b[0m\u001b[38;5;2m⣿\u001b[0m\u001b[38;5;2m⣿\u001b[0m\u001b[38;5;2m⡿\u001b[0m\u001b[38;5;2m⣿\u001b[0m\u001b[38;5;2m⣿\u001b[0m\u001b[38;5;2m⢹\u001b[0m\u001b[38;5;2m⣿\u001b[0m\u001b[38;5;2m⡇\u001b[0m⠀⠀⠀⠀⠀⠀⠀⠀⠀⠀⠀⠀⠀\u001b[38;5;8m│\u001b[0m \u001b[38;5;8m\u001b[0m\n",
      "             \u001b[38;5;8m\u001b[0m \u001b[38;5;8m│\u001b[0m⠀⠀⠀⠀⠀⠀⠀⠀⠀⠀⠀⠀⠀\u001b[38;5;2m⠈\u001b[0m⠀\u001b[38;5;2m⠈\u001b[0m\u001b[38;5;2m⠈\u001b[0m\u001b[38;5;2m⠈\u001b[0m\u001b[38;5;2m⠘\u001b[0m\u001b[38;5;2m⠁\u001b[0m\u001b[38;5;2m⢿\u001b[0m\u001b[38;5;2m⠁\u001b[0m\u001b[38;5;2m⢹\u001b[0m\u001b[38;5;2m⠋\u001b[0m\u001b[38;5;2m⢸\u001b[0m\u001b[38;5;2m⣿\u001b[0m\u001b[38;5;2m⠃\u001b[0m⠀⠀⠀⠀⠀⠀⠀⠀⠀⠀⠀⠀⠀\u001b[38;5;8m│\u001b[0m \u001b[38;5;8m\u001b[0m\n",
      "             \u001b[38;5;8m\u001b[0m \u001b[38;5;8m│\u001b[0m⠀⠀⠀⠀⠀⠀⠀⠀⠀⠀⠀⠀⠀⠀⠀⠀⠀⠀⠀⠀\u001b[38;5;2m⠘\u001b[0m⠀\u001b[38;5;2m⠈\u001b[0m⠀\u001b[38;5;2m⠸\u001b[0m\u001b[38;5;2m⠁\u001b[0m⠀⠀⠀⠀⠀⠀⠀⠀⠀⠀⠀⠀⠀⠀\u001b[38;5;8m│\u001b[0m \u001b[38;5;8m\u001b[0m\n",
      "             \u001b[38;5;8m\u001b[0m \u001b[38;5;8m│\u001b[0m⠀⠀⠀⠀⠀⠀⠀⠀⠀⠀⠀⠀⠀⠀⠀⠀⠀⠀⠀⠀⠀⠀⠀⠀⠀⠀⠀⠀⠀⠀⠀⠀⠀⠀⠀⠀⠀⠀⠀⠀\u001b[38;5;8m│\u001b[0m \u001b[38;5;8m\u001b[0m\n",
      "             \u001b[38;5;8m\u001b[0m \u001b[38;5;8m│\u001b[0m⠀⠀⠀⠀⠀⠀⠀⠀⠀⠀⠀⠀⠀⠀⠀⠀⠀⠀⠀⠀⠀⠀⠀⠀⠀⠀⠀⠀⠀⠀⠀⠀⠀⠀⠀⠀⠀⠀⠀⠀\u001b[38;5;8m│\u001b[0m \u001b[38;5;8m\u001b[0m\n",
      "         \u001b[38;5;8m-200\u001b[0m \u001b[38;5;8m│\u001b[0m⠀⠀⠀⠀⠀⠀⠀⠀⠀⠀⠀⠀⠀⠀⠀⠀⠀⠀⠀⠀⠀⠀⠀⠀⠀⠀⠀⠀⠀⠀⠀⠀⠀⠀⠀⠀⠀⠀⠀⠀\u001b[38;5;8m│\u001b[0m \u001b[38;5;8m\u001b[0m\n",
      "              \u001b[38;5;8m└────────────────────────────────────────┘\u001b[0m \n",
      "              ⠀\u001b[38;5;8m0\u001b[0m⠀⠀⠀⠀⠀⠀⠀⠀⠀⠀⠀⠀⠀⠀⠀⠀⠀⠀\u001b[38;5;8m\u001b[0m⠀⠀⠀⠀⠀⠀⠀⠀⠀⠀⠀⠀⠀⠀⠀\u001b[38;5;8m600000\u001b[0m⠀ \n",
      "              ⠀⠀⠀⠀⠀⠀⠀⠀⠀⠀⠀⠀⠀⠀⠀⠀⠀⠀Episode⠀⠀⠀⠀⠀⠀⠀⠀⠀⠀⠀⠀⠀⠀⠀⠀⠀ \n"
     ]
    },
    {
     "data": {
      "text/plain": [
       "TotalRewardPerEpisode([-1.8000000000000003, -1.85, -2.650000000000001, -4.199999999999997, -1.9000000000000004, -2.8000000000000007, -2.4500000000000006, -5.049999999999994, -1.75, -1.35  …  -1.8000000000000003, 0.04999999999999971, -1.85, -1.75, 0.1499999999999998, -1.65, -1.4, -1.65, 0.2499999999999999, -2.220446049250313e-16], 0.0, true)"
      ]
     },
     "execution_count": 14,
     "metadata": {},
     "output_type": "execute_result"
    }
   ],
   "source": [
    "run(agentMC, env, StopAfterEpisode(200_000), hook)"
   ]
  },
  {
   "cell_type": "markdown",
   "id": "79a57c1f",
   "metadata": {},
   "source": [
    "After learning how to build agents with the [<tt>ReinforcementLearning.jl</tt>]( https://juliareinforcementlearning.org/) package, we could implement our own agent and understand the logic of the Monte Carlo algorithm:"
   ]
  },
  {
   "cell_type": "code",
   "execution_count": 16,
   "id": "27d2e9a9",
   "metadata": {},
   "outputs": [
    {
     "data": {
      "text/plain": [
       "AgentMC"
      ]
     },
     "execution_count": 16,
     "metadata": {},
     "output_type": "execute_result"
    }
   ],
   "source": [
    "mutable struct AgentMC\n",
    "    env::FrozenLakeEnv\n",
    "    ϵ::Float64\n",
    "    β::Float64 #stopa dyskonta\n",
    "    Q::Array{Float64,2}#macierz wartosci dla kazdej z par:stan,akcja\n",
    "    C::Array{Float64,2} #macierz wystapien dla kazdej z par:stan,akcja\n",
    "    π::Array{Int} #strategia agenta\n",
    "end\n",
    "\n",
    "function AgentMC(env; ϵ = .2, β = 0.999)\n",
    "    return AgentMC(env,ϵ, β,\n",
    "        zeros(length(env.world), length(action_space(env))), \n",
    "        zeros(length(env.world), length(action_space(env))),\n",
    "        rand(1:length(action_space(env)),length(env.world)))\n",
    "end"
   ]
  },
  {
   "cell_type": "markdown",
   "id": "c1f47b63",
   "metadata": {},
   "source": [
    "Now, we could implement the logic of the learning process:"
   ]
  },
  {
   "cell_type": "code",
   "execution_count": 17,
   "id": "3f29a0fa",
   "metadata": {},
   "outputs": [
    {
     "data": {
      "text/plain": [
       "get_episode (generic function with 2 methods)"
      ]
     },
     "execution_count": 17,
     "metadata": {},
     "output_type": "execute_result"
    }
   ],
   "source": [
    "function get_episode(agent, π = agent.π; maxstep = 1000)\n",
    "    step = 1\n",
    "    if agent.env.ES == true \n",
    "        S = rand(state_space(agent.env)) \n",
    "        action = rand(action_space(agent.env))\n",
    "    else\n",
    "        S = 1\n",
    "        rand() < agent.ϵ ? action = rand(action_space(agent.env)) : action = π[S]\n",
    "    end\n",
    "    agent.env(action)\n",
    "    r = agent.env.reward\n",
    "    episode = [(S, action, r)]\n",
    "    if is_terminated(agent.env) \n",
    "        reset!(agent.env)\n",
    "        return episode\n",
    "    end\n",
    "    while step < maxstep\n",
    "        S = state(agent.env)\n",
    "        (rand() < agent.ϵ) && (agent.env.ES == false) ? action = rand(action_space(agent.env)) : action = π[S]\n",
    "        agent.env(action)\n",
    "        r = agent.env.reward\n",
    "        push!(episode, (S, action,r))\n",
    "        if is_terminated(agent.env)\n",
    "            reset!(agent.env)\n",
    "            break\n",
    "        end\n",
    "        step +=1\n",
    "    end\n",
    "    return episode\n",
    "end"
   ]
  },
  {
   "cell_type": "code",
   "execution_count": 18,
   "id": "e9046b1c",
   "metadata": {},
   "outputs": [
    {
     "data": {
      "text/plain": [
       "update! (generic function with 1 method)"
      ]
     },
     "execution_count": 18,
     "metadata": {},
     "output_type": "execute_result"
    }
   ],
   "source": [
    "function update!(agent)\n",
    "    episode = get_episode(agent)\n",
    "    R = 0\n",
    "    occur_first = reverse(vcat(findfirst.(isequal.(unique(episode)), [episode]), length(episode) + 1))\n",
    "    for k = 2:length(occur_first)\n",
    "        for i = occur_first[k-1] - 1:-1:occur_first[k]\n",
    "            state,action,r = episode[i]\n",
    "            R = agent.β*R + r\n",
    "        end\n",
    "        state,action,r = episode[occur_first[k]]\n",
    "        agent.C[state,action] += 1\n",
    "        agent.Q[state,action] += (R - agent.Q[state,action])/ agent.C[state,action]\n",
    "        agent.π[state] = argmax(agent.Q[state,:])\n",
    "    end  \n",
    "    episode[end][3] == 1.0 ? (return 1.0) : (return 0.0)\n",
    "end"
   ]
  },
  {
   "cell_type": "code",
   "execution_count": 19,
   "id": "fdb70dc0",
   "metadata": {},
   "outputs": [
    {
     "data": {
      "text/plain": [
       "MC! (generic function with 1 method)"
      ]
     },
     "execution_count": 19,
     "metadata": {},
     "output_type": "execute_result"
    }
   ],
   "source": [
    "function MC!(agent; maxit = 100000)\n",
    "    iter = 0\n",
    "    successes = 0.0\n",
    "    success_rate = []\n",
    "    while iter < maxit\n",
    "        successes += update!(agent)\n",
    "        push!(success_rate, successes/iter)\n",
    "        iter +=1\n",
    "    end\n",
    "    return success_rate\n",
    "end"
   ]
  },
  {
   "cell_type": "markdown",
   "id": "c9b29ad2",
   "metadata": {},
   "source": [
    "Finally, we could run the experiments and take a look at the results:"
   ]
  },
  {
   "cell_type": "code",
   "execution_count": 39,
   "id": "7eb54f1c",
   "metadata": {},
   "outputs": [
    {
     "data": {
      "text/plain": [
       "4×4 Matrix{Char}:\n",
       " '⇓'  '⇒'  '⇓'  '⇐'\n",
       " '⇓'  '⦷'  '⇓'  '⦷'\n",
       " '⇒'  '⇒'  '⇓'  '⦷'\n",
       " '⦷'  '⇒'  '⇒'  'G'"
      ]
     },
     "execution_count": 39,
     "metadata": {},
     "output_type": "execute_result"
    }
   ],
   "source": [
    "#xploring starts \n",
    "agent = AgentMC(FrozenLakeEnv(:grid4x4, ES = true));\n",
    "MC!(agent, maxit = 500_000)\n",
    "print_policy(agent.π, agent.env.world)"
   ]
  },
  {
   "cell_type": "code",
   "execution_count": 40,
   "id": "093b20f8",
   "metadata": {},
   "outputs": [
    {
     "data": {
      "text/plain": [
       "4×4 Matrix{Char}:\n",
       " '⇓'  '⇒'  '⇓'  '⇐'\n",
       " '⇓'  '⦷'  '⇓'  '⦷'\n",
       " '⇒'  '⇓'  '⇓'  '⦷'\n",
       " '⦷'  '⇒'  '⇒'  'G'"
      ]
     },
     "execution_count": 40,
     "metadata": {},
     "output_type": "execute_result"
    }
   ],
   "source": [
    "#without exploring starts\n",
    "agent = AgentMC(FrozenLakeEnv(:grid4x4, ES = false));\n",
    "success_rate = MC!(agent; maxit = 500_000)\n",
    "print_policy(agent.π, agent.env.world)"
   ]
  },
  {
   "cell_type": "code",
   "execution_count": 41,
   "id": "19d0302d",
   "metadata": {
    "scrolled": true
   },
   "outputs": [
    {
     "data": {
      "image/png": "[encoded data removed]",
      "text/plain": [
       "Figure(PyObject <Figure size 640x480 with 1 Axes>)"
      ]
     },
     "metadata": {},
     "output_type": "display_data"
    },
    {
     "data": {
      "text/plain": [
       "PyObject Text(24.000000000000007, 0.5, 'success rate')"
      ]
     },
     "execution_count": 41,
     "metadata": {},
     "output_type": "execute_result"
    }
   ],
   "source": [
    "plot(success_rate[2:end])\n",
    "xlabel(\"Time\")\n",
    "ylabel(\"success rate\")"
   ]
  },
  {
   "cell_type": "code",
   "execution_count": null,
   "id": "ca452f60",
   "metadata": {},
   "outputs": [],
   "source": []
  }
 ],
 "metadata": {
  "kernelspec": {
   "display_name": "Julia 1.8.5",
   "language": "julia",
   "name": "julia-1.8"
  },
  "language_info": {
   "file_extension": ".jl",
   "mimetype": "application/julia",
   "name": "julia",
   "version": "1.8.5"
  }
 },
 "nbformat": 4,
 "nbformat_minor": 5
}
