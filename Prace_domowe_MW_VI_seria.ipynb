{
 "cells": [
  {
   "cell_type": "markdown",
   "metadata": {},
   "source": [
    "# Prace Domowe - Modelowanie Wieloagentowe  VI seria"
   ]
  },
  {
   "cell_type": "markdown",
   "metadata": {},
   "source": [
    "Z podanych poleceń należy wybrać jedno, rozwiązanie proszę przesłać na adres [bpankra@sgh.waw.pl](mailto:bpankra@sgh.waw.pl). Termin oddania <b>19 Stycznia 2023</b> koniec dnia."
   ]
  },
  {
   "cell_type": "markdown",
   "metadata": {},
   "source": [
    "## Zadanie 1\n",
    "\n",
    "Zmodyfikuj prezentowany na zajęciach kod z liniową aproksymacją funkcji wartości w środowisku <tt>Mountain Car</tt> tak aby uczył się za pomocą algorytmu $REINFORCE$. Jak zachowuje się rozwiązanie?\n",
    "\n",
    "\n",
    "## Zadanie 2\n",
    "\n",
    "Zaimplementuj algorytm aktora-krytyka w ciągłej wersji środowiska <tt>Mountain Car</tt>."
   ]
  }
 ],
 "metadata": {
  "kernelspec": {
   "display_name": "Julia 1.7.0",
   "language": "julia",
   "name": "julia-1.7"
  },
  "language_info": {
   "file_extension": ".jl",
   "mimetype": "application/julia",
   "name": "julia",
   "version": "1.7.0"
  }
 },
 "nbformat": 4,
 "nbformat_minor": 2
}
