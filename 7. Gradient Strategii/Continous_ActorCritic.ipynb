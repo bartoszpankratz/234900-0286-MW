{
 "cells": [
  {
   "cell_type": "markdown",
   "id": "16ddcb93",
   "metadata": {},
   "source": [
    "# Continous actions Actor Critic"
   ]
  },
  {
   "cell_type": "markdown",
   "id": "4b775562",
   "metadata": {},
   "source": [
    "Based on example avalaible [here](https://cs.stanford.edu/people/karpathy/convnetjs/demo/rldemo.html). Codes for original case are avalaible [here](https://github.com/karpathy/convnetjs/blob/4c3358a315b4d71f31a0d532eb5d1700e9e592ee/demo/js/rldemo.js)."
   ]
  },
  {
   "cell_type": "markdown",
   "id": "4a8b3fc6",
   "metadata": {},
   "source": [
    "Environment"
   ]
  },
  {
   "cell_type": "code",
   "execution_count": 1,
   "id": "ccbdb5d7",
   "metadata": {},
   "outputs": [],
   "source": [
    "using Random, LinearAlgebra, ReinforcementLearning, IntervalSets\n",
    "using Flux\n",
    "using Plots; gr()\n",
    "import StatsBase.sample"
   ]
  },
  {
   "cell_type": "markdown",
   "id": "50f29940",
   "metadata": {},
   "source": [
    "Firstly, let us define objects existing in the environment:"
   ]
  },
  {
   "cell_type": "code",
   "execution_count": 2,
   "id": "47485a8b-0c13-4df2-ad1b-279dab7a5a39",
   "metadata": {},
   "outputs": [],
   "source": [
    "struct Space{T}\n",
    "    s::T\n",
    "end\n",
    "\n",
    "Random.rand(s::Space) = rand(Random.GLOBAL_RNG, s)\n",
    "\n",
    "Random.rand(rng::AbstractRNG, s::Space) =\n",
    "    map(s.s) do x\n",
    "        rand(rng, x)\n",
    "    end\n",
    "\n",
    "function Base.in(X, S::Space)\n",
    "    if length(X) == length(S.s)\n",
    "        for (x, s) in zip(X, S.s)\n",
    "            if x ∉ s\n",
    "                return false\n",
    "            end\n",
    "        end\n",
    "        return true\n",
    "    else\n",
    "        return false\n",
    "    end\n",
    "end\n",
    "\n",
    "Base.size(s::Space) = size(s.s)\n",
    "Base.length(s::Space) = length(s.s)"
   ]
  },
  {
   "cell_type": "code",
   "execution_count": 3,
   "id": "75fafea4",
   "metadata": {},
   "outputs": [
    {
     "data": {
      "text/plain": [
       "Ball"
      ]
     },
     "execution_count": 3,
     "metadata": {},
     "output_type": "execute_result"
    }
   ],
   "source": [
    "#Balls object - red ones (type \"0\") are poisonous and green ones (type \"1\") are edible \n",
    "mutable struct Ball{TI<:Integer, TF<:AbstractFloat}\n",
    "    kind::TI #1 poison, 2 food\n",
    "    loc::NamedTuple{(:x, :y), Tuple{TF, TF}}\n",
    "    radius::Float64\n",
    "    age::TI\n",
    "end\n",
    "\n",
    "\n",
    "#balls constructor\n",
    "Ball(k) = k ∈ [1,2] ? Ball(k,(x =rand(), y = rand()),0.05, rand(1:100)) : @error \"wrong type of object - it could be 1 or 2!\""
   ]
  },
  {
   "cell_type": "markdown",
   "id": "899907de",
   "metadata": {},
   "source": [
    "And sensors that agent use to interact with the environment:"
   ]
  },
  {
   "cell_type": "code",
   "execution_count": 4,
   "id": "3a344c6d",
   "metadata": {
    "scrolled": true
   },
   "outputs": [
    {
     "data": {
      "text/plain": [
       "Eye"
      ]
     },
     "execution_count": 4,
     "metadata": {},
     "output_type": "execute_result"
    }
   ],
   "source": [
    "#definition of agent's eye:\n",
    "mutable struct Eye{TI<:Integer, TF<:AbstractFloat}\n",
    "    angle::TF\n",
    "    max_range::TF\n",
    "    sensed_proximity::TF\n",
    "    sensed_type::TI #0 nothing; 1 poison, 2 food, 3 wall\n",
    "end\n",
    "\n",
    "Eye(a) = Eye(a, 0.2,0.2, 0)"
   ]
  },
  {
   "cell_type": "markdown",
   "id": "78d40020",
   "metadata": {},
   "source": [
    "Now, we could proceed with defining an environment:"
   ]
  },
  {
   "cell_type": "code",
   "execution_count": 5,
   "id": "90ac8a64",
   "metadata": {},
   "outputs": [
    {
     "data": {
      "text/plain": [
       "ContinuousLabirynthEnv"
      ]
     },
     "execution_count": 5,
     "metadata": {},
     "output_type": "execute_result"
    }
   ],
   "source": [
    "mutable struct ContinuousLabirynthEnv <: AbstractEnv\n",
    "    walls::Vector{Vector{NamedTuple{(:x, :y), Tuple{Float64, Float64}}}}\n",
    "    nb::Int64\n",
    "    balls::Vector{Ball{Int64, Float64}}\n",
    "    observation_space::Space{Vector{ClosedInterval{Float64}}}\n",
    "    action_space::Space{Vector{ClosedInterval{Float64}}}\n",
    "    velocity::Vector{Float64}\n",
    "    old_position::NamedTuple{(:x, :y), Tuple{Float64, Float64}}\n",
    "    position::NamedTuple{(:x, :y), Tuple{Float64, Float64}}\n",
    "    radius::Float64\n",
    "    angle::Float64\n",
    "    eyes::Vector{Eye{Int64, Float64}}\n",
    "    digestion_signal::Float64\n",
    "end\n",
    "Main.ContinuousLabirynthEnv"
   ]
  },
  {
   "cell_type": "code",
   "execution_count": 6,
   "id": "2568fc23",
   "metadata": {},
   "outputs": [
    {
     "data": {
      "text/plain": [
       "ContinuousLabirynthEnv"
      ]
     },
     "execution_count": 6,
     "metadata": {},
     "output_type": "execute_result"
    }
   ],
   "source": [
    "function ContinuousLabirynthEnv(nb; radius = 0.05)\n",
    "    walls = [#bounds of the map:\n",
    "        [(x = 0.0, y = 0.0),(x = 0.0, y = 1.0)],\n",
    "        [(x = 0.0, y = 0.0),(x = 1.0, y = 0.0)],\n",
    "        [(x = 1.0, y = 0.0),(x = 1.0, y = 1.0)],\n",
    "        [(x = 0.0, y = 1.0),(x = 1.0, y = 1.0)],\n",
    "        #walls inside the map:\n",
    "        [(x = 0.1, y = 0.1),(x = 0.3, y = 0.1)],\n",
    "        [(x = 0.1, y = 0.9),(x = 0.3, y = 0.9)],\n",
    "        [(x = 0.3, y = 0.1),(x = 0.3, y = 0.9)],\n",
    "        \n",
    "        [(x = 0.7, y = 0.1),(x = 0.9, y = 0.1)],\n",
    "        [(x = 0.7, y = 0.9),(x = 0.9, y = 0.9)],\n",
    "        #[(x = 0.9, y = 0.1),(x = 0.9, y = 0.9)], #can be use instead of the latter one:\n",
    "        [(x = 0.7, y = 0.1),(x = 0.7, y = 0.9)]\n",
    "        ]\n",
    "    balls = [Ball(rand([1,2])) for i = 1:nb]\n",
    "    position = (x = rand(), y = rand());\n",
    "    eyes = [Eye((k - 4)*0.25) for k = 1:9];\n",
    "    observation_space = Space([0.0..1.0 for i = 1:(3 * length(eyes))])\n",
    "    action_space = Space([0.0..1.0, 0.0..1.0])\n",
    "    return ContinuousLabirynthEnv(walls, nb, balls, observation_space, action_space, [0.0, 0.0],\n",
    "            position, position, radius, 0.0, eyes, 0.0)\n",
    "end"
   ]
  },
  {
   "cell_type": "markdown",
   "id": "bad0d97b",
   "metadata": {},
   "source": [
    "Auxilliary functions - physics of the environment:"
   ]
  },
  {
   "cell_type": "code",
   "execution_count": 7,
   "id": "7aa8033a",
   "metadata": {},
   "outputs": [
    {
     "data": {
      "text/plain": [
       "rot (generic function with 1 method)"
      ]
     },
     "execution_count": 7,
     "metadata": {},
     "output_type": "execute_result"
    }
   ],
   "source": [
    "#rotate a vector clockwise https://en.wikipedia.org/wiki/Rotation_matrix\n",
    "\n",
    "rot(vec, angle) = [cos(angle) sin(angle); -sin(angle) cos(angle)] * vec"
   ]
  },
  {
   "cell_type": "code",
   "execution_count": 8,
   "id": "ed8dd6f9",
   "metadata": {},
   "outputs": [
    {
     "data": {
      "text/plain": [
       "intersect (generic function with 1 method)"
      ]
     },
     "execution_count": 8,
     "metadata": {},
     "output_type": "execute_result"
    }
   ],
   "source": [
    "#line circle intersect: \n",
    "#https://codereview.stackexchange.com/questions/86421/line-segment-to-circle-collision-algorithm\n",
    "function intersect(vec,centre,radius)\n",
    "    v = values(vec[2]) .- values(vec[1])\n",
    "    a = sum(v.*v)\n",
    "    b = 2* sum(v .* (values(vec[1]) .- values(centre)))\n",
    "    c =  sum(values(vec[1]) .* values(vec[1])) + sum(values(centre) \n",
    "        .* values(centre)) - 2 * sum(values(vec[1]) .* values(centre)) - radius ^2\n",
    "    Δ = b^2 - 4*a*c\n",
    "    if Δ < 0\n",
    "        return false\n",
    "    else\n",
    "        t₁ = (-b + √Δ)/(2*a)\n",
    "        t₂ = (-b - √Δ)/(2*a)\n",
    "        if 0.0 ≤ t₁ ≤ 1 || 0.0 ≤ t₂ ≤ 1\n",
    "            p₁= values(vec[1]) .+ t₁ .* v\n",
    "            p₂ = values(vec[1]) .+ t₂ .* v\n",
    "            norm(p₁ .- values(vec[1])) < norm(p₂ .- values(vec[1])) ? (return p₁) : (return p₂)\n",
    "        else\n",
    "            return false\n",
    "        end \n",
    "    end\n",
    "end"
   ]
  },
  {
   "cell_type": "code",
   "execution_count": 9,
   "id": "20f84c38",
   "metadata": {
    "scrolled": true
   },
   "outputs": [
    {
     "data": {
      "text/plain": [
       "intersect (generic function with 2 methods)"
      ]
     },
     "execution_count": 9,
     "metadata": {},
     "output_type": "execute_result"
    }
   ],
   "source": [
    "#interscetion of two lines:\n",
    "#http://www-cs.ccny.cuny.edu/~wolberg/capstone/intersection/Intersection%20point%20of%20two%20lines.html\n",
    "function intersect(vec1,vec2)\n",
    "    denominator = (vec2[2].y - vec2[1].y)*(vec1[2].x - vec1[1].x) - (vec2[2].x - vec2[1].x)*(vec1[2].y - vec1[1].y)\n",
    "    denominator == 0.0 && (return false)\n",
    "    u₁ = ((vec2[2].x - vec2[1].x)*(vec1[1].y - vec2[1].y) - (vec2[2].y - vec2[1].y)*(vec1[1].x - vec2[1].x)) / denominator\n",
    "    u₂ = ((vec1[2].x - vec1[1].x)*(vec1[1].y - vec2[1].y) - (vec1[2].y - vec1[1].y)*(vec1[1].x - vec2[1].x)) / denominator\n",
    "    (0.0 ≤ u₁ ≤ 1.0 &&  0.0 ≤ u₂ ≤ 1.0) ? (return (vec1[1].x + u₁ * (vec1[2].x - vec1[1].x),\n",
    "                                                    vec1[1].y + u₁ * (vec1[2].y - vec1[1].y))) : (return false) \n",
    "end\n",
    "\n",
    "\n"
   ]
  },
  {
   "cell_type": "markdown",
   "id": "489b2007",
   "metadata": {},
   "source": [
    "Other auxilliary functions:"
   ]
  },
  {
   "cell_type": "code",
   "execution_count": 10,
   "id": "fb9f99fd",
   "metadata": {},
   "outputs": [
    {
     "data": {
      "text/plain": [
       "eyesight (generic function with 2 methods)"
      ]
     },
     "execution_count": 10,
     "metadata": {},
     "output_type": "execute_result"
    }
   ],
   "source": [
    "#vector of agent's eyesight:\n",
    "eyesight(env, eye) = [env.position, (x = env.position.x + sin(env.angle + eye.angle)*eye.sensed_proximity, \n",
    "                            y = env.position.y + cos(env.angle + eye.angle)*eye.sensed_proximity)]\n",
    "\n",
    "eyesight(env) = [eyesight(env,eye) for eye in env.eyes]"
   ]
  },
  {
   "cell_type": "code",
   "execution_count": 11,
   "id": "961cd37d",
   "metadata": {},
   "outputs": [],
   "source": [
    "#plotting \n",
    "function Plots.plot(env::ContinuousLabirynthEnv)\n",
    "    p = Plots.plot(framestyle = :none, legend=:none)\n",
    "    \n",
    "    for wall in env.walls\n",
    "        plot!([w.x for w in wall],[w.y for w in wall], linewidth=2, c = :blue)\n",
    "    end\n",
    "    \n",
    "    scatter!([ball.loc.x for ball in env.balls if ball.kind == 1], \n",
    "            [ball.loc.y for ball in env.balls if ball.kind == 1], \n",
    "            color=:red, m = :circle, markersize=16, alpha=0.6)\n",
    "\n",
    "    scatter!([ball.loc.x for ball in env.balls if ball.kind == 2], \n",
    "            [ball.loc.y for ball in env.balls if ball.kind == 2], \n",
    "            color=:green, m = :circle, markersize=16, alpha=0.6)\n",
    "    \n",
    "    scatter!([env.position.x,], [env.position.y,], color=:orange, markersize=20, alpha=0.8)\n",
    "\n",
    "    for eye in eyesight(env) \n",
    "        plot!([e.x for e in eye],[e.y for e in eye], linewidth=0.5, c = :black,alpha=0.6)\n",
    "    end\n",
    "    display(p) \n",
    "end"
   ]
  },
  {
   "cell_type": "markdown",
   "id": "dcac814c",
   "metadata": {},
   "source": [
    "Finally, the most important functions:"
   ]
  },
  {
   "cell_type": "code",
   "execution_count": 12,
   "id": "3aca158d",
   "metadata": {},
   "outputs": [],
   "source": [
    "#functions:\n",
    "RLBase.action_space(env::ContinuousLabirynthEnv) = env.action_space\n",
    "\n",
    "\"\"\"\n",
    "    state_space(env::ContinuousLabirynthEnv)\n",
    "\n",
    "State is represented as  vector three times number of eyes and is coded as follows:\n",
    "-every three neighboring values are representing a signal visible by one eye, e.g. \n",
    " [1.0, 1.0, 0.14] means that agent do not see any edible balls (first value of vector)\n",
    "nor poisons (second value of vector), but see the wall in the proximity of 0.14\n",
    "\"\"\"\n",
    "RLBase.state_space(env::ContinuousLabirynthEnv) = env.observation_space\n",
    "\n",
    "function RLBase.state(env::ContinuousLabirynthEnv, ::Observation, ::DefaultPlayer) \n",
    "    state = ones(Float64, length(env.observation_space))\n",
    "    for (i, eye) in enumerate(env.eyes)\n",
    "        eye.sensed_type == 0 && continue \n",
    "        state[(i-1)*3 + eye.sensed_type] = eye.sensed_proximity/eye.max_range\n",
    "    end\n",
    "    return state\n",
    "end\n",
    "\n",
    "function RLBase.reward(env::ContinuousLabirynthEnv)\n",
    "    #agent do not like to see walls, especially up close:\n",
    "    proximity_reward = 0.0\n",
    "    for eye in env.eyes\n",
    "        if eye.sensed_type == 3\n",
    "            proximity_reward -= 1 - eye.sensed_proximity/eye.max_range\n",
    "        elseif eye.sensed_type != 0\n",
    "            proximity_reward += 1 - eye.sensed_proximity/eye.max_range\n",
    "        end\n",
    "    end\n",
    "    #agent like to go forward:\n",
    "    forward_reward = 0.0\n",
    "    if env.old_position == env.position \n",
    "        forward_reward += -1.0\n",
    "    else\n",
    "        forward_reward += 1.0\n",
    "    end\n",
    "    ##agent also like to eat good things:\n",
    "    return env.digestion_signal + proximity_reward + forward_reward\n",
    "end\n",
    "\n",
    "RLBase.is_terminated(env::ContinuousLabirynthEnv) = false\n",
    "function RLBase.reset!(env::ContinuousLabirynthEnv) \n",
    "    env.position = (x = rand(), y = rand());\n",
    "    env.angle = 0.0\n",
    "    env.digestion_signal = 0.0\n",
    "end"
   ]
  },
  {
   "cell_type": "code",
   "execution_count": 13,
   "id": "a2f4aaa0",
   "metadata": {},
   "outputs": [
    {
     "data": {
      "text/plain": [
       "collide (generic function with 1 method)"
      ]
     },
     "execution_count": 13,
     "metadata": {},
     "output_type": "execute_result"
    }
   ],
   "source": [
    "#check if agent do not fall from the map:\n",
    "on_boundary(vec) = any(vec .≤ 0.0) || any(vec .≥ 1.0)\n",
    "\n",
    "#check if agent do not collide with a wall:\n",
    "function collide(env, vec)\n",
    "    for wall in env.walls\n",
    "        if intersect(wall,vec,env.radius) != false \n",
    "            env.angle  += π/2 #we turn agent 180° to avoid him stucking in the wall \n",
    "            return true \n",
    "        end\n",
    "    end\n",
    "    return false\n",
    "end"
   ]
  },
  {
   "cell_type": "code",
   "execution_count": 14,
   "id": "3b1e0ebd",
   "metadata": {},
   "outputs": [
    {
     "data": {
      "text/plain": [
       "turnaround_and_move! (generic function with 1 method)"
      ]
     },
     "execution_count": 14,
     "metadata": {},
     "output_type": "execute_result"
    }
   ],
   "source": [
    "#movement function of agent\n",
    "function turnaround_and_move!(env, action)\n",
    "    #agent's movement is caused by the two  wheels rotating with different velocities and directions (action) \n",
    "    #wheels are perpendicular to the direction agent is facing at the moment\n",
    "    \n",
    "    #firstly we must find the positions of the wheels\n",
    "    #we will rotate agent's radius by 90°:\n",
    "    vec = rot([0.0, env.radius],env.angle + π/2)\n",
    "    #now, we could find the positions of both wheels:\n",
    "    wheel_1 = [env.position.x + vec[1], env.position.y + vec[2]] \n",
    "    wheel_2 = [env.position.x - vec[1], env.position.y - vec[2]] \n",
    "    #rotate first wheel, clockwise:\n",
    "    vel_clockwise = rot(-1 .* vec, action.v1)\n",
    "    #rotate second wheel, counterclockwise:\n",
    "    vel_counterclockwise = rot(vec, -action.v2)\n",
    "    #new position of first wheel:\n",
    "    wheel_1 = [wheel_1[1] + vel_clockwise[1], wheel_1[2] + vel_clockwise[2]]\n",
    "    #new position of second wheel:\n",
    "    wheel_2 = [wheel_2[1] + vel_counterclockwise[1], wheel_2[2] + vel_counterclockwise[2]]\n",
    "    #new position of agent is just an average of the positions of both wheels:\n",
    "    new_position = [wheel_1[1] + wheel_2[1], wheel_1[2] + wheel_2[2]] ./ 2\n",
    "    \n",
    "    #now we must adjust the angle that agent is facing:\n",
    "    env.angle += action.v1\n",
    "    env.angle > 2*π && (env.angle -= 2 * π)\n",
    "    env.angle -= action.v2\n",
    "    env.angle < 0 && (env.angle += 2 * π)\n",
    "    \n",
    "    #and check if new position is feasible:\n",
    "    if !(collide(env, new_position) || on_boundary(new_position))\n",
    "        env.old_position = deepcopy(env.position)\n",
    "        env.position  = (x = new_position[1], y = new_position[2])\n",
    "   end \n",
    "end"
   ]
  },
  {
   "cell_type": "code",
   "execution_count": 15,
   "id": "55e0cb0a",
   "metadata": {},
   "outputs": [
    {
     "data": {
      "text/plain": [
       "look_at_things_and_eat! (generic function with 1 method)"
      ]
     },
     "execution_count": 15,
     "metadata": {},
     "output_type": "execute_result"
    }
   ],
   "source": [
    "#uaktualniamy obiekty, ktore widzi agent:\n",
    "#dla kazdego oka sprawdzamy czy widzi jakis objekt lub sciane, jezeli tak to w jakiej odleglosci\n",
    "#dodatkowo patrzymy czy agent nic nie zjadl - nie przecial sie z kulka oznaczajaca jedzenie\n",
    "function look_at_things_and_eat!(env)\n",
    "    for eye in env.eyes\n",
    "        eye.sensed_proximity = eye.max_range\n",
    "        eye.sensed_type = 0\n",
    "        eye_sight = eyesight(env,eye)\n",
    "        for wall in env.walls\n",
    "            intersect_point = intersect(eye_sight,wall)\n",
    "            intersect_point == false && continue \n",
    "            proximity = norm(values(env.position) .- intersect_point)\n",
    "            if proximity < eye.sensed_proximity\n",
    "                eye.sensed_proximity = proximity\n",
    "                eye.sensed_type = 3\n",
    "            end\n",
    "        end\n",
    "        for ball in env.balls\n",
    "            intersect_point = intersect(eye_sight,ball.loc, ball.radius)\n",
    "            intersect_point == false && continue \n",
    "            proximity = norm(values(env.position) .- intersect_point)\n",
    "            if proximity < eye.sensed_proximity\n",
    "                if proximity < (env.radius + ball.radius)\n",
    "                    ball.kind == 2 ? (env.digestion_signal = 20.0) : (env.digestion_signal = -30.0)\n",
    "                    ball.age = 9999999999999 \n",
    "                else\n",
    "                    eye.sensed_proximity = proximity\n",
    "                    eye.sensed_type = ball.kind\n",
    "                end\n",
    "            end \n",
    "        end\n",
    "    end\n",
    "end\n"
   ]
  },
  {
   "cell_type": "code",
   "execution_count": 16,
   "id": "510e0805",
   "metadata": {},
   "outputs": [
    {
     "data": {
      "text/plain": [
       "update_balls! (generic function with 1 method)"
      ]
     },
     "execution_count": 16,
     "metadata": {},
     "output_type": "execute_result"
    }
   ],
   "source": [
    "function update_balls!(env)\n",
    "    for ball in env.balls\n",
    "        ball.age += 1\n",
    "    end\n",
    "    env.balls = filter(ball -> ball.age < 500, env.balls)\n",
    "    for new_ball in 1:(env.nb - length(env.balls))\n",
    "        push!(env.balls, Ball(rand([1,2])))\n",
    "    end    \n",
    "end"
   ]
  },
  {
   "cell_type": "code",
   "execution_count": 17,
   "id": "2d4e41a2",
   "metadata": {},
   "outputs": [],
   "source": [
    "function RLBase.act!(x::ContinuousLabirynthEnv, action)\n",
    "    @assert action in action_space(x)\n",
    "    x.velocity = [action.v1, action.v2]\n",
    "    x.digestion_signal = 0.0\n",
    "    turnaround_and_move!(x, action)\n",
    "    look_at_things_and_eat!(x)\n",
    "    update_balls!(x)\n",
    "end"
   ]
  },
  {
   "cell_type": "markdown",
   "id": "0291dd99",
   "metadata": {},
   "source": [
    "Now, time for brain:"
   ]
  },
  {
   "cell_type": "code",
   "execution_count": 18,
   "id": "4971f3b1-e18a-42f7-89fa-b266f94d06d7",
   "metadata": {},
   "outputs": [],
   "source": [
    "struct PolicyNet\n",
    "    common::Flux.Chain\n",
    "    μ::Dense\n",
    "    logσ::Dense\n",
    "end\n",
    "\n",
    "Flux.@layer PolicyNet\n",
    "\n",
    "function (policy_net::PolicyNet)(state)\n",
    "    Z = policy_net.common(state)\n",
    "    mu = policy_net.μ(Z)\n",
    "    logsigma = policy_net.logσ(Z)\n",
    "    return mu, logsigma\n",
    "end"
   ]
  },
  {
   "cell_type": "code",
   "execution_count": 19,
   "id": "108fc3cf",
   "metadata": {},
   "outputs": [],
   "source": [
    "mutable struct Brain\n",
    "    experience_size::Int64\n",
    "    experience::Array\n",
    "    min_experience_size::Int64\n",
    "    policy_net::PolicyNet\n",
    "    value_net::Flux.Chain\n",
    "    ηₚ::Float64\n",
    "    ηᵥ::Float64\n",
    "    opt_state_p::NamedTuple\n",
    "    opt_state_v::NamedTuple\n",
    "    β::Float64\n",
    "    batch_size::Int64\n",
    "end"
   ]
  },
  {
   "cell_type": "code",
   "execution_count": 20,
   "id": "bd843a82",
   "metadata": {},
   "outputs": [
    {
     "data": {
      "text/plain": [
       "Brain"
      ]
     },
     "execution_count": 20,
     "metadata": {},
     "output_type": "execute_result"
    }
   ],
   "source": [
    "function Brain(input_size; experience_size = 3000, min_memory_size = 1000, ηₚ = .01, ηᵥ = 0.001, β = 0.95, batch_size = 64)\n",
    "    policy_net = PolicyNet(Chain(Dense(input_size,128,relu),Dense(128, 64,relu), Dense(64, 32, identity)), \n",
    "                            Dense(32, 2, sigmoid),\n",
    "                            Dense(32, 2, sigmoid))\n",
    "    opt_state_p = Flux.setup(Adam(ηₚ), policy_net) \n",
    "    value_net = Chain(Dense(input_size,128,identity),\n",
    "        Dense(128, 64,relu),Dense(64, 32,relu),Dense(32, 1,identity));\n",
    "    opt_state_v = Flux.setup(Adam(ηᵥ), value_net)\n",
    "    return Brain(experience_size, [], min_memory_size, policy_net, value_net, \n",
    "                ηₚ, ηᵥ, opt_state_p, opt_state_v, β, batch_size)\n",
    "end"
   ]
  },
  {
   "cell_type": "markdown",
   "id": "5b72d99e",
   "metadata": {},
   "source": [
    "and Agent:"
   ]
  },
  {
   "cell_type": "code",
   "execution_count": 21,
   "id": "bb25880c",
   "metadata": {},
   "outputs": [],
   "source": [
    "mutable struct ContinuousAgent\n",
    "    env::ContinuousLabirynthEnv \n",
    "    brain::Brain\n",
    "end"
   ]
  },
  {
   "cell_type": "code",
   "execution_count": 22,
   "id": "a0aa8190",
   "metadata": {},
   "outputs": [
    {
     "data": {
      "text/plain": [
       "ContinuousAgent"
      ]
     },
     "execution_count": 22,
     "metadata": {},
     "output_type": "execute_result"
    }
   ],
   "source": [
    "function ContinuousAgent(nb)\n",
    "    env = ContinuousLabirynthEnv(nb)\n",
    "    brain = Brain(length(state_space(env)))\n",
    "    return ContinuousAgent(env,brain)\n",
    "end"
   ]
  },
  {
   "cell_type": "code",
   "execution_count": 23,
   "id": "d5c3f2ab",
   "metadata": {},
   "outputs": [
    {
     "data": {
      "text/plain": [
       "forward (generic function with 1 method)"
      ]
     },
     "execution_count": 23,
     "metadata": {},
     "output_type": "execute_result"
    }
   ],
   "source": [
    "function forward(brain, state)\n",
    "    v = brain.value_net(state)\n",
    "    mu, logsigma = brain.policy_net(state)\n",
    "    return v[1], mu, logsigma\n",
    "end"
   ]
  },
  {
   "cell_type": "code",
   "execution_count": 24,
   "id": "603cc63a",
   "metadata": {},
   "outputs": [
    {
     "data": {
      "text/plain": [
       "remember! (generic function with 1 method)"
      ]
     },
     "execution_count": 24,
     "metadata": {},
     "output_type": "execute_result"
    }
   ],
   "source": [
    "function remember!(brain::Brain, step::Tuple)\n",
    "    length(brain.experience) == brain.experience_size && deleteat!(brain.experience,1)\n",
    "    push!(brain.experience, step)\n",
    "end"
   ]
  },
  {
   "cell_type": "code",
   "execution_count": 25,
   "id": "22a0bdf6",
   "metadata": {},
   "outputs": [
    {
     "data": {
      "text/plain": [
       "critic_loss (generic function with 2 methods)"
      ]
     },
     "execution_count": 25,
     "metadata": {},
     "output_type": "execute_result"
    }
   ],
   "source": [
    "critic_loss(m, x, y, ξ = 0.5) = ξ*Flux.mse(m(x), y)\n"
   ]
  },
  {
   "cell_type": "code",
   "execution_count": 26,
   "id": "130302c3",
   "metadata": {},
   "outputs": [
    {
     "data": {
      "text/plain": [
       "gaussian_loss (generic function with 2 methods)"
      ]
     },
     "execution_count": 26,
     "metadata": {},
     "output_type": "execute_result"
    }
   ],
   "source": [
    "function gaussian_loss(m, s, a, v, γ = 0.001)\n",
    "    mu, logsigma = m(s)\n",
    "    sigma = exp.(logsigma)\n",
    "    pdf_val = 1 ./ (sigma .* sqrt(2*π)) .* exp.(-0.5 .* ((a .- mu) ./ sigma).^2)\n",
    "    log_prob = log.(pdf_val .+ 1e-7)\n",
    "    entropy = sum(-log.(pdf_val .+ 1e-7) .* pdf_val) / length(log_prob)\n",
    "    return sum(-log_prob .* v) / length(log_prob) - γ * entropy\n",
    "end"
   ]
  },
  {
   "cell_type": "code",
   "execution_count": 27,
   "id": "7bfd64bd",
   "metadata": {},
   "outputs": [
    {
     "data": {
      "text/plain": [
       "replay! (generic function with 1 method)"
      ]
     },
     "execution_count": 27,
     "metadata": {},
     "output_type": "execute_result"
    }
   ],
   "source": [
    "function replay!(agent::ContinuousAgent)\n",
    "    S = zeros(Float32,length(state(agent.env)), agent.brain.batch_size)\n",
    "    A = zeros(Float32,length(action_space(agent.env)), agent.brain.batch_size)\n",
    "    Adv = zeros(Float32, 1, agent.brain.batch_size)\n",
    "    V = zeros(Float32,1, agent.brain.batch_size)\n",
    "    for (i,step)  in enumerate(sample(agent.brain.experience, agent.brain.batch_size, replace = false))\n",
    "        s,a,r,s′,v,v′ = step\n",
    "        R = r + agent.brain.β * v′\n",
    "        adv = R - v\n",
    "        S[:, i] .= s\n",
    "        A[:, i] .= a\n",
    "        Adv[:, i] .= adv\n",
    "        V[:, i] .= R\n",
    "    end\n",
    "    \n",
    "    Flux.train!(gaussian_loss, agent.brain.policy_net, [(S,A,Adv)], agent.brain.opt_state_p)\n",
    "    Flux.train!(critic_loss, agent.brain.value_net, [(S, V)], agent.brain.opt_state_v)\n",
    "    #push!(agent.losses, gaussian_loss(S,A,R))\n",
    "end"
   ]
  },
  {
   "cell_type": "code",
   "execution_count": 28,
   "id": "447048d4",
   "metadata": {},
   "outputs": [
    {
     "data": {
      "text/plain": [
       "step! (generic function with 1 method)"
      ]
     },
     "execution_count": 28,
     "metadata": {},
     "output_type": "execute_result"
    }
   ],
   "source": [
    "function step!(agent::ContinuousAgent,  training::Bool)\n",
    "    s = deepcopy(state(agent.env))\n",
    "    v, μ,logσ = forward(agent.brain, s)\n",
    "    a = μ + exp.(logσ) .* randn(length(logσ))\n",
    "    a = (Flux.tanh.(a) .+1 ) ./ 2\n",
    "    act!(agent.env, (v1 = a[1], v2 = a[2]))\n",
    "    r = deepcopy(reward(agent.env))\n",
    "    s′ = deepcopy(state(agent.env))\n",
    "    v′,_ ,_ = forward(agent.brain, s′)\n",
    "    remember!(agent.brain, (s,a,r,s′,v,v′))\n",
    "    (training && length(agent.brain.experience) > agent.brain.min_experience_size) && replay!(agent)\n",
    "end"
   ]
  },
  {
   "cell_type": "code",
   "execution_count": 34,
   "id": "b94188e7",
   "metadata": {},
   "outputs": [
    {
     "data": {
      "text/plain": [
       "run! (generic function with 1 method)"
      ]
     },
     "execution_count": 34,
     "metadata": {},
     "output_type": "execute_result"
    }
   ],
   "source": [
    "function run!(agent::ContinuousAgent, steps::Int; training::Bool = true,\n",
    "            plotting::Bool = true, summary::Bool = true)\n",
    "    step = 1.0\n",
    "    while step ≤ steps\n",
    "        if plotting \n",
    "            IJulia.clear_output(true)\n",
    "            plot(agent.env) |> IJulia.display\n",
    "            sleep(0.01)\n",
    "        end\n",
    "        (training && mod(step, 2_500) == 0) && reset!(agent.env)\n",
    "        step!(agent, training)\n",
    "        if summary && mod(step,10_000) == 0\n",
    "            @info \"step $(Int(step))\"\n",
    "            @info \"Reward: $(reward(agent.env))\"\n",
    "            s,a,r,s′,v,v′ = agent.brain.experience[end]\n",
    "            @info \"actor loss: $(gaussian_loss(agent.brain.policy_net, s,a, (r + agent.brain.β *  v′) - v))\"\n",
    "            @info \"critc loss: $(critic_loss(agent.brain.value_net, s,r + agent.brain.β *  v′))\"\n",
    "        end\n",
    "        step += 1.0\n",
    "    end\n",
    "end\n"
   ]
  },
  {
   "cell_type": "code",
   "execution_count": 35,
   "id": "9b83572d-bab5-4939-ac38-2337b99856c4",
   "metadata": {},
   "outputs": [],
   "source": [
    "agent = ContinuousAgent(50);"
   ]
  },
  {
   "cell_type": "code",
   "execution_count": 36,
   "id": "f896846f",
   "metadata": {
    "scrolled": true
   },
   "outputs": [
    {
     "name": "stderr",
     "output_type": "stream",
     "text": [
      "\u001b[36m\u001b[1m[ \u001b[22m\u001b[39m\u001b[36m\u001b[1mInfo: \u001b[22m\u001b[39mstep 10000\n",
      "\u001b[36m\u001b[1m[ \u001b[22m\u001b[39m\u001b[36m\u001b[1mInfo: \u001b[22m\u001b[39mReward: -27.84136371583365\n",
      "\u001b[36m\u001b[1m[ \u001b[22m\u001b[39m\u001b[36m\u001b[1mInfo: \u001b[22m\u001b[39mactor loss: -5.936638951403023\n",
      "\u001b[36m\u001b[1m[ \u001b[22m\u001b[39m\u001b[36m\u001b[1mInfo: \u001b[22m\u001b[39mcritc loss: 22.060907699397088\n",
      "\u001b[36m\u001b[1m[ \u001b[22m\u001b[39m\u001b[36m\u001b[1mInfo: \u001b[22m\u001b[39mstep 20000\n",
      "\u001b[36m\u001b[1m[ \u001b[22m\u001b[39m\u001b[36m\u001b[1mInfo: \u001b[22m\u001b[39mReward: 1.118011428905517\n",
      "\u001b[36m\u001b[1m[ \u001b[22m\u001b[39m\u001b[36m\u001b[1mInfo: \u001b[22m\u001b[39mactor loss: 3.586752654922079\n",
      "\u001b[36m\u001b[1m[ \u001b[22m\u001b[39m\u001b[36m\u001b[1mInfo: \u001b[22m\u001b[39mcritc loss: 5.045336161622939\n",
      "\u001b[36m\u001b[1m[ \u001b[22m\u001b[39m\u001b[36m\u001b[1mInfo: \u001b[22m\u001b[39mstep 30000\n",
      "\u001b[36m\u001b[1m[ \u001b[22m\u001b[39m\u001b[36m\u001b[1mInfo: \u001b[22m\u001b[39mReward: 21.46069643357807\n",
      "\u001b[36m\u001b[1m[ \u001b[22m\u001b[39m\u001b[36m\u001b[1mInfo: \u001b[22m\u001b[39mactor loss: 32.62036702705267\n",
      "\u001b[36m\u001b[1m[ \u001b[22m\u001b[39m\u001b[36m\u001b[1mInfo: \u001b[22m\u001b[39mcritc loss: 634.4045193565838\n",
      "\u001b[36m\u001b[1m[ \u001b[22m\u001b[39m\u001b[36m\u001b[1mInfo: \u001b[22m\u001b[39mstep 40000\n",
      "\u001b[36m\u001b[1m[ \u001b[22m\u001b[39m\u001b[36m\u001b[1mInfo: \u001b[22m\u001b[39mReward: -26.709083148610773\n",
      "\u001b[36m\u001b[1m[ \u001b[22m\u001b[39m\u001b[36m\u001b[1mInfo: \u001b[22m\u001b[39mactor loss: 3.4306693703238347\n",
      "\u001b[36m\u001b[1m[ \u001b[22m\u001b[39m\u001b[36m\u001b[1mInfo: \u001b[22m\u001b[39mcritc loss: 7.699289187322508\n",
      "\u001b[36m\u001b[1m[ \u001b[22m\u001b[39m\u001b[36m\u001b[1mInfo: \u001b[22m\u001b[39mstep 50000\n",
      "\u001b[36m\u001b[1m[ \u001b[22m\u001b[39m\u001b[36m\u001b[1mInfo: \u001b[22m\u001b[39mReward: -28.429147921023226\n",
      "\u001b[36m\u001b[1m[ \u001b[22m\u001b[39m\u001b[36m\u001b[1mInfo: \u001b[22m\u001b[39mactor loss: -0.8889529844134464\n",
      "\u001b[36m\u001b[1m[ \u001b[22m\u001b[39m\u001b[36m\u001b[1mInfo: \u001b[22m\u001b[39mcritc loss: 0.5965716460878899\n",
      "\u001b[36m\u001b[1m[ \u001b[22m\u001b[39m\u001b[36m\u001b[1mInfo: \u001b[22m\u001b[39mstep 60000\n",
      "\u001b[36m\u001b[1m[ \u001b[22m\u001b[39m\u001b[36m\u001b[1mInfo: \u001b[22m\u001b[39mReward: -30.403533590240794\n",
      "\u001b[36m\u001b[1m[ \u001b[22m\u001b[39m\u001b[36m\u001b[1mInfo: \u001b[22m\u001b[39mactor loss: -44.481385513036436\n",
      "\u001b[36m\u001b[1m[ \u001b[22m\u001b[39m\u001b[36m\u001b[1mInfo: \u001b[22m\u001b[39mcritc loss: 827.8531063308359\n",
      "\u001b[36m\u001b[1m[ \u001b[22m\u001b[39m\u001b[36m\u001b[1mInfo: \u001b[22m\u001b[39mstep 70000\n",
      "\u001b[36m\u001b[1m[ \u001b[22m\u001b[39m\u001b[36m\u001b[1mInfo: \u001b[22m\u001b[39mReward: -26.840197541983557\n",
      "\u001b[36m\u001b[1m[ \u001b[22m\u001b[39m\u001b[36m\u001b[1mInfo: \u001b[22m\u001b[39mactor loss: -44.12670674644181\n",
      "\u001b[36m\u001b[1m[ \u001b[22m\u001b[39m\u001b[36m\u001b[1mInfo: \u001b[22m\u001b[39mcritc loss: 1070.5129352284791\n",
      "\u001b[36m\u001b[1m[ \u001b[22m\u001b[39m\u001b[36m\u001b[1mInfo: \u001b[22m\u001b[39mstep 80000\n",
      "\u001b[36m\u001b[1m[ \u001b[22m\u001b[39m\u001b[36m\u001b[1mInfo: \u001b[22m\u001b[39mReward: -28.541578056284063\n",
      "\u001b[36m\u001b[1m[ \u001b[22m\u001b[39m\u001b[36m\u001b[1mInfo: \u001b[22m\u001b[39mactor loss: -18.127189416854076\n",
      "\u001b[36m\u001b[1m[ \u001b[22m\u001b[39m\u001b[36m\u001b[1mInfo: \u001b[22m\u001b[39mcritc loss: 84.50514498166312\n",
      "\u001b[36m\u001b[1m[ \u001b[22m\u001b[39m\u001b[36m\u001b[1mInfo: \u001b[22m\u001b[39mstep 90000\n",
      "\u001b[36m\u001b[1m[ \u001b[22m\u001b[39m\u001b[36m\u001b[1mInfo: \u001b[22m\u001b[39mReward: 21.756977684504385\n",
      "\u001b[36m\u001b[1m[ \u001b[22m\u001b[39m\u001b[36m\u001b[1mInfo: \u001b[22m\u001b[39mactor loss: 31.84436379996921\n",
      "\u001b[36m\u001b[1m[ \u001b[22m\u001b[39m\u001b[36m\u001b[1mInfo: \u001b[22m\u001b[39mcritc loss: 401.9553142430461\n",
      "\u001b[36m\u001b[1m[ \u001b[22m\u001b[39m\u001b[36m\u001b[1mInfo: \u001b[22m\u001b[39mstep 100000\n",
      "\u001b[36m\u001b[1m[ \u001b[22m\u001b[39m\u001b[36m\u001b[1mInfo: \u001b[22m\u001b[39mReward: 20.774507151504622\n",
      "\u001b[36m\u001b[1m[ \u001b[22m\u001b[39m\u001b[36m\u001b[1mInfo: \u001b[22m\u001b[39mactor loss: 31.08254577600981\n",
      "\u001b[36m\u001b[1m[ \u001b[22m\u001b[39m\u001b[36m\u001b[1mInfo: \u001b[22m\u001b[39mcritc loss: 387.1426559538503\n",
      "\u001b[36m\u001b[1m[ \u001b[22m\u001b[39m\u001b[36m\u001b[1mInfo: \u001b[22m\u001b[39mstep 110000\n",
      "\u001b[36m\u001b[1m[ \u001b[22m\u001b[39m\u001b[36m\u001b[1mInfo: \u001b[22m\u001b[39mReward: 1.2517723376576995\n",
      "\u001b[36m\u001b[1m[ \u001b[22m\u001b[39m\u001b[36m\u001b[1mInfo: \u001b[22m\u001b[39mactor loss: 18.768474968798053\n",
      "\u001b[36m\u001b[1m[ \u001b[22m\u001b[39m\u001b[36m\u001b[1mInfo: \u001b[22m\u001b[39mcritc loss: 182.92649356474303\n",
      "\u001b[36m\u001b[1m[ \u001b[22m\u001b[39m\u001b[36m\u001b[1mInfo: \u001b[22m\u001b[39mstep 120000\n",
      "\u001b[36m\u001b[1m[ \u001b[22m\u001b[39m\u001b[36m\u001b[1mInfo: \u001b[22m\u001b[39mReward: 1.5192655549805583\n",
      "\u001b[36m\u001b[1m[ \u001b[22m\u001b[39m\u001b[36m\u001b[1mInfo: \u001b[22m\u001b[39mactor loss: 11.47819179999751\n",
      "\u001b[36m\u001b[1m[ \u001b[22m\u001b[39m\u001b[36m\u001b[1mInfo: \u001b[22m\u001b[39mcritc loss: 58.01375551672079\n",
      "\u001b[36m\u001b[1m[ \u001b[22m\u001b[39m\u001b[36m\u001b[1mInfo: \u001b[22m\u001b[39mstep 130000\n",
      "\u001b[36m\u001b[1m[ \u001b[22m\u001b[39m\u001b[36m\u001b[1mInfo: \u001b[22m\u001b[39mReward: -2.6831486695858664\n",
      "\u001b[36m\u001b[1m[ \u001b[22m\u001b[39m\u001b[36m\u001b[1mInfo: \u001b[22m\u001b[39mactor loss: -3.843558491617437\n",
      "\u001b[36m\u001b[1m[ \u001b[22m\u001b[39m\u001b[36m\u001b[1mInfo: \u001b[22m\u001b[39mcritc loss: 8.13741386785282\n",
      "\u001b[36m\u001b[1m[ \u001b[22m\u001b[39m\u001b[36m\u001b[1mInfo: \u001b[22m\u001b[39mstep 140000\n",
      "\u001b[36m\u001b[1m[ \u001b[22m\u001b[39m\u001b[36m\u001b[1mInfo: \u001b[22m\u001b[39mReward: 16.622901443056985\n",
      "\u001b[36m\u001b[1m[ \u001b[22m\u001b[39m\u001b[36m\u001b[1mInfo: \u001b[22m\u001b[39mactor loss: 22.03894657472214\n",
      "\u001b[36m\u001b[1m[ \u001b[22m\u001b[39m\u001b[36m\u001b[1mInfo: \u001b[22m\u001b[39mcritc loss: 251.40989851916657\n",
      "\u001b[36m\u001b[1m[ \u001b[22m\u001b[39m\u001b[36m\u001b[1mInfo: \u001b[22m\u001b[39mstep 150000\n",
      "\u001b[36m\u001b[1m[ \u001b[22m\u001b[39m\u001b[36m\u001b[1mInfo: \u001b[22m\u001b[39mReward: 1.594106574382036\n",
      "\u001b[36m\u001b[1m[ \u001b[22m\u001b[39m\u001b[36m\u001b[1mInfo: \u001b[22m\u001b[39mactor loss: -6.892639967730893\n",
      "\u001b[36m\u001b[1m[ \u001b[22m\u001b[39m\u001b[36m\u001b[1mInfo: \u001b[22m\u001b[39mcritc loss: 20.90352964533907\n",
      "\u001b[36m\u001b[1m[ \u001b[22m\u001b[39m\u001b[36m\u001b[1mInfo: \u001b[22m\u001b[39mstep 160000\n",
      "\u001b[36m\u001b[1m[ \u001b[22m\u001b[39m\u001b[36m\u001b[1mInfo: \u001b[22m\u001b[39mReward: 20.702120711312627\n",
      "\u001b[36m\u001b[1m[ \u001b[22m\u001b[39m\u001b[36m\u001b[1mInfo: \u001b[22m\u001b[39mactor loss: 43.35314483735307\n",
      "\u001b[36m\u001b[1m[ \u001b[22m\u001b[39m\u001b[36m\u001b[1mInfo: \u001b[22m\u001b[39mcritc loss: 778.1429859723904\n",
      "\u001b[36m\u001b[1m[ \u001b[22m\u001b[39m\u001b[36m\u001b[1mInfo: \u001b[22m\u001b[39mstep 170000\n",
      "\u001b[36m\u001b[1m[ \u001b[22m\u001b[39m\u001b[36m\u001b[1mInfo: \u001b[22m\u001b[39mReward: -28.31761576623208\n",
      "\u001b[36m\u001b[1m[ \u001b[22m\u001b[39m\u001b[36m\u001b[1mInfo: \u001b[22m\u001b[39mactor loss: -3.5824556691232714\n",
      "\u001b[36m\u001b[1m[ \u001b[22m\u001b[39m\u001b[36m\u001b[1mInfo: \u001b[22m\u001b[39mcritc loss: 6.155344993339216\n",
      "\u001b[36m\u001b[1m[ \u001b[22m\u001b[39m\u001b[36m\u001b[1mInfo: \u001b[22m\u001b[39mstep 180000\n",
      "\u001b[36m\u001b[1m[ \u001b[22m\u001b[39m\u001b[36m\u001b[1mInfo: \u001b[22m\u001b[39mReward: 21.974666850102114\n",
      "\u001b[36m\u001b[1m[ \u001b[22m\u001b[39m\u001b[36m\u001b[1mInfo: \u001b[22m\u001b[39mactor loss: 20.731004693498694\n",
      "\u001b[36m\u001b[1m[ \u001b[22m\u001b[39m\u001b[36m\u001b[1mInfo: \u001b[22m\u001b[39mcritc loss: 166.26420011434536\n",
      "\u001b[36m\u001b[1m[ \u001b[22m\u001b[39m\u001b[36m\u001b[1mInfo: \u001b[22m\u001b[39mstep 190000\n",
      "\u001b[36m\u001b[1m[ \u001b[22m\u001b[39m\u001b[36m\u001b[1mInfo: \u001b[22m\u001b[39mReward: 0.3166405841118122\n",
      "\u001b[36m\u001b[1m[ \u001b[22m\u001b[39m\u001b[36m\u001b[1mInfo: \u001b[22m\u001b[39mactor loss: 3.7313955764407507\n",
      "\u001b[36m\u001b[1m[ \u001b[22m\u001b[39m\u001b[36m\u001b[1mInfo: \u001b[22m\u001b[39mcritc loss: 5.320173005567195\n",
      "\u001b[36m\u001b[1m[ \u001b[22m\u001b[39m\u001b[36m\u001b[1mInfo: \u001b[22m\u001b[39mstep 200000\n",
      "\u001b[36m\u001b[1m[ \u001b[22m\u001b[39m\u001b[36m\u001b[1mInfo: \u001b[22m\u001b[39mReward: -5.929560991196055\n",
      "\u001b[36m\u001b[1m[ \u001b[22m\u001b[39m\u001b[36m\u001b[1mInfo: \u001b[22m\u001b[39mactor loss: -6.544739315690415\n",
      "\u001b[36m\u001b[1m[ \u001b[22m\u001b[39m\u001b[36m\u001b[1mInfo: \u001b[22m\u001b[39mcritc loss: 18.985111621467937\n",
      "\u001b[36m\u001b[1m[ \u001b[22m\u001b[39m\u001b[36m\u001b[1mInfo: \u001b[22m\u001b[39mstep 210000\n",
      "\u001b[36m\u001b[1m[ \u001b[22m\u001b[39m\u001b[36m\u001b[1mInfo: \u001b[22m\u001b[39mReward: 13.149175788526534\n",
      "\u001b[36m\u001b[1m[ \u001b[22m\u001b[39m\u001b[36m\u001b[1mInfo: \u001b[22m\u001b[39mactor loss: -0.9338018557557308\n",
      "\u001b[36m\u001b[1m[ \u001b[22m\u001b[39m\u001b[36m\u001b[1mInfo: \u001b[22m\u001b[39mcritc loss: 0.6575410979681479\n",
      "\u001b[36m\u001b[1m[ \u001b[22m\u001b[39m\u001b[36m\u001b[1mInfo: \u001b[22m\u001b[39mstep 220000\n",
      "\u001b[36m\u001b[1m[ \u001b[22m\u001b[39m\u001b[36m\u001b[1mInfo: \u001b[22m\u001b[39mReward: 0.8257046559335918\n",
      "\u001b[36m\u001b[1m[ \u001b[22m\u001b[39m\u001b[36m\u001b[1mInfo: \u001b[22m\u001b[39mactor loss: 1.536998170304746\n",
      "\u001b[36m\u001b[1m[ \u001b[22m\u001b[39m\u001b[36m\u001b[1mInfo: \u001b[22m\u001b[39mcritc loss: 1.1495608599874743\n",
      "\u001b[36m\u001b[1m[ \u001b[22m\u001b[39m\u001b[36m\u001b[1mInfo: \u001b[22m\u001b[39mstep 230000\n",
      "\u001b[36m\u001b[1m[ \u001b[22m\u001b[39m\u001b[36m\u001b[1mInfo: \u001b[22m\u001b[39mReward: 22.256636337153896\n",
      "\u001b[36m\u001b[1m[ \u001b[22m\u001b[39m\u001b[36m\u001b[1mInfo: \u001b[22m\u001b[39mactor loss: -12.38090806615296\n",
      "\u001b[36m\u001b[1m[ \u001b[22m\u001b[39m\u001b[36m\u001b[1mInfo: \u001b[22m\u001b[39mcritc loss: 72.59315422540985\n",
      "\u001b[36m\u001b[1m[ \u001b[22m\u001b[39m\u001b[36m\u001b[1mInfo: \u001b[22m\u001b[39mstep 240000\n",
      "\u001b[36m\u001b[1m[ \u001b[22m\u001b[39m\u001b[36m\u001b[1mInfo: \u001b[22m\u001b[39mReward: -30.18031602159217\n",
      "\u001b[36m\u001b[1m[ \u001b[22m\u001b[39m\u001b[36m\u001b[1mInfo: \u001b[22m\u001b[39mactor loss: -27.69475936272839\n",
      "\u001b[36m\u001b[1m[ \u001b[22m\u001b[39m\u001b[36m\u001b[1mInfo: \u001b[22m\u001b[39mcritc loss: 347.8125717248817\n",
      "\u001b[36m\u001b[1m[ \u001b[22m\u001b[39m\u001b[36m\u001b[1mInfo: \u001b[22m\u001b[39mstep 250000\n",
      "\u001b[36m\u001b[1m[ \u001b[22m\u001b[39m\u001b[36m\u001b[1mInfo: \u001b[22m\u001b[39mReward: -27.54216768572495\n",
      "\u001b[36m\u001b[1m[ \u001b[22m\u001b[39m\u001b[36m\u001b[1mInfo: \u001b[22m\u001b[39mactor loss: -6.542161002446879\n",
      "\u001b[36m\u001b[1m[ \u001b[22m\u001b[39m\u001b[36m\u001b[1mInfo: \u001b[22m\u001b[39mcritc loss: 16.019739828341432\n",
      "\u001b[36m\u001b[1m[ \u001b[22m\u001b[39m\u001b[36m\u001b[1mInfo: \u001b[22m\u001b[39mstep 260000\n",
      "\u001b[36m\u001b[1m[ \u001b[22m\u001b[39m\u001b[36m\u001b[1mInfo: \u001b[22m\u001b[39mReward: 22.08603577433433\n",
      "\u001b[36m\u001b[1m[ \u001b[22m\u001b[39m\u001b[36m\u001b[1mInfo: \u001b[22m\u001b[39mactor loss: 22.56429010828268\n",
      "\u001b[36m\u001b[1m[ \u001b[22m\u001b[39m\u001b[36m\u001b[1mInfo: \u001b[22m\u001b[39mcritc loss: 283.2632323024698\n",
      "\u001b[36m\u001b[1m[ \u001b[22m\u001b[39m\u001b[36m\u001b[1mInfo: \u001b[22m\u001b[39mstep 270000\n",
      "\u001b[36m\u001b[1m[ \u001b[22m\u001b[39m\u001b[36m\u001b[1mInfo: \u001b[22m\u001b[39mReward: -3.3979500716046482\n",
      "\u001b[36m\u001b[1m[ \u001b[22m\u001b[39m\u001b[36m\u001b[1mInfo: \u001b[22m\u001b[39mactor loss: -6.067111617285968\n",
      "\u001b[36m\u001b[1m[ \u001b[22m\u001b[39m\u001b[36m\u001b[1mInfo: \u001b[22m\u001b[39mcritc loss: 19.736373601893217\n",
      "\u001b[36m\u001b[1m[ \u001b[22m\u001b[39m\u001b[36m\u001b[1mInfo: \u001b[22m\u001b[39mstep 280000\n",
      "\u001b[36m\u001b[1m[ \u001b[22m\u001b[39m\u001b[36m\u001b[1mInfo: \u001b[22m\u001b[39mReward: -1.4746577450797815\n",
      "\u001b[36m\u001b[1m[ \u001b[22m\u001b[39m\u001b[36m\u001b[1mInfo: \u001b[22m\u001b[39mactor loss: -9.85863747379162\n",
      "\u001b[36m\u001b[1m[ \u001b[22m\u001b[39m\u001b[36m\u001b[1mInfo: \u001b[22m\u001b[39mcritc loss: 61.055380686282305\n",
      "\u001b[36m\u001b[1m[ \u001b[22m\u001b[39m\u001b[36m\u001b[1mInfo: \u001b[22m\u001b[39mstep 290000\n",
      "\u001b[36m\u001b[1m[ \u001b[22m\u001b[39m\u001b[36m\u001b[1mInfo: \u001b[22m\u001b[39mReward: 22.324408355192418\n",
      "\u001b[36m\u001b[1m[ \u001b[22m\u001b[39m\u001b[36m\u001b[1mInfo: \u001b[22m\u001b[39mactor loss: 52.411657741971005\n",
      "\u001b[36m\u001b[1m[ \u001b[22m\u001b[39m\u001b[36m\u001b[1mInfo: \u001b[22m\u001b[39mcritc loss: 980.069322911616\n",
      "\u001b[36m\u001b[1m[ \u001b[22m\u001b[39m\u001b[36m\u001b[1mInfo: \u001b[22m\u001b[39mstep 300000\n",
      "\u001b[36m\u001b[1m[ \u001b[22m\u001b[39m\u001b[36m\u001b[1mInfo: \u001b[22m\u001b[39mReward: -29.383529153049007\n",
      "\u001b[36m\u001b[1m[ \u001b[22m\u001b[39m\u001b[36m\u001b[1mInfo: \u001b[22m\u001b[39mactor loss: -29.956153049157045\n",
      "\u001b[36m\u001b[1m[ \u001b[22m\u001b[39m\u001b[36m\u001b[1mInfo: \u001b[22m\u001b[39mcritc loss: 457.4267709273559\n",
      "\u001b[36m\u001b[1m[ \u001b[22m\u001b[39m\u001b[36m\u001b[1mInfo: \u001b[22m\u001b[39mstep 310000\n",
      "\u001b[36m\u001b[1m[ \u001b[22m\u001b[39m\u001b[36m\u001b[1mInfo: \u001b[22m\u001b[39mReward: -7.4499414207431105\n",
      "\u001b[36m\u001b[1m[ \u001b[22m\u001b[39m\u001b[36m\u001b[1mInfo: \u001b[22m\u001b[39mactor loss: -4.2064655684838295\n",
      "\u001b[36m\u001b[1m[ \u001b[22m\u001b[39m\u001b[36m\u001b[1mInfo: \u001b[22m\u001b[39mcritc loss: 5.7253395805803855\n",
      "\u001b[36m\u001b[1m[ \u001b[22m\u001b[39m\u001b[36m\u001b[1mInfo: \u001b[22m\u001b[39mstep 320000\n",
      "\u001b[36m\u001b[1m[ \u001b[22m\u001b[39m\u001b[36m\u001b[1mInfo: \u001b[22m\u001b[39mReward: -28.420820307830496\n",
      "\u001b[36m\u001b[1m[ \u001b[22m\u001b[39m\u001b[36m\u001b[1mInfo: \u001b[22m\u001b[39mactor loss: -16.28054437521094\n",
      "\u001b[36m\u001b[1m[ \u001b[22m\u001b[39m\u001b[36m\u001b[1mInfo: \u001b[22m\u001b[39mcritc loss: 123.19704425078983\n",
      "\u001b[36m\u001b[1m[ \u001b[22m\u001b[39m\u001b[36m\u001b[1mInfo: \u001b[22m\u001b[39mstep 330000\n",
      "\u001b[36m\u001b[1m[ \u001b[22m\u001b[39m\u001b[36m\u001b[1mInfo: \u001b[22m\u001b[39mReward: -32.91806996118768\n",
      "\u001b[36m\u001b[1m[ \u001b[22m\u001b[39m\u001b[36m\u001b[1mInfo: \u001b[22m\u001b[39mactor loss: -47.847150933538224\n",
      "\u001b[36m\u001b[1m[ \u001b[22m\u001b[39m\u001b[36m\u001b[1mInfo: \u001b[22m\u001b[39mcritc loss: 958.7571431468933\n",
      "\u001b[36m\u001b[1m[ \u001b[22m\u001b[39m\u001b[36m\u001b[1mInfo: \u001b[22m\u001b[39mstep 340000\n",
      "\u001b[36m\u001b[1m[ \u001b[22m\u001b[39m\u001b[36m\u001b[1mInfo: \u001b[22m\u001b[39mReward: 19.45382453436368\n",
      "\u001b[36m\u001b[1m[ \u001b[22m\u001b[39m\u001b[36m\u001b[1mInfo: \u001b[22m\u001b[39mactor loss: 14.314544193017689\n",
      "\u001b[36m\u001b[1m[ \u001b[22m\u001b[39m\u001b[36m\u001b[1mInfo: \u001b[22m\u001b[39mcritc loss: 119.76229103491251\n",
      "\u001b[36m\u001b[1m[ \u001b[22m\u001b[39m\u001b[36m\u001b[1mInfo: \u001b[22m\u001b[39mstep 350000\n",
      "\u001b[36m\u001b[1m[ \u001b[22m\u001b[39m\u001b[36m\u001b[1mInfo: \u001b[22m\u001b[39mReward: 19.23862917553125\n",
      "\u001b[36m\u001b[1m[ \u001b[22m\u001b[39m\u001b[36m\u001b[1mInfo: \u001b[22m\u001b[39mactor loss: 16.11835356827971\n",
      "\u001b[36m\u001b[1m[ \u001b[22m\u001b[39m\u001b[36m\u001b[1mInfo: \u001b[22m\u001b[39mcritc loss: 90.91823125961679\n",
      "\u001b[36m\u001b[1m[ \u001b[22m\u001b[39m\u001b[36m\u001b[1mInfo: \u001b[22m\u001b[39mstep 360000\n",
      "\u001b[36m\u001b[1m[ \u001b[22m\u001b[39m\u001b[36m\u001b[1mInfo: \u001b[22m\u001b[39mReward: -31.967736262018477\n",
      "\u001b[36m\u001b[1m[ \u001b[22m\u001b[39m\u001b[36m\u001b[1mInfo: \u001b[22m\u001b[39mactor loss: -19.07762302068021\n",
      "\u001b[36m\u001b[1m[ \u001b[22m\u001b[39m\u001b[36m\u001b[1mInfo: \u001b[22m\u001b[39mcritc loss: 211.22100347375283\n",
      "\u001b[36m\u001b[1m[ \u001b[22m\u001b[39m\u001b[36m\u001b[1mInfo: \u001b[22m\u001b[39mstep 370000\n",
      "\u001b[36m\u001b[1m[ \u001b[22m\u001b[39m\u001b[36m\u001b[1mInfo: \u001b[22m\u001b[39mReward: -27.719921888300572\n",
      "\u001b[36m\u001b[1m[ \u001b[22m\u001b[39m\u001b[36m\u001b[1mInfo: \u001b[22m\u001b[39mactor loss: -1.6104041809325382\n",
      "\u001b[36m\u001b[1m[ \u001b[22m\u001b[39m\u001b[36m\u001b[1mInfo: \u001b[22m\u001b[39mcritc loss: 0.6871305300576886\n",
      "\u001b[36m\u001b[1m[ \u001b[22m\u001b[39m\u001b[36m\u001b[1mInfo: \u001b[22m\u001b[39mstep 380000\n",
      "\u001b[36m\u001b[1m[ \u001b[22m\u001b[39m\u001b[36m\u001b[1mInfo: \u001b[22m\u001b[39mReward: -5.054230378032714\n",
      "\u001b[36m\u001b[1m[ \u001b[22m\u001b[39m\u001b[36m\u001b[1mInfo: \u001b[22m\u001b[39mactor loss: -21.252660641526358\n",
      "\u001b[36m\u001b[1m[ \u001b[22m\u001b[39m\u001b[36m\u001b[1mInfo: \u001b[22m\u001b[39mcritc loss: 258.3674622220952\n",
      "\u001b[36m\u001b[1m[ \u001b[22m\u001b[39m\u001b[36m\u001b[1mInfo: \u001b[22m\u001b[39mstep 390000\n",
      "\u001b[36m\u001b[1m[ \u001b[22m\u001b[39m\u001b[36m\u001b[1mInfo: \u001b[22m\u001b[39mReward: -31.150966609370187\n",
      "\u001b[36m\u001b[1m[ \u001b[22m\u001b[39m\u001b[36m\u001b[1mInfo: \u001b[22m\u001b[39mactor loss: -34.0495628828968\n",
      "\u001b[36m\u001b[1m[ \u001b[22m\u001b[39m\u001b[36m\u001b[1mInfo: \u001b[22m\u001b[39mcritc loss: 532.2926952374639\n",
      "\u001b[36m\u001b[1m[ \u001b[22m\u001b[39m\u001b[36m\u001b[1mInfo: \u001b[22m\u001b[39mstep 400000\n",
      "\u001b[36m\u001b[1m[ \u001b[22m\u001b[39m\u001b[36m\u001b[1mInfo: \u001b[22m\u001b[39mReward: 16.42888878065792\n",
      "\u001b[36m\u001b[1m[ \u001b[22m\u001b[39m\u001b[36m\u001b[1mInfo: \u001b[22m\u001b[39mactor loss: 14.215720751914132\n",
      "\u001b[36m\u001b[1m[ \u001b[22m\u001b[39m\u001b[36m\u001b[1mInfo: \u001b[22m\u001b[39mcritc loss: 137.67041167373918\n",
      "\u001b[36m\u001b[1m[ \u001b[22m\u001b[39m\u001b[36m\u001b[1mInfo: \u001b[22m\u001b[39mstep 410000\n",
      "\u001b[36m\u001b[1m[ \u001b[22m\u001b[39m\u001b[36m\u001b[1mInfo: \u001b[22m\u001b[39mReward: 16.079850807064314\n",
      "\u001b[36m\u001b[1m[ \u001b[22m\u001b[39m\u001b[36m\u001b[1mInfo: \u001b[22m\u001b[39mactor loss: 5.444498877291123\n",
      "\u001b[36m\u001b[1m[ \u001b[22m\u001b[39m\u001b[36m\u001b[1mInfo: \u001b[22m\u001b[39mcritc loss: 16.503193090153772\n",
      "\u001b[36m\u001b[1m[ \u001b[22m\u001b[39m\u001b[36m\u001b[1mInfo: \u001b[22m\u001b[39mstep 420000\n",
      "\u001b[36m\u001b[1m[ \u001b[22m\u001b[39m\u001b[36m\u001b[1mInfo: \u001b[22m\u001b[39mReward: -28.034702510236677\n",
      "\u001b[36m\u001b[1m[ \u001b[22m\u001b[39m\u001b[36m\u001b[1mInfo: \u001b[22m\u001b[39mactor loss: -4.187604721528163\n",
      "\u001b[36m\u001b[1m[ \u001b[22m\u001b[39m\u001b[36m\u001b[1mInfo: \u001b[22m\u001b[39mcritc loss: 9.642291305666076\n",
      "\u001b[36m\u001b[1m[ \u001b[22m\u001b[39m\u001b[36m\u001b[1mInfo: \u001b[22m\u001b[39mstep 430000\n",
      "\u001b[36m\u001b[1m[ \u001b[22m\u001b[39m\u001b[36m\u001b[1mInfo: \u001b[22m\u001b[39mReward: 22.47506823936074\n",
      "\u001b[36m\u001b[1m[ \u001b[22m\u001b[39m\u001b[36m\u001b[1mInfo: \u001b[22m\u001b[39mactor loss: -59.025385717494686\n",
      "\u001b[36m\u001b[1m[ \u001b[22m\u001b[39m\u001b[36m\u001b[1mInfo: \u001b[22m\u001b[39mcritc loss: 1398.8281254855915\n",
      "\u001b[36m\u001b[1m[ \u001b[22m\u001b[39m\u001b[36m\u001b[1mInfo: \u001b[22m\u001b[39mstep 440000\n",
      "\u001b[36m\u001b[1m[ \u001b[22m\u001b[39m\u001b[36m\u001b[1mInfo: \u001b[22m\u001b[39mReward: 18.0985565472456\n",
      "\u001b[36m\u001b[1m[ \u001b[22m\u001b[39m\u001b[36m\u001b[1mInfo: \u001b[22m\u001b[39mactor loss: 27.041256926881463\n",
      "\u001b[36m\u001b[1m[ \u001b[22m\u001b[39m\u001b[36m\u001b[1mInfo: \u001b[22m\u001b[39mcritc loss: 293.8396941942883\n",
      "\u001b[36m\u001b[1m[ \u001b[22m\u001b[39m\u001b[36m\u001b[1mInfo: \u001b[22m\u001b[39mstep 450000\n",
      "\u001b[36m\u001b[1m[ \u001b[22m\u001b[39m\u001b[36m\u001b[1mInfo: \u001b[22m\u001b[39mReward: -1.8330180588807279\n",
      "\u001b[36m\u001b[1m[ \u001b[22m\u001b[39m\u001b[36m\u001b[1mInfo: \u001b[22m\u001b[39mactor loss: -7.234636135550676\n",
      "\u001b[36m\u001b[1m[ \u001b[22m\u001b[39m\u001b[36m\u001b[1mInfo: \u001b[22m\u001b[39mcritc loss: 25.609531569080016\n",
      "\u001b[36m\u001b[1m[ \u001b[22m\u001b[39m\u001b[36m\u001b[1mInfo: \u001b[22m\u001b[39mstep 460000\n",
      "\u001b[36m\u001b[1m[ \u001b[22m\u001b[39m\u001b[36m\u001b[1mInfo: \u001b[22m\u001b[39mReward: -1.345673967810673\n",
      "\u001b[36m\u001b[1m[ \u001b[22m\u001b[39m\u001b[36m\u001b[1mInfo: \u001b[22m\u001b[39mactor loss: -8.021019982922402\n",
      "\u001b[36m\u001b[1m[ \u001b[22m\u001b[39m\u001b[36m\u001b[1mInfo: \u001b[22m\u001b[39mcritc loss: 36.08977831046433\n",
      "\u001b[36m\u001b[1m[ \u001b[22m\u001b[39m\u001b[36m\u001b[1mInfo: \u001b[22m\u001b[39mstep 470000\n",
      "\u001b[36m\u001b[1m[ \u001b[22m\u001b[39m\u001b[36m\u001b[1mInfo: \u001b[22m\u001b[39mReward: 18.464693637213923\n",
      "\u001b[36m\u001b[1m[ \u001b[22m\u001b[39m\u001b[36m\u001b[1mInfo: \u001b[22m\u001b[39mactor loss: 43.82582345117623\n",
      "\u001b[36m\u001b[1m[ \u001b[22m\u001b[39m\u001b[36m\u001b[1mInfo: \u001b[22m\u001b[39mcritc loss: 722.3687778358475\n",
      "\u001b[36m\u001b[1m[ \u001b[22m\u001b[39m\u001b[36m\u001b[1mInfo: \u001b[22m\u001b[39mstep 480000\n",
      "\u001b[36m\u001b[1m[ \u001b[22m\u001b[39m\u001b[36m\u001b[1mInfo: \u001b[22m\u001b[39mReward: -29.517475131894777\n",
      "\u001b[36m\u001b[1m[ \u001b[22m\u001b[39m\u001b[36m\u001b[1mInfo: \u001b[22m\u001b[39mactor loss: -53.68590911670474\n",
      "\u001b[36m\u001b[1m[ \u001b[22m\u001b[39m\u001b[36m\u001b[1mInfo: \u001b[22m\u001b[39mcritc loss: 1117.6106962151239\n",
      "\u001b[36m\u001b[1m[ \u001b[22m\u001b[39m\u001b[36m\u001b[1mInfo: \u001b[22m\u001b[39mstep 490000\n",
      "\u001b[36m\u001b[1m[ \u001b[22m\u001b[39m\u001b[36m\u001b[1mInfo: \u001b[22m\u001b[39mReward: 20.146990972122836\n",
      "\u001b[36m\u001b[1m[ \u001b[22m\u001b[39m\u001b[36m\u001b[1mInfo: \u001b[22m\u001b[39mactor loss: 23.38180645546663\n",
      "\u001b[36m\u001b[1m[ \u001b[22m\u001b[39m\u001b[36m\u001b[1mInfo: \u001b[22m\u001b[39mcritc loss: 246.01329284178902\n",
      "\u001b[36m\u001b[1m[ \u001b[22m\u001b[39m\u001b[36m\u001b[1mInfo: \u001b[22m\u001b[39mstep 500000\n",
      "\u001b[36m\u001b[1m[ \u001b[22m\u001b[39m\u001b[36m\u001b[1mInfo: \u001b[22m\u001b[39mReward: 19.691181189219655\n",
      "\u001b[36m\u001b[1m[ \u001b[22m\u001b[39m\u001b[36m\u001b[1mInfo: \u001b[22m\u001b[39mactor loss: -6.32319908373339\n",
      "\u001b[36m\u001b[1m[ \u001b[22m\u001b[39m\u001b[36m\u001b[1mInfo: \u001b[22m\u001b[39mcritc loss: 18.433557048565753\n",
      "\u001b[36m\u001b[1m[ \u001b[22m\u001b[39m\u001b[36m\u001b[1mInfo: \u001b[22m\u001b[39mstep 510000\n",
      "\u001b[36m\u001b[1m[ \u001b[22m\u001b[39m\u001b[36m\u001b[1mInfo: \u001b[22m\u001b[39mReward: 16.653068198875893\n",
      "\u001b[36m\u001b[1m[ \u001b[22m\u001b[39m\u001b[36m\u001b[1mInfo: \u001b[22m\u001b[39mactor loss: 20.79523093287942\n",
      "\u001b[36m\u001b[1m[ \u001b[22m\u001b[39m\u001b[36m\u001b[1mInfo: \u001b[22m\u001b[39mcritc loss: 173.99966560447683\n",
      "\u001b[36m\u001b[1m[ \u001b[22m\u001b[39m\u001b[36m\u001b[1mInfo: \u001b[22m\u001b[39mstep 520000\n",
      "\u001b[36m\u001b[1m[ \u001b[22m\u001b[39m\u001b[36m\u001b[1mInfo: \u001b[22m\u001b[39mReward: 1.0\n",
      "\u001b[36m\u001b[1m[ \u001b[22m\u001b[39m\u001b[36m\u001b[1mInfo: \u001b[22m\u001b[39mactor loss: 12.821571035704313\n",
      "\u001b[36m\u001b[1m[ \u001b[22m\u001b[39m\u001b[36m\u001b[1mInfo: \u001b[22m\u001b[39mcritc loss: 78.07037057151953\n",
      "\u001b[36m\u001b[1m[ \u001b[22m\u001b[39m\u001b[36m\u001b[1mInfo: \u001b[22m\u001b[39mstep 530000\n",
      "\u001b[36m\u001b[1m[ \u001b[22m\u001b[39m\u001b[36m\u001b[1mInfo: \u001b[22m\u001b[39mReward: 15.063825117678356\n",
      "\u001b[36m\u001b[1m[ \u001b[22m\u001b[39m\u001b[36m\u001b[1mInfo: \u001b[22m\u001b[39mactor loss: 22.849052136499704\n",
      "\u001b[36m\u001b[1m[ \u001b[22m\u001b[39m\u001b[36m\u001b[1mInfo: \u001b[22m\u001b[39mcritc loss: 254.68054649261884\n",
      "\u001b[36m\u001b[1m[ \u001b[22m\u001b[39m\u001b[36m\u001b[1mInfo: \u001b[22m\u001b[39mstep 540000\n",
      "\u001b[36m\u001b[1m[ \u001b[22m\u001b[39m\u001b[36m\u001b[1mInfo: \u001b[22m\u001b[39mReward: 21.22180509237985\n",
      "\u001b[36m\u001b[1m[ \u001b[22m\u001b[39m\u001b[36m\u001b[1mInfo: \u001b[22m\u001b[39mactor loss: 7.613372932414977\n",
      "\u001b[36m\u001b[1m[ \u001b[22m\u001b[39m\u001b[36m\u001b[1mInfo: \u001b[22m\u001b[39mcritc loss: 20.32112533951985\n",
      "\u001b[36m\u001b[1m[ \u001b[22m\u001b[39m\u001b[36m\u001b[1mInfo: \u001b[22m\u001b[39mstep 550000\n",
      "\u001b[36m\u001b[1m[ \u001b[22m\u001b[39m\u001b[36m\u001b[1mInfo: \u001b[22m\u001b[39mReward: -27.679143102834153\n",
      "\u001b[36m\u001b[1m[ \u001b[22m\u001b[39m\u001b[36m\u001b[1mInfo: \u001b[22m\u001b[39mactor loss: -1.6984433889010222\n",
      "\u001b[36m\u001b[1m[ \u001b[22m\u001b[39m\u001b[36m\u001b[1mInfo: \u001b[22m\u001b[39mcritc loss: 1.0827949529179006\n",
      "\u001b[36m\u001b[1m[ \u001b[22m\u001b[39m\u001b[36m\u001b[1mInfo: \u001b[22m\u001b[39mstep 560000\n",
      "\u001b[36m\u001b[1m[ \u001b[22m\u001b[39m\u001b[36m\u001b[1mInfo: \u001b[22m\u001b[39mReward: -35.78654670418689\n",
      "\u001b[36m\u001b[1m[ \u001b[22m\u001b[39m\u001b[36m\u001b[1mInfo: \u001b[22m\u001b[39mactor loss: -32.007006362647445\n",
      "\u001b[36m\u001b[1m[ \u001b[22m\u001b[39m\u001b[36m\u001b[1mInfo: \u001b[22m\u001b[39mcritc loss: 603.7817834539724\n",
      "\u001b[36m\u001b[1m[ \u001b[22m\u001b[39m\u001b[36m\u001b[1mInfo: \u001b[22m\u001b[39mstep 570000\n",
      "\u001b[36m\u001b[1m[ \u001b[22m\u001b[39m\u001b[36m\u001b[1mInfo: \u001b[22m\u001b[39mReward: -28.66950251626144\n",
      "\u001b[36m\u001b[1m[ \u001b[22m\u001b[39m\u001b[36m\u001b[1mInfo: \u001b[22m\u001b[39mactor loss: -44.000328413211\n",
      "\u001b[36m\u001b[1m[ \u001b[22m\u001b[39m\u001b[36m\u001b[1mInfo: \u001b[22m\u001b[39mcritc loss: 953.2783779914442\n",
      "\u001b[36m\u001b[1m[ \u001b[22m\u001b[39m\u001b[36m\u001b[1mInfo: \u001b[22m\u001b[39mstep 580000\n",
      "\u001b[36m\u001b[1m[ \u001b[22m\u001b[39m\u001b[36m\u001b[1mInfo: \u001b[22m\u001b[39mReward: 22.249265585306055\n",
      "\u001b[36m\u001b[1m[ \u001b[22m\u001b[39m\u001b[36m\u001b[1mInfo: \u001b[22m\u001b[39mactor loss: 52.54956427378923\n",
      "\u001b[36m\u001b[1m[ \u001b[22m\u001b[39m\u001b[36m\u001b[1mInfo: \u001b[22m\u001b[39mcritc loss: 1473.1090516392042\n",
      "\u001b[36m\u001b[1m[ \u001b[22m\u001b[39m\u001b[36m\u001b[1mInfo: \u001b[22m\u001b[39mstep 590000\n",
      "\u001b[36m\u001b[1m[ \u001b[22m\u001b[39m\u001b[36m\u001b[1mInfo: \u001b[22m\u001b[39mReward: 1.420250832526363\n",
      "\u001b[36m\u001b[1m[ \u001b[22m\u001b[39m\u001b[36m\u001b[1mInfo: \u001b[22m\u001b[39mactor loss: 3.2910122719390467\n",
      "\u001b[36m\u001b[1m[ \u001b[22m\u001b[39m\u001b[36m\u001b[1mInfo: \u001b[22m\u001b[39mcritc loss: 7.628654844239594\n",
      "\u001b[36m\u001b[1m[ \u001b[22m\u001b[39m\u001b[36m\u001b[1mInfo: \u001b[22m\u001b[39mstep 600000\n",
      "\u001b[36m\u001b[1m[ \u001b[22m\u001b[39m\u001b[36m\u001b[1mInfo: \u001b[22m\u001b[39mReward: 21.754709377788437\n",
      "\u001b[36m\u001b[1m[ \u001b[22m\u001b[39m\u001b[36m\u001b[1mInfo: \u001b[22m\u001b[39mactor loss: 14.773777954361035\n",
      "\u001b[36m\u001b[1m[ \u001b[22m\u001b[39m\u001b[36m\u001b[1mInfo: \u001b[22m\u001b[39mcritc loss: 112.87313365688031\n",
      "\u001b[36m\u001b[1m[ \u001b[22m\u001b[39m\u001b[36m\u001b[1mInfo: \u001b[22m\u001b[39mstep 610000\n",
      "\u001b[36m\u001b[1m[ \u001b[22m\u001b[39m\u001b[36m\u001b[1mInfo: \u001b[22m\u001b[39mReward: -31.295481846295736\n",
      "\u001b[36m\u001b[1m[ \u001b[22m\u001b[39m\u001b[36m\u001b[1mInfo: \u001b[22m\u001b[39mactor loss: -30.003187052792704\n",
      "\u001b[36m\u001b[1m[ \u001b[22m\u001b[39m\u001b[36m\u001b[1mInfo: \u001b[22m\u001b[39mcritc loss: 489.18363150913217\n",
      "\u001b[36m\u001b[1m[ \u001b[22m\u001b[39m\u001b[36m\u001b[1mInfo: \u001b[22m\u001b[39mstep 620000\n",
      "\u001b[36m\u001b[1m[ \u001b[22m\u001b[39m\u001b[36m\u001b[1mInfo: \u001b[22m\u001b[39mReward: 17.2112867447623\n",
      "\u001b[36m\u001b[1m[ \u001b[22m\u001b[39m\u001b[36m\u001b[1mInfo: \u001b[22m\u001b[39mactor loss: 16.9879233201914\n",
      "\u001b[36m\u001b[1m[ \u001b[22m\u001b[39m\u001b[36m\u001b[1mInfo: \u001b[22m\u001b[39mcritc loss: 105.9556286325971\n",
      "\u001b[36m\u001b[1m[ \u001b[22m\u001b[39m\u001b[36m\u001b[1mInfo: \u001b[22m\u001b[39mstep 630000\n",
      "\u001b[36m\u001b[1m[ \u001b[22m\u001b[39m\u001b[36m\u001b[1mInfo: \u001b[22m\u001b[39mReward: -27.088047329301425\n",
      "\u001b[36m\u001b[1m[ \u001b[22m\u001b[39m\u001b[36m\u001b[1mInfo: \u001b[22m\u001b[39mactor loss: 5.817735229846789\n",
      "\u001b[36m\u001b[1m[ \u001b[22m\u001b[39m\u001b[36m\u001b[1mInfo: \u001b[22m\u001b[39mcritc loss: 15.449919928704997\n",
      "\u001b[36m\u001b[1m[ \u001b[22m\u001b[39m\u001b[36m\u001b[1mInfo: \u001b[22m\u001b[39mstep 640000\n",
      "\u001b[36m\u001b[1m[ \u001b[22m\u001b[39m\u001b[36m\u001b[1mInfo: \u001b[22m\u001b[39mReward: -2.4971167132895102\n",
      "\u001b[36m\u001b[1m[ \u001b[22m\u001b[39m\u001b[36m\u001b[1mInfo: \u001b[22m\u001b[39mactor loss: 30.865112943513896\n",
      "\u001b[36m\u001b[1m[ \u001b[22m\u001b[39m\u001b[36m\u001b[1mInfo: \u001b[22m\u001b[39mcritc loss: 427.58623880921806\n",
      "\u001b[36m\u001b[1m[ \u001b[22m\u001b[39m\u001b[36m\u001b[1mInfo: \u001b[22m\u001b[39mstep 650000\n",
      "\u001b[36m\u001b[1m[ \u001b[22m\u001b[39m\u001b[36m\u001b[1mInfo: \u001b[22m\u001b[39mReward: -29.356811279735258\n",
      "\u001b[36m\u001b[1m[ \u001b[22m\u001b[39m\u001b[36m\u001b[1mInfo: \u001b[22m\u001b[39mactor loss: -20.33433080988583\n",
      "\u001b[36m\u001b[1m[ \u001b[22m\u001b[39m\u001b[36m\u001b[1mInfo: \u001b[22m\u001b[39mcritc loss: 203.44311446414446\n",
      "\u001b[36m\u001b[1m[ \u001b[22m\u001b[39m\u001b[36m\u001b[1mInfo: \u001b[22m\u001b[39mstep 660000\n",
      "\u001b[36m\u001b[1m[ \u001b[22m\u001b[39m\u001b[36m\u001b[1mInfo: \u001b[22m\u001b[39mReward: 21.450579688967508\n",
      "\u001b[36m\u001b[1m[ \u001b[22m\u001b[39m\u001b[36m\u001b[1mInfo: \u001b[22m\u001b[39mactor loss: 20.805832402463214\n",
      "\u001b[36m\u001b[1m[ \u001b[22m\u001b[39m\u001b[36m\u001b[1mInfo: \u001b[22m\u001b[39mcritc loss: 193.36348866956604\n",
      "\u001b[36m\u001b[1m[ \u001b[22m\u001b[39m\u001b[36m\u001b[1mInfo: \u001b[22m\u001b[39mstep 670000\n",
      "\u001b[36m\u001b[1m[ \u001b[22m\u001b[39m\u001b[36m\u001b[1mInfo: \u001b[22m\u001b[39mReward: 17.479728868415084\n",
      "\u001b[36m\u001b[1m[ \u001b[22m\u001b[39m\u001b[36m\u001b[1mInfo: \u001b[22m\u001b[39mactor loss: 15.952253668920743\n",
      "\u001b[36m\u001b[1m[ \u001b[22m\u001b[39m\u001b[36m\u001b[1mInfo: \u001b[22m\u001b[39mcritc loss: 144.62230315149415\n",
      "\u001b[36m\u001b[1m[ \u001b[22m\u001b[39m\u001b[36m\u001b[1mInfo: \u001b[22m\u001b[39mstep 680000\n",
      "\u001b[36m\u001b[1m[ \u001b[22m\u001b[39m\u001b[36m\u001b[1mInfo: \u001b[22m\u001b[39mReward: -28.70775868030174\n",
      "\u001b[36m\u001b[1m[ \u001b[22m\u001b[39m\u001b[36m\u001b[1mInfo: \u001b[22m\u001b[39mactor loss: -19.34777758204701\n",
      "\u001b[36m\u001b[1m[ \u001b[22m\u001b[39m\u001b[36m\u001b[1mInfo: \u001b[22m\u001b[39mcritc loss: 221.16548051498214\n",
      "\u001b[36m\u001b[1m[ \u001b[22m\u001b[39m\u001b[36m\u001b[1mInfo: \u001b[22m\u001b[39mstep 690000\n",
      "\u001b[36m\u001b[1m[ \u001b[22m\u001b[39m\u001b[36m\u001b[1mInfo: \u001b[22m\u001b[39mReward: 20.641636469490283\n",
      "\u001b[36m\u001b[1m[ \u001b[22m\u001b[39m\u001b[36m\u001b[1mInfo: \u001b[22m\u001b[39mactor loss: 20.487614737702074\n",
      "\u001b[36m\u001b[1m[ \u001b[22m\u001b[39m\u001b[36m\u001b[1mInfo: \u001b[22m\u001b[39mcritc loss: 197.48209053803745\n",
      "\u001b[36m\u001b[1m[ \u001b[22m\u001b[39m\u001b[36m\u001b[1mInfo: \u001b[22m\u001b[39mstep 700000\n",
      "\u001b[36m\u001b[1m[ \u001b[22m\u001b[39m\u001b[36m\u001b[1mInfo: \u001b[22m\u001b[39mReward: 21.338343552380735\n",
      "\u001b[36m\u001b[1m[ \u001b[22m\u001b[39m\u001b[36m\u001b[1mInfo: \u001b[22m\u001b[39mactor loss: 75.35736048237638\n",
      "\u001b[36m\u001b[1m[ \u001b[22m\u001b[39m\u001b[36m\u001b[1mInfo: \u001b[22m\u001b[39mcritc loss: 2593.942329672612\n",
      "\u001b[36m\u001b[1m[ \u001b[22m\u001b[39m\u001b[36m\u001b[1mInfo: \u001b[22m\u001b[39mstep 710000\n",
      "\u001b[36m\u001b[1m[ \u001b[22m\u001b[39m\u001b[36m\u001b[1mInfo: \u001b[22m\u001b[39mReward: -27.740113230551255\n",
      "\u001b[36m\u001b[1m[ \u001b[22m\u001b[39m\u001b[36m\u001b[1mInfo: \u001b[22m\u001b[39mactor loss: -38.54518676900951\n",
      "\u001b[36m\u001b[1m[ \u001b[22m\u001b[39m\u001b[36m\u001b[1mInfo: \u001b[22m\u001b[39mcritc loss: 573.9704707221831\n",
      "\u001b[36m\u001b[1m[ \u001b[22m\u001b[39m\u001b[36m\u001b[1mInfo: \u001b[22m\u001b[39mstep 720000\n",
      "\u001b[36m\u001b[1m[ \u001b[22m\u001b[39m\u001b[36m\u001b[1mInfo: \u001b[22m\u001b[39mReward: -28.558304853519786\n",
      "\u001b[36m\u001b[1m[ \u001b[22m\u001b[39m\u001b[36m\u001b[1mInfo: \u001b[22m\u001b[39mactor loss: 10.489129989996231\n",
      "\u001b[36m\u001b[1m[ \u001b[22m\u001b[39m\u001b[36m\u001b[1mInfo: \u001b[22m\u001b[39mcritc loss: 43.79387785643937\n",
      "\u001b[36m\u001b[1m[ \u001b[22m\u001b[39m\u001b[36m\u001b[1mInfo: \u001b[22m\u001b[39mstep 730000\n",
      "\u001b[36m\u001b[1m[ \u001b[22m\u001b[39m\u001b[36m\u001b[1mInfo: \u001b[22m\u001b[39mReward: 21.288751130764997\n",
      "\u001b[36m\u001b[1m[ \u001b[22m\u001b[39m\u001b[36m\u001b[1mInfo: \u001b[22m\u001b[39mactor loss: 36.25289221163089\n",
      "\u001b[36m\u001b[1m[ \u001b[22m\u001b[39m\u001b[36m\u001b[1mInfo: \u001b[22m\u001b[39mcritc loss: 634.7644229979612\n",
      "\u001b[36m\u001b[1m[ \u001b[22m\u001b[39m\u001b[36m\u001b[1mInfo: \u001b[22m\u001b[39mstep 740000\n",
      "\u001b[36m\u001b[1m[ \u001b[22m\u001b[39m\u001b[36m\u001b[1mInfo: \u001b[22m\u001b[39mReward: 0.860309394624358\n",
      "\u001b[36m\u001b[1m[ \u001b[22m\u001b[39m\u001b[36m\u001b[1mInfo: \u001b[22m\u001b[39mactor loss: 0.01321373335566788\n",
      "\u001b[36m\u001b[1m[ \u001b[22m\u001b[39m\u001b[36m\u001b[1mInfo: \u001b[22m\u001b[39mcritc loss: 0.0003766824715306428\n",
      "\u001b[36m\u001b[1m[ \u001b[22m\u001b[39m\u001b[36m\u001b[1mInfo: \u001b[22m\u001b[39mstep 750000\n",
      "\u001b[36m\u001b[1m[ \u001b[22m\u001b[39m\u001b[36m\u001b[1mInfo: \u001b[22m\u001b[39mReward: 18.027364660253568\n",
      "\u001b[36m\u001b[1m[ \u001b[22m\u001b[39m\u001b[36m\u001b[1mInfo: \u001b[22m\u001b[39mactor loss: 12.728419630147439\n",
      "\u001b[36m\u001b[1m[ \u001b[22m\u001b[39m\u001b[36m\u001b[1mInfo: \u001b[22m\u001b[39mcritc loss: 93.62216951033857\n",
      "\u001b[36m\u001b[1m[ \u001b[22m\u001b[39m\u001b[36m\u001b[1mInfo: \u001b[22m\u001b[39mstep 760000\n",
      "\u001b[36m\u001b[1m[ \u001b[22m\u001b[39m\u001b[36m\u001b[1mInfo: \u001b[22m\u001b[39mReward: -28.086159086664882\n",
      "\u001b[36m\u001b[1m[ \u001b[22m\u001b[39m\u001b[36m\u001b[1mInfo: \u001b[22m\u001b[39mactor loss: -15.983087426116011\n",
      "\u001b[36m\u001b[1m[ \u001b[22m\u001b[39m\u001b[36m\u001b[1mInfo: \u001b[22m\u001b[39mcritc loss: 128.73906501965988\n",
      "\u001b[36m\u001b[1m[ \u001b[22m\u001b[39m\u001b[36m\u001b[1mInfo: \u001b[22m\u001b[39mstep 770000\n",
      "\u001b[36m\u001b[1m[ \u001b[22m\u001b[39m\u001b[36m\u001b[1mInfo: \u001b[22m\u001b[39mReward: -27.54531183379511\n",
      "\u001b[36m\u001b[1m[ \u001b[22m\u001b[39m\u001b[36m\u001b[1mInfo: \u001b[22m\u001b[39mactor loss: -26.743779176685553\n",
      "\u001b[36m\u001b[1m[ \u001b[22m\u001b[39m\u001b[36m\u001b[1mInfo: \u001b[22m\u001b[39mcritc loss: 252.65029370939934\n",
      "\u001b[36m\u001b[1m[ \u001b[22m\u001b[39m\u001b[36m\u001b[1mInfo: \u001b[22m\u001b[39mstep 780000\n",
      "\u001b[36m\u001b[1m[ \u001b[22m\u001b[39m\u001b[36m\u001b[1mInfo: \u001b[22m\u001b[39mReward: -30.062888881466737\n",
      "\u001b[36m\u001b[1m[ \u001b[22m\u001b[39m\u001b[36m\u001b[1mInfo: \u001b[22m\u001b[39mactor loss: -53.975364043938725\n",
      "\u001b[36m\u001b[1m[ \u001b[22m\u001b[39m\u001b[36m\u001b[1mInfo: \u001b[22m\u001b[39mcritc loss: 860.7301835465565\n",
      "\u001b[36m\u001b[1m[ \u001b[22m\u001b[39m\u001b[36m\u001b[1mInfo: \u001b[22m\u001b[39mstep 790000\n",
      "\u001b[36m\u001b[1m[ \u001b[22m\u001b[39m\u001b[36m\u001b[1mInfo: \u001b[22m\u001b[39mReward: 21.95184531735541\n",
      "\u001b[36m\u001b[1m[ \u001b[22m\u001b[39m\u001b[36m\u001b[1mInfo: \u001b[22m\u001b[39mactor loss: 14.116795261178947\n",
      "\u001b[36m\u001b[1m[ \u001b[22m\u001b[39m\u001b[36m\u001b[1mInfo: \u001b[22m\u001b[39mcritc loss: 112.58377998536821\n",
      "\u001b[36m\u001b[1m[ \u001b[22m\u001b[39m\u001b[36m\u001b[1mInfo: \u001b[22m\u001b[39mstep 800000\n",
      "\u001b[36m\u001b[1m[ \u001b[22m\u001b[39m\u001b[36m\u001b[1mInfo: \u001b[22m\u001b[39mReward: 21.74565700237376\n",
      "\u001b[36m\u001b[1m[ \u001b[22m\u001b[39m\u001b[36m\u001b[1mInfo: \u001b[22m\u001b[39mactor loss: 9.558559641433815\n",
      "\u001b[36m\u001b[1m[ \u001b[22m\u001b[39m\u001b[36m\u001b[1mInfo: \u001b[22m\u001b[39mcritc loss: 38.29622958596481\n",
      "\u001b[36m\u001b[1m[ \u001b[22m\u001b[39m\u001b[36m\u001b[1mInfo: \u001b[22m\u001b[39mstep 810000\n",
      "\u001b[36m\u001b[1m[ \u001b[22m\u001b[39m\u001b[36m\u001b[1mInfo: \u001b[22m\u001b[39mReward: -0.028589474403914794\n",
      "\u001b[36m\u001b[1m[ \u001b[22m\u001b[39m\u001b[36m\u001b[1mInfo: \u001b[22m\u001b[39mactor loss: -4.181511419767177\n",
      "\u001b[36m\u001b[1m[ \u001b[22m\u001b[39m\u001b[36m\u001b[1mInfo: \u001b[22m\u001b[39mcritc loss: 7.697147266158359\n",
      "\u001b[36m\u001b[1m[ \u001b[22m\u001b[39m\u001b[36m\u001b[1mInfo: \u001b[22m\u001b[39mstep 820000\n",
      "\u001b[36m\u001b[1m[ \u001b[22m\u001b[39m\u001b[36m\u001b[1mInfo: \u001b[22m\u001b[39mReward: -1.5549457139241762\n",
      "\u001b[36m\u001b[1m[ \u001b[22m\u001b[39m\u001b[36m\u001b[1mInfo: \u001b[22m\u001b[39mactor loss: -4.1522107677587226\n",
      "\u001b[36m\u001b[1m[ \u001b[22m\u001b[39m\u001b[36m\u001b[1mInfo: \u001b[22m\u001b[39mcritc loss: 4.910317413106887\n",
      "\u001b[36m\u001b[1m[ \u001b[22m\u001b[39m\u001b[36m\u001b[1mInfo: \u001b[22m\u001b[39mstep 830000\n",
      "\u001b[36m\u001b[1m[ \u001b[22m\u001b[39m\u001b[36m\u001b[1mInfo: \u001b[22m\u001b[39mReward: -26.84985649324739\n",
      "\u001b[36m\u001b[1m[ \u001b[22m\u001b[39m\u001b[36m\u001b[1mInfo: \u001b[22m\u001b[39mactor loss: -45.782794906635026\n",
      "\u001b[36m\u001b[1m[ \u001b[22m\u001b[39m\u001b[36m\u001b[1mInfo: \u001b[22m\u001b[39mcritc loss: 644.7389788415335\n",
      "\u001b[36m\u001b[1m[ \u001b[22m\u001b[39m\u001b[36m\u001b[1mInfo: \u001b[22m\u001b[39mstep 840000\n",
      "\u001b[36m\u001b[1m[ \u001b[22m\u001b[39m\u001b[36m\u001b[1mInfo: \u001b[22m\u001b[39mReward: -28.35652619176274\n",
      "\u001b[36m\u001b[1m[ \u001b[22m\u001b[39m\u001b[36m\u001b[1mInfo: \u001b[22m\u001b[39mactor loss: -26.625303819750773\n",
      "\u001b[36m\u001b[1m[ \u001b[22m\u001b[39m\u001b[36m\u001b[1mInfo: \u001b[22m\u001b[39mcritc loss: 385.81898369178305\n",
      "\u001b[36m\u001b[1m[ \u001b[22m\u001b[39m\u001b[36m\u001b[1mInfo: \u001b[22m\u001b[39mstep 850000\n",
      "\u001b[36m\u001b[1m[ \u001b[22m\u001b[39m\u001b[36m\u001b[1mInfo: \u001b[22m\u001b[39mReward: -28.45126508857274\n",
      "\u001b[36m\u001b[1m[ \u001b[22m\u001b[39m\u001b[36m\u001b[1mInfo: \u001b[22m\u001b[39mactor loss: -39.31640402897856\n",
      "\u001b[36m\u001b[1m[ \u001b[22m\u001b[39m\u001b[36m\u001b[1mInfo: \u001b[22m\u001b[39mcritc loss: 732.7512206895377\n",
      "\u001b[36m\u001b[1m[ \u001b[22m\u001b[39m\u001b[36m\u001b[1mInfo: \u001b[22m\u001b[39mstep 860000\n",
      "\u001b[36m\u001b[1m[ \u001b[22m\u001b[39m\u001b[36m\u001b[1mInfo: \u001b[22m\u001b[39mReward: -2.3849087582064543\n",
      "\u001b[36m\u001b[1m[ \u001b[22m\u001b[39m\u001b[36m\u001b[1mInfo: \u001b[22m\u001b[39mactor loss: 19.00230044808781\n",
      "\u001b[36m\u001b[1m[ \u001b[22m\u001b[39m\u001b[36m\u001b[1mInfo: \u001b[22m\u001b[39mcritc loss: 155.0566294670235\n",
      "\u001b[36m\u001b[1m[ \u001b[22m\u001b[39m\u001b[36m\u001b[1mInfo: \u001b[22m\u001b[39mstep 870000\n",
      "\u001b[36m\u001b[1m[ \u001b[22m\u001b[39m\u001b[36m\u001b[1mInfo: \u001b[22m\u001b[39mReward: -28.550917879408725\n",
      "\u001b[36m\u001b[1m[ \u001b[22m\u001b[39m\u001b[36m\u001b[1mInfo: \u001b[22m\u001b[39mactor loss: -32.038475021851056\n",
      "\u001b[36m\u001b[1m[ \u001b[22m\u001b[39m\u001b[36m\u001b[1mInfo: \u001b[22m\u001b[39mcritc loss: 588.3946352020267\n",
      "\u001b[36m\u001b[1m[ \u001b[22m\u001b[39m\u001b[36m\u001b[1mInfo: \u001b[22m\u001b[39mstep 880000\n",
      "\u001b[36m\u001b[1m[ \u001b[22m\u001b[39m\u001b[36m\u001b[1mInfo: \u001b[22m\u001b[39mReward: 21.45735464601133\n",
      "\u001b[36m\u001b[1m[ \u001b[22m\u001b[39m\u001b[36m\u001b[1mInfo: \u001b[22m\u001b[39mactor loss: 44.67448303203838\n",
      "\u001b[36m\u001b[1m[ \u001b[22m\u001b[39m\u001b[36m\u001b[1mInfo: \u001b[22m\u001b[39mcritc loss: 795.8438655165328\n",
      "\u001b[36m\u001b[1m[ \u001b[22m\u001b[39m\u001b[36m\u001b[1mInfo: \u001b[22m\u001b[39mstep 890000\n",
      "\u001b[36m\u001b[1m[ \u001b[22m\u001b[39m\u001b[36m\u001b[1mInfo: \u001b[22m\u001b[39mReward: 14.484473644185975\n",
      "\u001b[36m\u001b[1m[ \u001b[22m\u001b[39m\u001b[36m\u001b[1mInfo: \u001b[22m\u001b[39mactor loss: 4.58749652002706\n",
      "\u001b[36m\u001b[1m[ \u001b[22m\u001b[39m\u001b[36m\u001b[1mInfo: \u001b[22m\u001b[39mcritc loss: 13.605183351891476\n",
      "\u001b[36m\u001b[1m[ \u001b[22m\u001b[39m\u001b[36m\u001b[1mInfo: \u001b[22m\u001b[39mstep 900000\n",
      "\u001b[36m\u001b[1m[ \u001b[22m\u001b[39m\u001b[36m\u001b[1mInfo: \u001b[22m\u001b[39mReward: 16.73130327249035\n",
      "\u001b[36m\u001b[1m[ \u001b[22m\u001b[39m\u001b[36m\u001b[1mInfo: \u001b[22m\u001b[39mactor loss: 21.326660406464477\n",
      "\u001b[36m\u001b[1m[ \u001b[22m\u001b[39m\u001b[36m\u001b[1mInfo: \u001b[22m\u001b[39mcritc loss: 265.91305117180457\n",
      "\u001b[36m\u001b[1m[ \u001b[22m\u001b[39m\u001b[36m\u001b[1mInfo: \u001b[22m\u001b[39mstep 910000\n",
      "\u001b[36m\u001b[1m[ \u001b[22m\u001b[39m\u001b[36m\u001b[1mInfo: \u001b[22m\u001b[39mReward: -28.072409609820312\n",
      "\u001b[36m\u001b[1m[ \u001b[22m\u001b[39m\u001b[36m\u001b[1mInfo: \u001b[22m\u001b[39mactor loss: -10.468463224671888\n",
      "\u001b[36m\u001b[1m[ \u001b[22m\u001b[39m\u001b[36m\u001b[1mInfo: \u001b[22m\u001b[39mcritc loss: 42.35212022339548\n",
      "\u001b[36m\u001b[1m[ \u001b[22m\u001b[39m\u001b[36m\u001b[1mInfo: \u001b[22m\u001b[39mstep 920000\n",
      "\u001b[36m\u001b[1m[ \u001b[22m\u001b[39m\u001b[36m\u001b[1mInfo: \u001b[22m\u001b[39mReward: 2.2437516312587293\n",
      "\u001b[36m\u001b[1m[ \u001b[22m\u001b[39m\u001b[36m\u001b[1mInfo: \u001b[22m\u001b[39mactor loss: -41.991158725409285\n",
      "\u001b[36m\u001b[1m[ \u001b[22m\u001b[39m\u001b[36m\u001b[1mInfo: \u001b[22m\u001b[39mcritc loss: 665.4221698421101\n",
      "\u001b[36m\u001b[1m[ \u001b[22m\u001b[39m\u001b[36m\u001b[1mInfo: \u001b[22m\u001b[39mstep 930000\n",
      "\u001b[36m\u001b[1m[ \u001b[22m\u001b[39m\u001b[36m\u001b[1mInfo: \u001b[22m\u001b[39mReward: -0.1886357851112288\n",
      "\u001b[36m\u001b[1m[ \u001b[22m\u001b[39m\u001b[36m\u001b[1mInfo: \u001b[22m\u001b[39mactor loss: -21.328293191296666\n",
      "\u001b[36m\u001b[1m[ \u001b[22m\u001b[39m\u001b[36m\u001b[1mInfo: \u001b[22m\u001b[39mcritc loss: 265.00629216849035\n",
      "\u001b[36m\u001b[1m[ \u001b[22m\u001b[39m\u001b[36m\u001b[1mInfo: \u001b[22m\u001b[39mstep 940000\n",
      "\u001b[36m\u001b[1m[ \u001b[22m\u001b[39m\u001b[36m\u001b[1mInfo: \u001b[22m\u001b[39mReward: -0.7108419903871863\n",
      "\u001b[36m\u001b[1m[ \u001b[22m\u001b[39m\u001b[36m\u001b[1mInfo: \u001b[22m\u001b[39mactor loss: -5.847182701608618\n",
      "\u001b[36m\u001b[1m[ \u001b[22m\u001b[39m\u001b[36m\u001b[1mInfo: \u001b[22m\u001b[39mcritc loss: 18.282414090737202\n",
      "\u001b[36m\u001b[1m[ \u001b[22m\u001b[39m\u001b[36m\u001b[1mInfo: \u001b[22m\u001b[39mstep 950000\n",
      "\u001b[36m\u001b[1m[ \u001b[22m\u001b[39m\u001b[36m\u001b[1mInfo: \u001b[22m\u001b[39mReward: -6.717169017352086\n",
      "\u001b[36m\u001b[1m[ \u001b[22m\u001b[39m\u001b[36m\u001b[1mInfo: \u001b[22m\u001b[39mactor loss: -5.443754054779173\n",
      "\u001b[36m\u001b[1m[ \u001b[22m\u001b[39m\u001b[36m\u001b[1mInfo: \u001b[22m\u001b[39mcritc loss: 11.568035364806514\n",
      "\u001b[36m\u001b[1m[ \u001b[22m\u001b[39m\u001b[36m\u001b[1mInfo: \u001b[22m\u001b[39mstep 960000\n",
      "\u001b[36m\u001b[1m[ \u001b[22m\u001b[39m\u001b[36m\u001b[1mInfo: \u001b[22m\u001b[39mReward: 22.091040212790265\n",
      "\u001b[36m\u001b[1m[ \u001b[22m\u001b[39m\u001b[36m\u001b[1mInfo: \u001b[22m\u001b[39mactor loss: 46.59026184804826\n",
      "\u001b[36m\u001b[1m[ \u001b[22m\u001b[39m\u001b[36m\u001b[1mInfo: \u001b[22m\u001b[39mcritc loss: 848.2211192321955\n",
      "\u001b[36m\u001b[1m[ \u001b[22m\u001b[39m\u001b[36m\u001b[1mInfo: \u001b[22m\u001b[39mstep 970000\n",
      "\u001b[36m\u001b[1m[ \u001b[22m\u001b[39m\u001b[36m\u001b[1mInfo: \u001b[22m\u001b[39mReward: -27.41115493265981\n",
      "\u001b[36m\u001b[1m[ \u001b[22m\u001b[39m\u001b[36m\u001b[1mInfo: \u001b[22m\u001b[39mactor loss: -23.620373469934613\n",
      "\u001b[36m\u001b[1m[ \u001b[22m\u001b[39m\u001b[36m\u001b[1mInfo: \u001b[22m\u001b[39mcritc loss: 295.1510321490242\n",
      "\u001b[36m\u001b[1m[ \u001b[22m\u001b[39m\u001b[36m\u001b[1mInfo: \u001b[22m\u001b[39mstep 980000\n",
      "\u001b[36m\u001b[1m[ \u001b[22m\u001b[39m\u001b[36m\u001b[1mInfo: \u001b[22m\u001b[39mReward: 21.501107707203634\n",
      "\u001b[36m\u001b[1m[ \u001b[22m\u001b[39m\u001b[36m\u001b[1mInfo: \u001b[22m\u001b[39mactor loss: 12.907685115655902\n",
      "\u001b[36m\u001b[1m[ \u001b[22m\u001b[39m\u001b[36m\u001b[1mInfo: \u001b[22m\u001b[39mcritc loss: 67.22474265859636\n",
      "\u001b[36m\u001b[1m[ \u001b[22m\u001b[39m\u001b[36m\u001b[1mInfo: \u001b[22m\u001b[39mstep 990000\n",
      "\u001b[36m\u001b[1m[ \u001b[22m\u001b[39m\u001b[36m\u001b[1mInfo: \u001b[22m\u001b[39mReward: -2.893860907944779\n",
      "\u001b[36m\u001b[1m[ \u001b[22m\u001b[39m\u001b[36m\u001b[1mInfo: \u001b[22m\u001b[39mactor loss: -9.928900671329801\n",
      "\u001b[36m\u001b[1m[ \u001b[22m\u001b[39m\u001b[36m\u001b[1mInfo: \u001b[22m\u001b[39mcritc loss: 39.505518747547626\n",
      "\u001b[36m\u001b[1m[ \u001b[22m\u001b[39m\u001b[36m\u001b[1mInfo: \u001b[22m\u001b[39mstep 1000000\n",
      "\u001b[36m\u001b[1m[ \u001b[22m\u001b[39m\u001b[36m\u001b[1mInfo: \u001b[22m\u001b[39mReward: -4.824735310693799\n",
      "\u001b[36m\u001b[1m[ \u001b[22m\u001b[39m\u001b[36m\u001b[1mInfo: \u001b[22m\u001b[39mactor loss: 9.970383472606608\n",
      "\u001b[36m\u001b[1m[ \u001b[22m\u001b[39m\u001b[36m\u001b[1mInfo: \u001b[22m\u001b[39mcritc loss: 32.83522098720638\n"
     ]
    }
   ],
   "source": [
    "run!(agent,1_000_000, plotting = false, summary = true)"
   ]
  },
  {
   "cell_type": "code",
   "execution_count": 38,
   "id": "d98bc13a",
   "metadata": {},
   "outputs": [
    {
     "data": {
      "image/png": "[encoded data removed]",
      "image/svg+xml": [
       "<?xml version=\"1.0\" encoding=\"utf-8\"?>\n",
       "<svg xmlns=\"http://www.w3.org/2000/svg\" xmlns:xlink=\"http://www.w3.org/1999/xlink\" width=\"600\" height=\"400\" viewBox=\"0 0 2400 1600\">\n",
       "<defs>\n",
       "  <clipPath id=\"clip250\">\n",
       "    <rect x=\"0\" y=\"0\" width=\"2400\" height=\"1600\"/>\n",
       "  </clipPath>\n",
       "</defs>\n",
       "<path clip-path=\"url(#clip250)\" d=\"M0 1600 L2400 1600 L2400 0 L0 0  Z\" fill=\"#ffffff\" fill-rule=\"evenodd\" fill-opacity=\"1\"/>\n",
       "<defs>\n",
       "  <clipPath id=\"clip251\">\n",
       "    <rect x=\"480\" y=\"0\" width=\"1681\" height=\"1600\"/>\n",
       "  </clipPath>\n",
       "</defs>\n",
       "<path clip-path=\"url(#clip250)\" d=\"M186.274 1486.45 L2352.76 1486.45 L2352.76 47.2441 L186.274 47.2441  Z\" fill=\"#ffffff\" fill-rule=\"evenodd\" fill-opacity=\"1\"/>\n",
       "<defs>\n",
       "  <clipPath id=\"clip252\">\n",
       "    <rect x=\"186\" y=\"47\" width=\"2167\" height=\"1440\"/>\n",
       "  </clipPath>\n",
       "</defs>\n",
       "<polyline clip-path=\"url(#clip252)\" style=\"stroke:#0000ff; stroke-linecap:round; stroke-linejoin:round; stroke-width:8; stroke-opacity:1; fill:none\" points=\"247.59,1445.72 247.59,87.9763 \"/>\n",
       "<polyline clip-path=\"url(#clip252)\" style=\"stroke:#0000ff; stroke-linecap:round; stroke-linejoin:round; stroke-width:8; stroke-opacity:1; fill:none\" points=\"247.59,1445.72 2291.44,1445.72 \"/>\n",
       "<polyline clip-path=\"url(#clip252)\" style=\"stroke:#0000ff; stroke-linecap:round; stroke-linejoin:round; stroke-width:8; stroke-opacity:1; fill:none\" points=\"2291.44,1445.72 2291.44,87.9763 \"/>\n",
       "<polyline clip-path=\"url(#clip252)\" style=\"stroke:#0000ff; stroke-linecap:round; stroke-linejoin:round; stroke-width:8; stroke-opacity:1; fill:none\" points=\"247.59,87.9763 2291.44,87.9763 \"/>\n",
       "<polyline clip-path=\"url(#clip252)\" style=\"stroke:#0000ff; stroke-linecap:round; stroke-linejoin:round; stroke-width:8; stroke-opacity:1; fill:none\" points=\"451.975,1309.94 860.745,1309.94 \"/>\n",
       "<polyline clip-path=\"url(#clip252)\" style=\"stroke:#0000ff; stroke-linecap:round; stroke-linejoin:round; stroke-width:8; stroke-opacity:1; fill:none\" points=\"451.975,223.75 860.745,223.75 \"/>\n",
       "<polyline clip-path=\"url(#clip252)\" style=\"stroke:#0000ff; stroke-linecap:round; stroke-linejoin:round; stroke-width:8; stroke-opacity:1; fill:none\" points=\"860.745,1309.94 860.745,223.75 \"/>\n",
       "<polyline clip-path=\"url(#clip252)\" style=\"stroke:#0000ff; stroke-linecap:round; stroke-linejoin:round; stroke-width:8; stroke-opacity:1; fill:none\" points=\"1678.29,1309.94 2087.06,1309.94 \"/>\n",
       "<polyline clip-path=\"url(#clip252)\" style=\"stroke:#0000ff; stroke-linecap:round; stroke-linejoin:round; stroke-width:8; stroke-opacity:1; fill:none\" points=\"1678.29,223.75 2087.06,223.75 \"/>\n",
       "<polyline clip-path=\"url(#clip252)\" style=\"stroke:#0000ff; stroke-linecap:round; stroke-linejoin:round; stroke-width:8; stroke-opacity:1; fill:none\" points=\"1678.29,1309.94 1678.29,223.75 \"/>\n",
       "<circle clip-path=\"url(#clip252)\" cx=\"1284.65\" cy=\"1397.75\" r=\"57.6\" fill=\"#ff0000\" fill-rule=\"evenodd\" fill-opacity=\"0.6\" stroke=\"#000000\" stroke-opacity=\"0.6\" stroke-width=\"3.2\"/>\n",
       "<circle clip-path=\"url(#clip252)\" cx=\"1054.11\" cy=\"1059.31\" r=\"57.6\" fill=\"#ff0000\" fill-rule=\"evenodd\" fill-opacity=\"0.6\" stroke=\"#000000\" stroke-opacity=\"0.6\" stroke-width=\"3.2\"/>\n",
       "<circle clip-path=\"url(#clip252)\" cx=\"1799.34\" cy=\"1417.94\" r=\"57.6\" fill=\"#ff0000\" fill-rule=\"evenodd\" fill-opacity=\"0.6\" stroke=\"#000000\" stroke-opacity=\"0.6\" stroke-width=\"3.2\"/>\n",
       "<circle clip-path=\"url(#clip252)\" cx=\"1920.51\" cy=\"466.073\" r=\"57.6\" fill=\"#ff0000\" fill-rule=\"evenodd\" fill-opacity=\"0.6\" stroke=\"#000000\" stroke-opacity=\"0.6\" stroke-width=\"3.2\"/>\n",
       "<circle clip-path=\"url(#clip252)\" cx=\"2142.77\" cy=\"976.226\" r=\"57.6\" fill=\"#ff0000\" fill-rule=\"evenodd\" fill-opacity=\"0.6\" stroke=\"#000000\" stroke-opacity=\"0.6\" stroke-width=\"3.2\"/>\n",
       "<circle clip-path=\"url(#clip252)\" cx=\"1781.39\" cy=\"331.311\" r=\"57.6\" fill=\"#ff0000\" fill-rule=\"evenodd\" fill-opacity=\"0.6\" stroke=\"#000000\" stroke-opacity=\"0.6\" stroke-width=\"3.2\"/>\n",
       "<circle clip-path=\"url(#clip252)\" cx=\"1024.45\" cy=\"836.211\" r=\"57.6\" fill=\"#ff0000\" fill-rule=\"evenodd\" fill-opacity=\"0.6\" stroke=\"#000000\" stroke-opacity=\"0.6\" stroke-width=\"3.2\"/>\n",
       "<circle clip-path=\"url(#clip252)\" cx=\"2190.1\" cy=\"698.075\" r=\"57.6\" fill=\"#ff0000\" fill-rule=\"evenodd\" fill-opacity=\"0.6\" stroke=\"#000000\" stroke-opacity=\"0.6\" stroke-width=\"3.2\"/>\n",
       "<circle clip-path=\"url(#clip252)\" cx=\"1406.99\" cy=\"654.216\" r=\"57.6\" fill=\"#ff0000\" fill-rule=\"evenodd\" fill-opacity=\"0.6\" stroke=\"#000000\" stroke-opacity=\"0.6\" stroke-width=\"3.2\"/>\n",
       "<circle clip-path=\"url(#clip252)\" cx=\"1576.56\" cy=\"758.69\" r=\"57.6\" fill=\"#ff0000\" fill-rule=\"evenodd\" fill-opacity=\"0.6\" stroke=\"#000000\" stroke-opacity=\"0.6\" stroke-width=\"3.2\"/>\n",
       "<circle clip-path=\"url(#clip252)\" cx=\"1702.2\" cy=\"806.842\" r=\"57.6\" fill=\"#ff0000\" fill-rule=\"evenodd\" fill-opacity=\"0.6\" stroke=\"#000000\" stroke-opacity=\"0.6\" stroke-width=\"3.2\"/>\n",
       "<circle clip-path=\"url(#clip252)\" cx=\"915.65\" cy=\"1434.04\" r=\"57.6\" fill=\"#ff0000\" fill-rule=\"evenodd\" fill-opacity=\"0.6\" stroke=\"#000000\" stroke-opacity=\"0.6\" stroke-width=\"3.2\"/>\n",
       "<circle clip-path=\"url(#clip252)\" cx=\"1779.21\" cy=\"667.496\" r=\"57.6\" fill=\"#ff0000\" fill-rule=\"evenodd\" fill-opacity=\"0.6\" stroke=\"#000000\" stroke-opacity=\"0.6\" stroke-width=\"3.2\"/>\n",
       "<circle clip-path=\"url(#clip252)\" cx=\"590.517\" cy=\"1179.93\" r=\"57.6\" fill=\"#ff0000\" fill-rule=\"evenodd\" fill-opacity=\"0.6\" stroke=\"#000000\" stroke-opacity=\"0.6\" stroke-width=\"3.2\"/>\n",
       "<circle clip-path=\"url(#clip252)\" cx=\"1059.51\" cy=\"824.885\" r=\"57.6\" fill=\"#ff0000\" fill-rule=\"evenodd\" fill-opacity=\"0.6\" stroke=\"#000000\" stroke-opacity=\"0.6\" stroke-width=\"3.2\"/>\n",
       "<circle clip-path=\"url(#clip252)\" cx=\"1048.11\" cy=\"1195.39\" r=\"57.6\" fill=\"#ff0000\" fill-rule=\"evenodd\" fill-opacity=\"0.6\" stroke=\"#000000\" stroke-opacity=\"0.6\" stroke-width=\"3.2\"/>\n",
       "<circle clip-path=\"url(#clip252)\" cx=\"681.538\" cy=\"926.104\" r=\"57.6\" fill=\"#ff0000\" fill-rule=\"evenodd\" fill-opacity=\"0.6\" stroke=\"#000000\" stroke-opacity=\"0.6\" stroke-width=\"3.2\"/>\n",
       "<circle clip-path=\"url(#clip252)\" cx=\"1507.34\" cy=\"135.063\" r=\"57.6\" fill=\"#ff0000\" fill-rule=\"evenodd\" fill-opacity=\"0.6\" stroke=\"#000000\" stroke-opacity=\"0.6\" stroke-width=\"3.2\"/>\n",
       "<circle clip-path=\"url(#clip252)\" cx=\"1554.17\" cy=\"1359.35\" r=\"57.6\" fill=\"#ff0000\" fill-rule=\"evenodd\" fill-opacity=\"0.6\" stroke=\"#000000\" stroke-opacity=\"0.6\" stroke-width=\"3.2\"/>\n",
       "<circle clip-path=\"url(#clip252)\" cx=\"2066.56\" cy=\"445.778\" r=\"57.6\" fill=\"#ff0000\" fill-rule=\"evenodd\" fill-opacity=\"0.6\" stroke=\"#000000\" stroke-opacity=\"0.6\" stroke-width=\"3.2\"/>\n",
       "<circle clip-path=\"url(#clip252)\" cx=\"1073.74\" cy=\"619.242\" r=\"57.6\" fill=\"#ff0000\" fill-rule=\"evenodd\" fill-opacity=\"0.6\" stroke=\"#000000\" stroke-opacity=\"0.6\" stroke-width=\"3.2\"/>\n",
       "<circle clip-path=\"url(#clip252)\" cx=\"1996.95\" cy=\"1417.83\" r=\"57.6\" fill=\"#ff0000\" fill-rule=\"evenodd\" fill-opacity=\"0.6\" stroke=\"#000000\" stroke-opacity=\"0.6\" stroke-width=\"3.2\"/>\n",
       "<circle clip-path=\"url(#clip252)\" cx=\"1076.91\" cy=\"223.751\" r=\"57.6\" fill=\"#ff0000\" fill-rule=\"evenodd\" fill-opacity=\"0.6\" stroke=\"#000000\" stroke-opacity=\"0.6\" stroke-width=\"3.2\"/>\n",
       "<circle clip-path=\"url(#clip252)\" cx=\"2137.43\" cy=\"748.779\" r=\"57.6\" fill=\"#ff0000\" fill-rule=\"evenodd\" fill-opacity=\"0.6\" stroke=\"#000000\" stroke-opacity=\"0.6\" stroke-width=\"3.2\"/>\n",
       "<circle clip-path=\"url(#clip252)\" cx=\"1228.26\" cy=\"1430.45\" r=\"57.6\" fill=\"#008000\" fill-rule=\"evenodd\" fill-opacity=\"0.6\" stroke=\"#000000\" stroke-opacity=\"0.6\" stroke-width=\"3.2\"/>\n",
       "<circle clip-path=\"url(#clip252)\" cx=\"1193.31\" cy=\"1091.24\" r=\"57.6\" fill=\"#008000\" fill-rule=\"evenodd\" fill-opacity=\"0.6\" stroke=\"#000000\" stroke-opacity=\"0.6\" stroke-width=\"3.2\"/>\n",
       "<circle clip-path=\"url(#clip252)\" cx=\"899.517\" cy=\"152.663\" r=\"57.6\" fill=\"#008000\" fill-rule=\"evenodd\" fill-opacity=\"0.6\" stroke=\"#000000\" stroke-opacity=\"0.6\" stroke-width=\"3.2\"/>\n",
       "<circle clip-path=\"url(#clip252)\" cx=\"1982.9\" cy=\"1177.37\" r=\"57.6\" fill=\"#008000\" fill-rule=\"evenodd\" fill-opacity=\"0.6\" stroke=\"#000000\" stroke-opacity=\"0.6\" stroke-width=\"3.2\"/>\n",
       "<circle clip-path=\"url(#clip252)\" cx=\"1392.09\" cy=\"381.716\" r=\"57.6\" fill=\"#008000\" fill-rule=\"evenodd\" fill-opacity=\"0.6\" stroke=\"#000000\" stroke-opacity=\"0.6\" stroke-width=\"3.2\"/>\n",
       "<circle clip-path=\"url(#clip252)\" cx=\"2004.28\" cy=\"651.357\" r=\"57.6\" fill=\"#008000\" fill-rule=\"evenodd\" fill-opacity=\"0.6\" stroke=\"#000000\" stroke-opacity=\"0.6\" stroke-width=\"3.2\"/>\n",
       "<circle clip-path=\"url(#clip252)\" cx=\"990.332\" cy=\"756.379\" r=\"57.6\" fill=\"#008000\" fill-rule=\"evenodd\" fill-opacity=\"0.6\" stroke=\"#000000\" stroke-opacity=\"0.6\" stroke-width=\"3.2\"/>\n",
       "<circle clip-path=\"url(#clip252)\" cx=\"437.576\" cy=\"1266.96\" r=\"57.6\" fill=\"#008000\" fill-rule=\"evenodd\" fill-opacity=\"0.6\" stroke=\"#000000\" stroke-opacity=\"0.6\" stroke-width=\"3.2\"/>\n",
       "<circle clip-path=\"url(#clip252)\" cx=\"2230.9\" cy=\"512.732\" r=\"57.6\" fill=\"#008000\" fill-rule=\"evenodd\" fill-opacity=\"0.6\" stroke=\"#000000\" stroke-opacity=\"0.6\" stroke-width=\"3.2\"/>\n",
       "<circle clip-path=\"url(#clip252)\" cx=\"2133.93\" cy=\"128.362\" r=\"57.6\" fill=\"#008000\" fill-rule=\"evenodd\" fill-opacity=\"0.6\" stroke=\"#000000\" stroke-opacity=\"0.6\" stroke-width=\"3.2\"/>\n",
       "<circle clip-path=\"url(#clip252)\" cx=\"1808.6\" cy=\"1371.76\" r=\"57.6\" fill=\"#008000\" fill-rule=\"evenodd\" fill-opacity=\"0.6\" stroke=\"#000000\" stroke-opacity=\"0.6\" stroke-width=\"3.2\"/>\n",
       "<circle clip-path=\"url(#clip252)\" cx=\"1474.6\" cy=\"842.989\" r=\"57.6\" fill=\"#008000\" fill-rule=\"evenodd\" fill-opacity=\"0.6\" stroke=\"#000000\" stroke-opacity=\"0.6\" stroke-width=\"3.2\"/>\n",
       "<circle clip-path=\"url(#clip252)\" cx=\"1751.04\" cy=\"1029.77\" r=\"57.6\" fill=\"#008000\" fill-rule=\"evenodd\" fill-opacity=\"0.6\" stroke=\"#000000\" stroke-opacity=\"0.6\" stroke-width=\"3.2\"/>\n",
       "<circle clip-path=\"url(#clip252)\" cx=\"1470.46\" cy=\"981.745\" r=\"57.6\" fill=\"#008000\" fill-rule=\"evenodd\" fill-opacity=\"0.6\" stroke=\"#000000\" stroke-opacity=\"0.6\" stroke-width=\"3.2\"/>\n",
       "<circle clip-path=\"url(#clip252)\" cx=\"1121.51\" cy=\"549.772\" r=\"57.6\" fill=\"#008000\" fill-rule=\"evenodd\" fill-opacity=\"0.6\" stroke=\"#000000\" stroke-opacity=\"0.6\" stroke-width=\"3.2\"/>\n",
       "<circle clip-path=\"url(#clip252)\" cx=\"1370.48\" cy=\"340.631\" r=\"57.6\" fill=\"#008000\" fill-rule=\"evenodd\" fill-opacity=\"0.6\" stroke=\"#000000\" stroke-opacity=\"0.6\" stroke-width=\"3.2\"/>\n",
       "<circle clip-path=\"url(#clip252)\" cx=\"1759.04\" cy=\"913.762\" r=\"57.6\" fill=\"#008000\" fill-rule=\"evenodd\" fill-opacity=\"0.6\" stroke=\"#000000\" stroke-opacity=\"0.6\" stroke-width=\"3.2\"/>\n",
       "<circle clip-path=\"url(#clip252)\" cx=\"1953.24\" cy=\"333.073\" r=\"57.6\" fill=\"#008000\" fill-rule=\"evenodd\" fill-opacity=\"0.6\" stroke=\"#000000\" stroke-opacity=\"0.6\" stroke-width=\"3.2\"/>\n",
       "<circle clip-path=\"url(#clip252)\" cx=\"1223.49\" cy=\"1433.43\" r=\"57.6\" fill=\"#008000\" fill-rule=\"evenodd\" fill-opacity=\"0.6\" stroke=\"#000000\" stroke-opacity=\"0.6\" stroke-width=\"3.2\"/>\n",
       "<circle clip-path=\"url(#clip252)\" cx=\"1781.9\" cy=\"780.525\" r=\"57.6\" fill=\"#008000\" fill-rule=\"evenodd\" fill-opacity=\"0.6\" stroke=\"#000000\" stroke-opacity=\"0.6\" stroke-width=\"3.2\"/>\n",
       "<circle clip-path=\"url(#clip252)\" cx=\"765.005\" cy=\"1215.75\" r=\"57.6\" fill=\"#008000\" fill-rule=\"evenodd\" fill-opacity=\"0.6\" stroke=\"#000000\" stroke-opacity=\"0.6\" stroke-width=\"3.2\"/>\n",
       "<circle clip-path=\"url(#clip252)\" cx=\"2041.31\" cy=\"1252.19\" r=\"57.6\" fill=\"#008000\" fill-rule=\"evenodd\" fill-opacity=\"0.6\" stroke=\"#000000\" stroke-opacity=\"0.6\" stroke-width=\"3.2\"/>\n",
       "<circle clip-path=\"url(#clip252)\" cx=\"1453.8\" cy=\"1373.06\" r=\"57.6\" fill=\"#008000\" fill-rule=\"evenodd\" fill-opacity=\"0.6\" stroke=\"#000000\" stroke-opacity=\"0.6\" stroke-width=\"3.2\"/>\n",
       "<circle clip-path=\"url(#clip252)\" cx=\"1380.43\" cy=\"557.734\" r=\"57.6\" fill=\"#008000\" fill-rule=\"evenodd\" fill-opacity=\"0.6\" stroke=\"#000000\" stroke-opacity=\"0.6\" stroke-width=\"3.2\"/>\n",
       "<circle clip-path=\"url(#clip252)\" cx=\"312.385\" cy=\"1053.52\" r=\"57.6\" fill=\"#008000\" fill-rule=\"evenodd\" fill-opacity=\"0.6\" stroke=\"#000000\" stroke-opacity=\"0.6\" stroke-width=\"3.2\"/>\n",
       "<circle clip-path=\"url(#clip252)\" cx=\"975.073\" cy=\"854.344\" r=\"57.6\" fill=\"#008000\" fill-rule=\"evenodd\" fill-opacity=\"0.6\" stroke=\"#000000\" stroke-opacity=\"0.6\" stroke-width=\"3.2\"/>\n",
       "<circle clip-path=\"url(#clip252)\" cx=\"538.239\" cy=\"678.535\" r=\"72\" fill=\"#ffa500\" fill-rule=\"evenodd\" fill-opacity=\"0.8\" stroke=\"#000000\" stroke-opacity=\"0.8\" stroke-width=\"3.2\"/>\n",
       "<polyline clip-path=\"url(#clip252)\" style=\"stroke:#000000; stroke-linecap:round; stroke-linejoin:round; stroke-width:2; stroke-opacity:0.6; fill:none\" points=\"538.239,678.535 247.59,699.871 \"/>\n",
       "<polyline clip-path=\"url(#clip252)\" style=\"stroke:#000000; stroke-linecap:round; stroke-linejoin:round; stroke-width:2; stroke-opacity:0.6; fill:none\" points=\"538.239,678.535 247.59,651.337 \"/>\n",
       "<polyline clip-path=\"url(#clip252)\" style=\"stroke:#000000; stroke-linecap:round; stroke-linejoin:round; stroke-width:2; stroke-opacity:0.6; fill:none\" points=\"538.239,678.535 247.59,599.182 \"/>\n",
       "<polyline clip-path=\"url(#clip252)\" style=\"stroke:#000000; stroke-linecap:round; stroke-linejoin:round; stroke-width:2; stroke-opacity:0.6; fill:none\" points=\"538.239,678.535 247.59,534.797 \"/>\n",
       "<polyline clip-path=\"url(#clip252)\" style=\"stroke:#000000; stroke-linecap:round; stroke-linejoin:round; stroke-width:2; stroke-opacity:0.6; fill:none\" points=\"538.239,678.535 280.935,467.533 \"/>\n",
       "<polyline clip-path=\"url(#clip252)\" style=\"stroke:#000000; stroke-linecap:round; stroke-linejoin:round; stroke-width:2; stroke-opacity:0.6; fill:none\" points=\"538.239,678.535 367.516,431.804 \"/>\n",
       "<polyline clip-path=\"url(#clip252)\" style=\"stroke:#000000; stroke-linecap:round; stroke-linejoin:round; stroke-width:2; stroke-opacity:0.6; fill:none\" points=\"538.239,678.535 464.712,411.416 \"/>\n",
       "<polyline clip-path=\"url(#clip252)\" style=\"stroke:#000000; stroke-linecap:round; stroke-linejoin:round; stroke-width:2; stroke-opacity:0.6; fill:none\" points=\"538.239,678.535 566.48,407.636 \"/>\n",
       "<polyline clip-path=\"url(#clip252)\" style=\"stroke:#000000; stroke-linecap:round; stroke-linejoin:round; stroke-width:2; stroke-opacity:0.6; fill:none\" points=\"538.239,678.535 666.492,420.699 \"/>\n",
       "</svg>\n"
      ],
      "text/html": [
       "<?xml version=\"1.0\" encoding=\"utf-8\"?>\n",
       "<svg xmlns=\"http://www.w3.org/2000/svg\" xmlns:xlink=\"http://www.w3.org/1999/xlink\" width=\"600\" height=\"400\" viewBox=\"0 0 2400 1600\">\n",
       "<defs>\n",
       "  <clipPath id=\"clip300\">\n",
       "    <rect x=\"0\" y=\"0\" width=\"2400\" height=\"1600\"/>\n",
       "  </clipPath>\n",
       "</defs>\n",
       "<path clip-path=\"url(#clip300)\" d=\"M0 1600 L2400 1600 L2400 0 L0 0  Z\" fill=\"#ffffff\" fill-rule=\"evenodd\" fill-opacity=\"1\"/>\n",
       "<defs>\n",
       "  <clipPath id=\"clip301\">\n",
       "    <rect x=\"480\" y=\"0\" width=\"1681\" height=\"1600\"/>\n",
       "  </clipPath>\n",
       "</defs>\n",
       "<path clip-path=\"url(#clip300)\" d=\"M186.274 1486.45 L2352.76 1486.45 L2352.76 47.2441 L186.274 47.2441  Z\" fill=\"#ffffff\" fill-rule=\"evenodd\" fill-opacity=\"1\"/>\n",
       "<defs>\n",
       "  <clipPath id=\"clip302\">\n",
       "    <rect x=\"186\" y=\"47\" width=\"2167\" height=\"1440\"/>\n",
       "  </clipPath>\n",
       "</defs>\n",
       "<polyline clip-path=\"url(#clip302)\" style=\"stroke:#0000ff; stroke-linecap:round; stroke-linejoin:round; stroke-width:8; stroke-opacity:1; fill:none\" points=\"247.59,1445.72 247.59,87.9763 \"/>\n",
       "<polyline clip-path=\"url(#clip302)\" style=\"stroke:#0000ff; stroke-linecap:round; stroke-linejoin:round; stroke-width:8; stroke-opacity:1; fill:none\" points=\"247.59,1445.72 2291.44,1445.72 \"/>\n",
       "<polyline clip-path=\"url(#clip302)\" style=\"stroke:#0000ff; stroke-linecap:round; stroke-linejoin:round; stroke-width:8; stroke-opacity:1; fill:none\" points=\"2291.44,1445.72 2291.44,87.9763 \"/>\n",
       "<polyline clip-path=\"url(#clip302)\" style=\"stroke:#0000ff; stroke-linecap:round; stroke-linejoin:round; stroke-width:8; stroke-opacity:1; fill:none\" points=\"247.59,87.9763 2291.44,87.9763 \"/>\n",
       "<polyline clip-path=\"url(#clip302)\" style=\"stroke:#0000ff; stroke-linecap:round; stroke-linejoin:round; stroke-width:8; stroke-opacity:1; fill:none\" points=\"451.975,1309.94 860.745,1309.94 \"/>\n",
       "<polyline clip-path=\"url(#clip302)\" style=\"stroke:#0000ff; stroke-linecap:round; stroke-linejoin:round; stroke-width:8; stroke-opacity:1; fill:none\" points=\"451.975,223.75 860.745,223.75 \"/>\n",
       "<polyline clip-path=\"url(#clip302)\" style=\"stroke:#0000ff; stroke-linecap:round; stroke-linejoin:round; stroke-width:8; stroke-opacity:1; fill:none\" points=\"860.745,1309.94 860.745,223.75 \"/>\n",
       "<polyline clip-path=\"url(#clip302)\" style=\"stroke:#0000ff; stroke-linecap:round; stroke-linejoin:round; stroke-width:8; stroke-opacity:1; fill:none\" points=\"1678.29,1309.94 2087.06,1309.94 \"/>\n",
       "<polyline clip-path=\"url(#clip302)\" style=\"stroke:#0000ff; stroke-linecap:round; stroke-linejoin:round; stroke-width:8; stroke-opacity:1; fill:none\" points=\"1678.29,223.75 2087.06,223.75 \"/>\n",
       "<polyline clip-path=\"url(#clip302)\" style=\"stroke:#0000ff; stroke-linecap:round; stroke-linejoin:round; stroke-width:8; stroke-opacity:1; fill:none\" points=\"1678.29,1309.94 1678.29,223.75 \"/>\n",
       "<circle clip-path=\"url(#clip302)\" cx=\"1284.65\" cy=\"1397.75\" r=\"57.6\" fill=\"#ff0000\" fill-rule=\"evenodd\" fill-opacity=\"0.6\" stroke=\"#000000\" stroke-opacity=\"0.6\" stroke-width=\"3.2\"/>\n",
       "<circle clip-path=\"url(#clip302)\" cx=\"1054.11\" cy=\"1059.31\" r=\"57.6\" fill=\"#ff0000\" fill-rule=\"evenodd\" fill-opacity=\"0.6\" stroke=\"#000000\" stroke-opacity=\"0.6\" stroke-width=\"3.2\"/>\n",
       "<circle clip-path=\"url(#clip302)\" cx=\"1799.34\" cy=\"1417.94\" r=\"57.6\" fill=\"#ff0000\" fill-rule=\"evenodd\" fill-opacity=\"0.6\" stroke=\"#000000\" stroke-opacity=\"0.6\" stroke-width=\"3.2\"/>\n",
       "<circle clip-path=\"url(#clip302)\" cx=\"1920.51\" cy=\"466.073\" r=\"57.6\" fill=\"#ff0000\" fill-rule=\"evenodd\" fill-opacity=\"0.6\" stroke=\"#000000\" stroke-opacity=\"0.6\" stroke-width=\"3.2\"/>\n",
       "<circle clip-path=\"url(#clip302)\" cx=\"2142.77\" cy=\"976.226\" r=\"57.6\" fill=\"#ff0000\" fill-rule=\"evenodd\" fill-opacity=\"0.6\" stroke=\"#000000\" stroke-opacity=\"0.6\" stroke-width=\"3.2\"/>\n",
       "<circle clip-path=\"url(#clip302)\" cx=\"1781.39\" cy=\"331.311\" r=\"57.6\" fill=\"#ff0000\" fill-rule=\"evenodd\" fill-opacity=\"0.6\" stroke=\"#000000\" stroke-opacity=\"0.6\" stroke-width=\"3.2\"/>\n",
       "<circle clip-path=\"url(#clip302)\" cx=\"1024.45\" cy=\"836.211\" r=\"57.6\" fill=\"#ff0000\" fill-rule=\"evenodd\" fill-opacity=\"0.6\" stroke=\"#000000\" stroke-opacity=\"0.6\" stroke-width=\"3.2\"/>\n",
       "<circle clip-path=\"url(#clip302)\" cx=\"2190.1\" cy=\"698.075\" r=\"57.6\" fill=\"#ff0000\" fill-rule=\"evenodd\" fill-opacity=\"0.6\" stroke=\"#000000\" stroke-opacity=\"0.6\" stroke-width=\"3.2\"/>\n",
       "<circle clip-path=\"url(#clip302)\" cx=\"1406.99\" cy=\"654.216\" r=\"57.6\" fill=\"#ff0000\" fill-rule=\"evenodd\" fill-opacity=\"0.6\" stroke=\"#000000\" stroke-opacity=\"0.6\" stroke-width=\"3.2\"/>\n",
       "<circle clip-path=\"url(#clip302)\" cx=\"1576.56\" cy=\"758.69\" r=\"57.6\" fill=\"#ff0000\" fill-rule=\"evenodd\" fill-opacity=\"0.6\" stroke=\"#000000\" stroke-opacity=\"0.6\" stroke-width=\"3.2\"/>\n",
       "<circle clip-path=\"url(#clip302)\" cx=\"1702.2\" cy=\"806.842\" r=\"57.6\" fill=\"#ff0000\" fill-rule=\"evenodd\" fill-opacity=\"0.6\" stroke=\"#000000\" stroke-opacity=\"0.6\" stroke-width=\"3.2\"/>\n",
       "<circle clip-path=\"url(#clip302)\" cx=\"915.65\" cy=\"1434.04\" r=\"57.6\" fill=\"#ff0000\" fill-rule=\"evenodd\" fill-opacity=\"0.6\" stroke=\"#000000\" stroke-opacity=\"0.6\" stroke-width=\"3.2\"/>\n",
       "<circle clip-path=\"url(#clip302)\" cx=\"1779.21\" cy=\"667.496\" r=\"57.6\" fill=\"#ff0000\" fill-rule=\"evenodd\" fill-opacity=\"0.6\" stroke=\"#000000\" stroke-opacity=\"0.6\" stroke-width=\"3.2\"/>\n",
       "<circle clip-path=\"url(#clip302)\" cx=\"590.517\" cy=\"1179.93\" r=\"57.6\" fill=\"#ff0000\" fill-rule=\"evenodd\" fill-opacity=\"0.6\" stroke=\"#000000\" stroke-opacity=\"0.6\" stroke-width=\"3.2\"/>\n",
       "<circle clip-path=\"url(#clip302)\" cx=\"1059.51\" cy=\"824.885\" r=\"57.6\" fill=\"#ff0000\" fill-rule=\"evenodd\" fill-opacity=\"0.6\" stroke=\"#000000\" stroke-opacity=\"0.6\" stroke-width=\"3.2\"/>\n",
       "<circle clip-path=\"url(#clip302)\" cx=\"1048.11\" cy=\"1195.39\" r=\"57.6\" fill=\"#ff0000\" fill-rule=\"evenodd\" fill-opacity=\"0.6\" stroke=\"#000000\" stroke-opacity=\"0.6\" stroke-width=\"3.2\"/>\n",
       "<circle clip-path=\"url(#clip302)\" cx=\"681.538\" cy=\"926.104\" r=\"57.6\" fill=\"#ff0000\" fill-rule=\"evenodd\" fill-opacity=\"0.6\" stroke=\"#000000\" stroke-opacity=\"0.6\" stroke-width=\"3.2\"/>\n",
       "<circle clip-path=\"url(#clip302)\" cx=\"1507.34\" cy=\"135.063\" r=\"57.6\" fill=\"#ff0000\" fill-rule=\"evenodd\" fill-opacity=\"0.6\" stroke=\"#000000\" stroke-opacity=\"0.6\" stroke-width=\"3.2\"/>\n",
       "<circle clip-path=\"url(#clip302)\" cx=\"1554.17\" cy=\"1359.35\" r=\"57.6\" fill=\"#ff0000\" fill-rule=\"evenodd\" fill-opacity=\"0.6\" stroke=\"#000000\" stroke-opacity=\"0.6\" stroke-width=\"3.2\"/>\n",
       "<circle clip-path=\"url(#clip302)\" cx=\"2066.56\" cy=\"445.778\" r=\"57.6\" fill=\"#ff0000\" fill-rule=\"evenodd\" fill-opacity=\"0.6\" stroke=\"#000000\" stroke-opacity=\"0.6\" stroke-width=\"3.2\"/>\n",
       "<circle clip-path=\"url(#clip302)\" cx=\"1073.74\" cy=\"619.242\" r=\"57.6\" fill=\"#ff0000\" fill-rule=\"evenodd\" fill-opacity=\"0.6\" stroke=\"#000000\" stroke-opacity=\"0.6\" stroke-width=\"3.2\"/>\n",
       "<circle clip-path=\"url(#clip302)\" cx=\"1996.95\" cy=\"1417.83\" r=\"57.6\" fill=\"#ff0000\" fill-rule=\"evenodd\" fill-opacity=\"0.6\" stroke=\"#000000\" stroke-opacity=\"0.6\" stroke-width=\"3.2\"/>\n",
       "<circle clip-path=\"url(#clip302)\" cx=\"1076.91\" cy=\"223.751\" r=\"57.6\" fill=\"#ff0000\" fill-rule=\"evenodd\" fill-opacity=\"0.6\" stroke=\"#000000\" stroke-opacity=\"0.6\" stroke-width=\"3.2\"/>\n",
       "<circle clip-path=\"url(#clip302)\" cx=\"2137.43\" cy=\"748.779\" r=\"57.6\" fill=\"#ff0000\" fill-rule=\"evenodd\" fill-opacity=\"0.6\" stroke=\"#000000\" stroke-opacity=\"0.6\" stroke-width=\"3.2\"/>\n",
       "<circle clip-path=\"url(#clip302)\" cx=\"1228.26\" cy=\"1430.45\" r=\"57.6\" fill=\"#008000\" fill-rule=\"evenodd\" fill-opacity=\"0.6\" stroke=\"#000000\" stroke-opacity=\"0.6\" stroke-width=\"3.2\"/>\n",
       "<circle clip-path=\"url(#clip302)\" cx=\"1193.31\" cy=\"1091.24\" r=\"57.6\" fill=\"#008000\" fill-rule=\"evenodd\" fill-opacity=\"0.6\" stroke=\"#000000\" stroke-opacity=\"0.6\" stroke-width=\"3.2\"/>\n",
       "<circle clip-path=\"url(#clip302)\" cx=\"899.517\" cy=\"152.663\" r=\"57.6\" fill=\"#008000\" fill-rule=\"evenodd\" fill-opacity=\"0.6\" stroke=\"#000000\" stroke-opacity=\"0.6\" stroke-width=\"3.2\"/>\n",
       "<circle clip-path=\"url(#clip302)\" cx=\"1982.9\" cy=\"1177.37\" r=\"57.6\" fill=\"#008000\" fill-rule=\"evenodd\" fill-opacity=\"0.6\" stroke=\"#000000\" stroke-opacity=\"0.6\" stroke-width=\"3.2\"/>\n",
       "<circle clip-path=\"url(#clip302)\" cx=\"1392.09\" cy=\"381.716\" r=\"57.6\" fill=\"#008000\" fill-rule=\"evenodd\" fill-opacity=\"0.6\" stroke=\"#000000\" stroke-opacity=\"0.6\" stroke-width=\"3.2\"/>\n",
       "<circle clip-path=\"url(#clip302)\" cx=\"2004.28\" cy=\"651.357\" r=\"57.6\" fill=\"#008000\" fill-rule=\"evenodd\" fill-opacity=\"0.6\" stroke=\"#000000\" stroke-opacity=\"0.6\" stroke-width=\"3.2\"/>\n",
       "<circle clip-path=\"url(#clip302)\" cx=\"990.332\" cy=\"756.379\" r=\"57.6\" fill=\"#008000\" fill-rule=\"evenodd\" fill-opacity=\"0.6\" stroke=\"#000000\" stroke-opacity=\"0.6\" stroke-width=\"3.2\"/>\n",
       "<circle clip-path=\"url(#clip302)\" cx=\"437.576\" cy=\"1266.96\" r=\"57.6\" fill=\"#008000\" fill-rule=\"evenodd\" fill-opacity=\"0.6\" stroke=\"#000000\" stroke-opacity=\"0.6\" stroke-width=\"3.2\"/>\n",
       "<circle clip-path=\"url(#clip302)\" cx=\"2230.9\" cy=\"512.732\" r=\"57.6\" fill=\"#008000\" fill-rule=\"evenodd\" fill-opacity=\"0.6\" stroke=\"#000000\" stroke-opacity=\"0.6\" stroke-width=\"3.2\"/>\n",
       "<circle clip-path=\"url(#clip302)\" cx=\"2133.93\" cy=\"128.362\" r=\"57.6\" fill=\"#008000\" fill-rule=\"evenodd\" fill-opacity=\"0.6\" stroke=\"#000000\" stroke-opacity=\"0.6\" stroke-width=\"3.2\"/>\n",
       "<circle clip-path=\"url(#clip302)\" cx=\"1808.6\" cy=\"1371.76\" r=\"57.6\" fill=\"#008000\" fill-rule=\"evenodd\" fill-opacity=\"0.6\" stroke=\"#000000\" stroke-opacity=\"0.6\" stroke-width=\"3.2\"/>\n",
       "<circle clip-path=\"url(#clip302)\" cx=\"1474.6\" cy=\"842.989\" r=\"57.6\" fill=\"#008000\" fill-rule=\"evenodd\" fill-opacity=\"0.6\" stroke=\"#000000\" stroke-opacity=\"0.6\" stroke-width=\"3.2\"/>\n",
       "<circle clip-path=\"url(#clip302)\" cx=\"1751.04\" cy=\"1029.77\" r=\"57.6\" fill=\"#008000\" fill-rule=\"evenodd\" fill-opacity=\"0.6\" stroke=\"#000000\" stroke-opacity=\"0.6\" stroke-width=\"3.2\"/>\n",
       "<circle clip-path=\"url(#clip302)\" cx=\"1470.46\" cy=\"981.745\" r=\"57.6\" fill=\"#008000\" fill-rule=\"evenodd\" fill-opacity=\"0.6\" stroke=\"#000000\" stroke-opacity=\"0.6\" stroke-width=\"3.2\"/>\n",
       "<circle clip-path=\"url(#clip302)\" cx=\"1121.51\" cy=\"549.772\" r=\"57.6\" fill=\"#008000\" fill-rule=\"evenodd\" fill-opacity=\"0.6\" stroke=\"#000000\" stroke-opacity=\"0.6\" stroke-width=\"3.2\"/>\n",
       "<circle clip-path=\"url(#clip302)\" cx=\"1370.48\" cy=\"340.631\" r=\"57.6\" fill=\"#008000\" fill-rule=\"evenodd\" fill-opacity=\"0.6\" stroke=\"#000000\" stroke-opacity=\"0.6\" stroke-width=\"3.2\"/>\n",
       "<circle clip-path=\"url(#clip302)\" cx=\"1759.04\" cy=\"913.762\" r=\"57.6\" fill=\"#008000\" fill-rule=\"evenodd\" fill-opacity=\"0.6\" stroke=\"#000000\" stroke-opacity=\"0.6\" stroke-width=\"3.2\"/>\n",
       "<circle clip-path=\"url(#clip302)\" cx=\"1953.24\" cy=\"333.073\" r=\"57.6\" fill=\"#008000\" fill-rule=\"evenodd\" fill-opacity=\"0.6\" stroke=\"#000000\" stroke-opacity=\"0.6\" stroke-width=\"3.2\"/>\n",
       "<circle clip-path=\"url(#clip302)\" cx=\"1223.49\" cy=\"1433.43\" r=\"57.6\" fill=\"#008000\" fill-rule=\"evenodd\" fill-opacity=\"0.6\" stroke=\"#000000\" stroke-opacity=\"0.6\" stroke-width=\"3.2\"/>\n",
       "<circle clip-path=\"url(#clip302)\" cx=\"1781.9\" cy=\"780.525\" r=\"57.6\" fill=\"#008000\" fill-rule=\"evenodd\" fill-opacity=\"0.6\" stroke=\"#000000\" stroke-opacity=\"0.6\" stroke-width=\"3.2\"/>\n",
       "<circle clip-path=\"url(#clip302)\" cx=\"765.005\" cy=\"1215.75\" r=\"57.6\" fill=\"#008000\" fill-rule=\"evenodd\" fill-opacity=\"0.6\" stroke=\"#000000\" stroke-opacity=\"0.6\" stroke-width=\"3.2\"/>\n",
       "<circle clip-path=\"url(#clip302)\" cx=\"2041.31\" cy=\"1252.19\" r=\"57.6\" fill=\"#008000\" fill-rule=\"evenodd\" fill-opacity=\"0.6\" stroke=\"#000000\" stroke-opacity=\"0.6\" stroke-width=\"3.2\"/>\n",
       "<circle clip-path=\"url(#clip302)\" cx=\"1453.8\" cy=\"1373.06\" r=\"57.6\" fill=\"#008000\" fill-rule=\"evenodd\" fill-opacity=\"0.6\" stroke=\"#000000\" stroke-opacity=\"0.6\" stroke-width=\"3.2\"/>\n",
       "<circle clip-path=\"url(#clip302)\" cx=\"1380.43\" cy=\"557.734\" r=\"57.6\" fill=\"#008000\" fill-rule=\"evenodd\" fill-opacity=\"0.6\" stroke=\"#000000\" stroke-opacity=\"0.6\" stroke-width=\"3.2\"/>\n",
       "<circle clip-path=\"url(#clip302)\" cx=\"312.385\" cy=\"1053.52\" r=\"57.6\" fill=\"#008000\" fill-rule=\"evenodd\" fill-opacity=\"0.6\" stroke=\"#000000\" stroke-opacity=\"0.6\" stroke-width=\"3.2\"/>\n",
       "<circle clip-path=\"url(#clip302)\" cx=\"975.073\" cy=\"854.344\" r=\"57.6\" fill=\"#008000\" fill-rule=\"evenodd\" fill-opacity=\"0.6\" stroke=\"#000000\" stroke-opacity=\"0.6\" stroke-width=\"3.2\"/>\n",
       "<circle clip-path=\"url(#clip302)\" cx=\"538.239\" cy=\"678.535\" r=\"72\" fill=\"#ffa500\" fill-rule=\"evenodd\" fill-opacity=\"0.8\" stroke=\"#000000\" stroke-opacity=\"0.8\" stroke-width=\"3.2\"/>\n",
       "<polyline clip-path=\"url(#clip302)\" style=\"stroke:#000000; stroke-linecap:round; stroke-linejoin:round; stroke-width:2; stroke-opacity:0.6; fill:none\" points=\"538.239,678.535 247.59,699.871 \"/>\n",
       "<polyline clip-path=\"url(#clip302)\" style=\"stroke:#000000; stroke-linecap:round; stroke-linejoin:round; stroke-width:2; stroke-opacity:0.6; fill:none\" points=\"538.239,678.535 247.59,651.337 \"/>\n",
       "<polyline clip-path=\"url(#clip302)\" style=\"stroke:#000000; stroke-linecap:round; stroke-linejoin:round; stroke-width:2; stroke-opacity:0.6; fill:none\" points=\"538.239,678.535 247.59,599.182 \"/>\n",
       "<polyline clip-path=\"url(#clip302)\" style=\"stroke:#000000; stroke-linecap:round; stroke-linejoin:round; stroke-width:2; stroke-opacity:0.6; fill:none\" points=\"538.239,678.535 247.59,534.797 \"/>\n",
       "<polyline clip-path=\"url(#clip302)\" style=\"stroke:#000000; stroke-linecap:round; stroke-linejoin:round; stroke-width:2; stroke-opacity:0.6; fill:none\" points=\"538.239,678.535 280.935,467.533 \"/>\n",
       "<polyline clip-path=\"url(#clip302)\" style=\"stroke:#000000; stroke-linecap:round; stroke-linejoin:round; stroke-width:2; stroke-opacity:0.6; fill:none\" points=\"538.239,678.535 367.516,431.804 \"/>\n",
       "<polyline clip-path=\"url(#clip302)\" style=\"stroke:#000000; stroke-linecap:round; stroke-linejoin:round; stroke-width:2; stroke-opacity:0.6; fill:none\" points=\"538.239,678.535 464.712,411.416 \"/>\n",
       "<polyline clip-path=\"url(#clip302)\" style=\"stroke:#000000; stroke-linecap:round; stroke-linejoin:round; stroke-width:2; stroke-opacity:0.6; fill:none\" points=\"538.239,678.535 566.48,407.636 \"/>\n",
       "<polyline clip-path=\"url(#clip302)\" style=\"stroke:#000000; stroke-linecap:round; stroke-linejoin:round; stroke-width:2; stroke-opacity:0.6; fill:none\" points=\"538.239,678.535 666.492,420.699 \"/>\n",
       "</svg>\n"
      ]
     },
     "metadata": {},
     "output_type": "display_data"
    },
    {
     "data": {
      "text/plain": [
       "nothing"
      ]
     },
     "metadata": {},
     "output_type": "display_data"
    }
   ],
   "source": [
    "run!(agent,1000, plotting = true,training = false, summary = true)"
   ]
  },
  {
   "cell_type": "code",
   "execution_count": null,
   "id": "fc161bab-d691-48be-9629-70a33f039952",
   "metadata": {},
   "outputs": [],
   "source": []
  }
 ],
 "metadata": {
  "kernelspec": {
   "display_name": "Julia 1.11.0",
   "language": "julia",
   "name": "julia-1.11"
  },
  "language_info": {
   "file_extension": ".jl",
   "mimetype": "application/julia",
   "name": "julia",
   "version": "1.11.0"
  }
 },
 "nbformat": 4,
 "nbformat_minor": 5
}
