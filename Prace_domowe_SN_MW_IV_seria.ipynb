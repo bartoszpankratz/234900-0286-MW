{
 "cells": [
  {
   "cell_type": "markdown",
   "metadata": {},
   "source": [
    "# Prace Domowe - Modelowanie Wieloagentowe  IV seria"
   ]
  },
  {
   "cell_type": "markdown",
   "metadata": {},
   "source": [
    "Z podanych poleceń należy wybrać jedno, rozwiązanie proszę przesłać na adres [bpankra@sgh.waw.pl](mailto:bpankra@sgh.waw.pl). Termin oddania <b>22 Stycznia 2023</b> koniec dnia."
   ]
  },
  {
   "cell_type": "markdown",
   "metadata": {},
   "source": [
    "## Zadanie 1\n",
    "\n",
    "Wybierz i rozwiąż jedno zadanie z poprzednich serii zadań domowych (inne niż te, które już odesłałeś)."
   ]
  }
 ],
 "metadata": {
  "kernelspec": {
   "display_name": "Julia 1.7.0",
   "language": "julia",
   "name": "julia-1.7"
  },
  "language_info": {
   "file_extension": ".jl",
   "mimetype": "application/julia",
   "name": "julia",
   "version": "1.7.0"
  }
 },
 "nbformat": 4,
 "nbformat_minor": 2
}
