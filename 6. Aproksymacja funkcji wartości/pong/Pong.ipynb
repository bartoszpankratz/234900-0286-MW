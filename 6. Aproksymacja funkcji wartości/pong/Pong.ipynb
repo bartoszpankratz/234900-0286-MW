{
 "cells": [
  {
   "cell_type": "markdown",
   "id": "21e95d74",
   "metadata": {},
   "source": [
    "# Deep Q Learning Pong\n",
    "\n",
    "Based on the [Julia implementation](https://juliareinforcementlearning.org/docs/experiments/experiments/DQN/Dopamine_DQN_Atari/#Dopamine\\\\_DQN\\\\_Atari(pong)) of the model from the seminal paper [Playing Atari with Deep Reinforcement Learning](https://arxiv.org/abs/1312.5602). \n",
    "To run it properly, it must be in the same working directory as <tt>Manifest.toml</tt> and <tt>Project.toml</tt> files.\n",
    "\n",
    "Other interesting models are avalaible [here](https://juliareinforcementlearning.org/docs/rlzoo/)."
   ]
  },
  {
   "cell_type": "markdown",
   "id": "32a78d46",
   "metadata": {},
   "source": [
    "Packages:"
   ]
  },
  {
   "cell_type": "code",
   "execution_count": 1,
   "id": "155e1125",
   "metadata": {},
   "outputs": [],
   "source": [
    "using Random\n",
    "#RL packages:\n",
    "using ReinforcementLearning\n",
    "using ArcadeLearningEnvironment\n",
    "#Neural Network:\n",
    "using Flux\n",
    "using Flux: params\n",
    "using Flux.Losses: huber_loss\n",
    "#for logging:\n",
    "using Setfield\n",
    "using Statistics\n",
    "using Dates\n",
    "using Logging\n",
    "using TensorBoardLogger\n",
    "using JLD2"
   ]
  },
  {
   "cell_type": "markdown",
   "id": "ba8b33be",
   "metadata": {},
   "source": [
    "Name of a selected game:"
   ]
  },
  {
   "cell_type": "code",
   "execution_count": 2,
   "id": "857ad141",
   "metadata": {},
   "outputs": [
    {
     "data": {
      "text/plain": [
       "\"pong\""
      ]
     },
     "execution_count": 2,
     "metadata": {},
     "output_type": "execute_result"
    }
   ],
   "source": [
    "name = \"pong\""
   ]
  },
  {
   "cell_type": "markdown",
   "id": "bd36aa61",
   "metadata": {},
   "source": [
    "Random numbers and logging directory:"
   ]
  },
  {
   "cell_type": "code",
   "execution_count": 3,
   "id": "f655f44a",
   "metadata": {},
   "outputs": [
    {
     "data": {
      "text/plain": [
       "TBLogger:\n",
       "\t- Log level     : Info\n",
       "\t- Current step  : 0\n",
       "\t- Output        : /root/Pong/Checkpoints/dopamine_DQN_atari_pong_2023_05_23_15_30_54/tb_log\n",
       "\t- open files    : 1\n"
      ]
     },
     "execution_count": 3,
     "metadata": {},
     "output_type": "execute_result"
    }
   ],
   "source": [
    "rng = Random.GLOBAL_RNG\n",
    "seed = 1234\n",
    "Random.seed!(rng, seed)\n",
    "t = Dates.format(now(), \"yyyy_mm_dd_HH_MM_SS\")\n",
    "save_dir = joinpath(pwd(), \"Checkpoints\", \"dopamine_DQN_atari_$(name)_$(t)\")\n",
    "lg = TBLogger(joinpath(save_dir, \"tb_log\"), min_level = Logging.Info)\n"
   ]
  },
  {
   "cell_type": "markdown",
   "id": "a7937d2d",
   "metadata": {},
   "source": [
    "Auxilliary functions - image transformations:"
   ]
  },
  {
   "cell_type": "code",
   "execution_count": 4,
   "id": "37013abe",
   "metadata": {},
   "outputs": [],
   "source": [
    "using ImageTransformations: imresize!\n",
    "\n",
    "\"\"\"\n",
    "    ResizeImage(img::Array{T, N})\n",
    "    ResizeImage(dims::Int...) -> ResizeImage(Float32, dims...)\n",
    "    ResizeImage(T::Type{<:Number}, dims::Int...)\n",
    "\n",
    "By default the `BSpline(Linear())`` method is used to resize the `state` field\n",
    "of an observation to size of `img` (or `dims`). In some other packages, people\n",
    "use the\n",
    "[`cv2.INTER_AREA`](https://github.com/google/dopamine/blob/2a7d91d2831ca28cea0d3b0f4d5c7a7107e846ab/dopamine/discrete_domains/atari_lib.py#L511-L513),\n",
    "which is not supported in `ImageTransformations.jl` yet.\n",
    "\"\"\"\n",
    "\n",
    "struct ResizeImage{T,N}\n",
    "    img::Array{T,N}\n",
    "end\n",
    "\n",
    "ResizeImage(dims::Int...) = ResizeImage(Float32, dims...)\n",
    "ResizeImage(T::Type{<:Number}, dims::Int...) = ResizeImage(Array{T}(undef, dims))\n",
    "\n",
    "function (p::ResizeImage)(state::AbstractArray)\n",
    "    imresize!(p.img, state)\n",
    "    p.img\n",
    "end"
   ]
  },
  {
   "cell_type": "markdown",
   "id": "00347276",
   "metadata": {},
   "source": [
    "Enivironment creating function:"
   ]
  },
  {
   "cell_type": "code",
   "execution_count": 5,
   "id": "1e57ff87",
   "metadata": {},
   "outputs": [
    {
     "data": {
      "text/plain": [
       "atari_env_factory (generic function with 2 methods)"
      ]
     },
     "execution_count": 5,
     "metadata": {},
     "output_type": "execute_result"
    }
   ],
   "source": [
    "function atari_env_factory(\n",
    "    name,\n",
    "    state_size,\n",
    "    n_frames,\n",
    "    max_episode_steps = 100_000;\n",
    "    seed = nothing,\n",
    "    repeat_action_probability = 0.25,\n",
    "    n_replica = nothing, #USED FOR THE PARALLEL ENVIRONMENTS\n",
    ")\n",
    "    init(seed) =\n",
    "        RewardTransformedEnv(\n",
    "            StateCachedEnv(\n",
    "                StateTransformedEnv(\n",
    "                    AtariEnv(;\n",
    "                        name = string(name),\n",
    "                        grayscale_obs = true,\n",
    "                        noop_max = 30, #the maximum number of \"do nothing\" actions to be performed by the agent at the start of an episode.\n",
    "                        frame_skip = 4,\n",
    "                        terminal_on_life_loss = false,\n",
    "                        repeat_action_probability = repeat_action_probability,\n",
    "                        max_num_frames_per_episode = n_frames * max_episode_steps,\n",
    "                        color_averaging = false,\n",
    "                        full_action_space = false,\n",
    "                        seed = seed,\n",
    "                    );\n",
    "                    state_mapping=Chain(\n",
    "                        ResizeImage(state_size...),\n",
    "                        StackFrames(state_size..., n_frames)\n",
    "                    ),\n",
    "                    state_space_mapping= _ -> Space(fill(0..256, state_size..., n_frames))\n",
    "                )\n",
    "            );\n",
    "            reward_mapping = r -> clamp(r, -1, 1)\n",
    "        )\n",
    "\n",
    "    if isnothing(n_replica)\n",
    "        init(seed)\n",
    "    else\n",
    "        envs = [\n",
    "            init(isnothing(seed) ? nothing : hash(seed + i))\n",
    "            for i in 1:n_replica\n",
    "        ]\n",
    "        states = Flux.batch(state.(envs))\n",
    "        rewards = reward.(envs)\n",
    "        terminals = is_terminated.(envs)\n",
    "        A = Space([action_space(x) for x in envs])\n",
    "        S = Space(fill(0..255, size(states)))\n",
    "        MultiThreadEnv(envs, states, rewards, terminals, A, S, nothing)\n",
    "    end\n",
    "end\n"
   ]
  },
  {
   "cell_type": "markdown",
   "id": "07d6f750",
   "metadata": {},
   "source": [
    "Let us define learning constants:"
   ]
  },
  {
   "cell_type": "code",
   "execution_count": 6,
   "id": "6cf3d8a0",
   "metadata": {},
   "outputs": [
    {
     "name": "stderr",
     "output_type": "stream",
     "text": [
      "A.L.E: Arcade Learning Environment (version 0.6.0)\n",
      "[Powered by Stella]\n",
      "Use -help for help screen.\n",
      "Warning: couldn't load settings file: ./ale.cfg\n"
     ]
    },
    {
     "data": {
      "text/plain": [
       "#1 (generic function with 1 method)"
      ]
     },
     "execution_count": 6,
     "metadata": {},
     "output_type": "execute_result"
    }
   ],
   "source": [
    "N_FRAMES = 4\n",
    "STATE_SIZE = (48, 48)\n",
    "env = atari_env_factory(\n",
    "        name,\n",
    "        STATE_SIZE,\n",
    "        N_FRAMES;\n",
    "        seed = isnothing(seed) ? nothing : hash(seed + 1)\n",
    "    )\n",
    "N_ACTIONS = length(action_space(env))\n",
    "init = glorot_uniform(rng)"
   ]
  },
  {
   "cell_type": "markdown",
   "id": "75ace9a3",
   "metadata": {},
   "source": [
    "and create a neural network model (a \"brain\" of our agent):"
   ]
  },
  {
   "cell_type": "code",
   "execution_count": 7,
   "id": "4c70ebbd",
   "metadata": {},
   "outputs": [
    {
     "data": {
      "text/plain": [
       "create_model (generic function with 1 method)"
      ]
     },
     "execution_count": 7,
     "metadata": {},
     "output_type": "execute_result"
    }
   ],
   "source": [
    "create_model() =\n",
    "        Chain(\n",
    "            x -> x ./ 255,\n",
    "            CrossCor((8, 8), N_FRAMES => 32, relu; stride = 4, pad = 2, init = init),\n",
    "            CrossCor((4, 4), 32 => 64, relu; stride = 2, pad = 2, init = init),\n",
    "            CrossCor((3, 3), 64 => 64, relu; stride = 1, pad = 1, init = init),\n",
    "            x -> reshape(x, :, size(x)[end]),\n",
    "            Dense(7 * 7 * 64, 512, relu; init = init),\n",
    "            Dense(512, N_ACTIONS; init = init),\n",
    "        ) |> gpu"
   ]
  },
  {
   "cell_type": "markdown",
   "id": "b6fe4896",
   "metadata": {},
   "source": [
    "Now, we could create an agent:"
   ]
  },
  {
   "cell_type": "code",
   "execution_count": 8,
   "id": "a79c3fbb",
   "metadata": {},
   "outputs": [
    {
     "data": {
      "text/plain": [
       "typename(Agent)\n",
       "├─ policy => typename(QBasedPolicy)\n",
       "│  ├─ learner => typename(DQNLearner)\n",
       "│  │  ├─ approximator => typename(NeuralNetworkApproximator)\n",
       "│  │  │  ├─ model => typename(Chain)\n",
       "│  │  │  │  └─ layers\n",
       "│  │  │  │     ├─ 1\n",
       "│  │  │  │     │  └─ typename(var\"#11#13\")\n",
       "│  │  │  │     ├─ 2\n",
       "│  │  │  │     │  └─ typename(CrossCor)\n",
       "│  │  │  │     │     ├─ σ => typename(typeof(relu))\n",
       "│  │  │  │     │     ├─ weight => 8×8×4×32 CUDA.CuArray{Float32, 4, CUDA.Mem.DeviceBuffer}\n",
       "│  │  │  │     │     ├─ bias => 32-element CUDA.CuArray{Float32, 1, CUDA.Mem.DeviceBuffer}\n",
       "│  │  │  │     │     ├─ stride\n",
       "│  │  │  │     │     │  ├─ 1\n",
       "│  │  │  │     │     │  │  └─ 4\n",
       "│  │  │  │     │     │  └─ 2\n",
       "│  │  │  │     │     │     └─ 4\n",
       "│  │  │  │     │     ├─ pad\n",
       "│  │  │  │     │     │  ├─ 1\n",
       "│  │  │  │     │     │  │  └─ 2\n",
       "│  │  │  │     │     │  ├─ 2\n",
       "│  │  │  │     │     │  │  └─ 2\n",
       "│  │  │  │     │     │  ├─ 3\n",
       "│  │  │  │     │     │  │  └─ 2\n",
       "│  │  │  │     │     │  └─ 4\n",
       "│  │  │  │     │     │     └─ 2\n",
       "│  │  │  │     │     └─ dilation\n",
       "│  │  │  │     │        ├─ 1\n",
       "│  │  │  │     │        │  └─ 1\n",
       "│  │  │  │     │        └─ 2\n",
       "│  │  │  │     │           └─ 1\n",
       "│  │  │  │     ├─ 3\n",
       "│  │  │  │     │  └─ typename(CrossCor)\n",
       "│  │  │  │     │     ├─ σ => typename(typeof(relu))\n",
       "│  │  │  │     │     ├─ weight => 4×4×32×64 CUDA.CuArray{Float32, 4, CUDA.Mem.DeviceBuffer}\n",
       "│  │  │  │     │     ├─ bias => 64-element CUDA.CuArray{Float32, 1, CUDA.Mem.DeviceBuffer}\n",
       "│  │  │  │     │     ├─ stride\n",
       "│  │  │  │     │     │  ├─ 1\n",
       "│  │  │  │     │     │  │  └─ 2\n",
       "│  │  │  │     │     │  └─ 2\n",
       "│  │  │  │     │     │     └─ 2\n",
       "│  │  │  │     │     ├─ pad\n",
       "│  │  │  │     │     │  ├─ 1\n",
       "│  │  │  │     │     │  │  └─ 2\n",
       "│  │  │  │     │     │  ├─ 2\n",
       "│  │  │  │     │     │  │  └─ 2\n",
       "│  │  │  │     │     │  ├─ 3\n",
       "│  │  │  │     │     │  │  └─ 2\n",
       "│  │  │  │     │     │  └─ 4\n",
       "│  │  │  │     │     │     └─ 2\n",
       "│  │  │  │     │     └─ dilation\n",
       "│  │  │  │     │        ├─ 1\n",
       "│  │  │  │     │        │  └─ 1\n",
       "│  │  │  │     │        └─ 2\n",
       "│  │  │  │     │           └─ 1\n",
       "│  │  │  │     ├─ 4\n",
       "│  │  │  │     │  └─ typename(CrossCor)\n",
       "│  │  │  │     │     ├─ σ => typename(typeof(relu))\n",
       "│  │  │  │     │     ├─ weight => 3×3×64×64 CUDA.CuArray{Float32, 4, CUDA.Mem.DeviceBuffer}\n",
       "│  │  │  │     │     ├─ bias => 64-element CUDA.CuArray{Float32, 1, CUDA.Mem.DeviceBuffer}\n",
       "│  │  │  │     │     ├─ stride\n",
       "│  │  │  │     │     │  ├─ 1\n",
       "│  │  │  │     │     │  │  └─ 1\n",
       "│  │  │  │     │     │  └─ 2\n",
       "│  │  │  │     │     │     └─ 1\n",
       "│  │  │  │     │     ├─ pad\n",
       "│  │  │  │     │     │  ├─ 1\n",
       "│  │  │  │     │     │  │  └─ 1\n",
       "│  │  │  │     │     │  ├─ 2\n",
       "│  │  │  │     │     │  │  └─ 1\n",
       "│  │  │  │     │     │  ├─ 3\n",
       "│  │  │  │     │     │  │  └─ 1\n",
       "│  │  │  │     │     │  └─ 4\n",
       "│  │  │  │     │     │     └─ 1\n",
       "│  │  │  │     │     └─ dilation\n",
       "│  │  │  │     │        ├─ 1\n",
       "│  │  │  │     │        │  └─ 1\n",
       "│  │  │  │     │        └─ 2\n",
       "│  │  │  │     │           └─ 1\n",
       "│  │  │  │     ├─ 5\n",
       "│  │  │  │     │  └─ typename(var\"#12#14\")\n",
       "│  │  │  │     ├─ 6\n",
       "│  │  │  │     │  └─ typename(Dense)\n",
       "│  │  │  │     │     ├─ weight => 512×3136 CUDA.CuArray{Float32, 2, CUDA.Mem.DeviceBuffer}\n",
       "│  │  │  │     │     ├─ bias => 512-element CUDA.CuArray{Float32, 1, CUDA.Mem.DeviceBuffer}\n",
       "│  │  │  │     │     └─ σ => typename(typeof(relu))\n",
       "│  │  │  │     └─ 7\n",
       "│  │  │  │        └─ typename(Dense)\n",
       "│  │  │  │           ├─ weight => 6×512 CUDA.CuArray{Float32, 2, CUDA.Mem.DeviceBuffer}\n",
       "│  │  │  │           ├─ bias => 6-element CUDA.CuArray{Float32, 1, CUDA.Mem.DeviceBuffer}\n",
       "│  │  │  │           └─ σ => typename(typeof(identity))\n",
       "│  │  │  └─ optimizer => typename(ADAM)\n",
       "│  │  │     ├─ eta => 0.0001\n",
       "│  │  │     ├─ beta\n",
       "│  │  │     │  ├─ 1\n",
       "│  │  │     │  │  └─ 0.9\n",
       "│  │  │     │  └─ 2\n",
       "│  │  │     │     └─ 0.999\n",
       "│  │  │     ├─ epsilon => 1.0e-8\n",
       "│  │  │     └─ state => typename(IdDict)\n",
       "│  │  ├─ target_approximator => typename(NeuralNetworkApproximator)\n",
       "│  │  │  ├─ model => typename(Chain)\n",
       "│  │  │  │  └─ layers\n",
       "│  │  │  │     ├─ 1\n",
       "│  │  │  │     │  └─ typename(var\"#11#13\")\n",
       "│  │  │  │     ├─ 2\n",
       "│  │  │  │     │  └─ typename(CrossCor)\n",
       "│  │  │  │     │     ├─ σ => typename(typeof(relu))\n",
       "│  │  │  │     │     ├─ weight => 8×8×4×32 CUDA.CuArray{Float32, 4, CUDA.Mem.DeviceBuffer}\n",
       "│  │  │  │     │     ├─ bias => 32-element CUDA.CuArray{Float32, 1, CUDA.Mem.DeviceBuffer}\n",
       "│  │  │  │     │     ├─ stride\n",
       "│  │  │  │     │     │  ├─ 1\n",
       "│  │  │  │     │     │  │  └─ 4\n",
       "│  │  │  │     │     │  └─ 2\n",
       "│  │  │  │     │     │     └─ 4\n",
       "│  │  │  │     │     ├─ pad\n",
       "│  │  │  │     │     │  ├─ 1\n",
       "│  │  │  │     │     │  │  └─ 2\n",
       "│  │  │  │     │     │  ├─ 2\n",
       "│  │  │  │     │     │  │  └─ 2\n",
       "│  │  │  │     │     │  ├─ 3\n",
       "│  │  │  │     │     │  │  └─ 2\n",
       "│  │  │  │     │     │  └─ 4\n",
       "│  │  │  │     │     │     └─ 2\n",
       "│  │  │  │     │     └─ dilation\n",
       "│  │  │  │     │        ├─ 1\n",
       "│  │  │  │     │        │  └─ 1\n",
       "│  │  │  │     │        └─ 2\n",
       "│  │  │  │     │           └─ 1\n",
       "│  │  │  │     ├─ 3\n",
       "│  │  │  │     │  └─ typename(CrossCor)\n",
       "│  │  │  │     │     ├─ σ => typename(typeof(relu))\n",
       "│  │  │  │     │     ├─ weight => 4×4×32×64 CUDA.CuArray{Float32, 4, CUDA.Mem.DeviceBuffer}\n",
       "│  │  │  │     │     ├─ bias => 64-element CUDA.CuArray{Float32, 1, CUDA.Mem.DeviceBuffer}\n",
       "│  │  │  │     │     ├─ stride\n",
       "│  │  │  │     │     │  ├─ 1\n",
       "│  │  │  │     │     │  │  └─ 2\n",
       "│  │  │  │     │     │  └─ 2\n",
       "│  │  │  │     │     │     └─ 2\n",
       "│  │  │  │     │     ├─ pad\n",
       "│  │  │  │     │     │  ├─ 1\n",
       "│  │  │  │     │     │  │  └─ 2\n",
       "│  │  │  │     │     │  ├─ 2\n",
       "│  │  │  │     │     │  │  └─ 2\n",
       "│  │  │  │     │     │  ├─ 3\n",
       "│  │  │  │     │     │  │  └─ 2\n",
       "│  │  │  │     │     │  └─ 4\n",
       "│  │  │  │     │     │     └─ 2\n",
       "│  │  │  │     │     └─ dilation\n",
       "│  │  │  │     │        ├─ 1\n",
       "│  │  │  │     │        │  └─ 1\n",
       "│  │  │  │     │        └─ 2\n",
       "│  │  │  │     │           └─ 1\n",
       "│  │  │  │     ├─ 4\n",
       "│  │  │  │     │  └─ typename(CrossCor)\n",
       "│  │  │  │     │     ├─ σ => typename(typeof(relu))\n",
       "│  │  │  │     │     ├─ weight => 3×3×64×64 CUDA.CuArray{Float32, 4, CUDA.Mem.DeviceBuffer}\n",
       "│  │  │  │     │     ├─ bias => 64-element CUDA.CuArray{Float32, 1, CUDA.Mem.DeviceBuffer}\n",
       "│  │  │  │     │     ├─ stride\n",
       "│  │  │  │     │     │  ├─ 1\n",
       "│  │  │  │     │     │  │  └─ 1\n",
       "│  │  │  │     │     │  └─ 2\n",
       "│  │  │  │     │     │     └─ 1\n",
       "│  │  │  │     │     ├─ pad\n",
       "│  │  │  │     │     │  ├─ 1\n",
       "│  │  │  │     │     │  │  └─ 1\n",
       "│  │  │  │     │     │  ├─ 2\n",
       "│  │  │  │     │     │  │  └─ 1\n",
       "│  │  │  │     │     │  ├─ 3\n",
       "│  │  │  │     │     │  │  └─ 1\n",
       "│  │  │  │     │     │  └─ 4\n",
       "│  │  │  │     │     │     └─ 1\n",
       "│  │  │  │     │     └─ dilation\n",
       "│  │  │  │     │        ├─ 1\n",
       "│  │  │  │     │        │  └─ 1\n",
       "│  │  │  │     │        └─ 2\n",
       "│  │  │  │     │           └─ 1\n",
       "│  │  │  │     ├─ 5\n",
       "│  │  │  │     │  └─ typename(var\"#12#14\")\n",
       "│  │  │  │     ├─ 6\n",
       "│  │  │  │     │  └─ typename(Dense)\n",
       "│  │  │  │     │     ├─ weight => 512×3136 CUDA.CuArray{Float32, 2, CUDA.Mem.DeviceBuffer}\n",
       "│  │  │  │     │     ├─ bias => 512-element CUDA.CuArray{Float32, 1, CUDA.Mem.DeviceBuffer}\n",
       "│  │  │  │     │     └─ σ => typename(typeof(relu))\n",
       "│  │  │  │     └─ 7\n",
       "│  │  │  │        └─ typename(Dense)\n",
       "│  │  │  │           ├─ weight => 6×512 CUDA.CuArray{Float32, 2, CUDA.Mem.DeviceBuffer}\n",
       "│  │  │  │           ├─ bias => 6-element CUDA.CuArray{Float32, 1, CUDA.Mem.DeviceBuffer}\n",
       "│  │  │  │           └─ σ => typename(typeof(identity))\n",
       "│  │  │  └─ optimizer => typename(Nothing)\n",
       "│  │  ├─ loss_func => typename(typeof(huber_loss))\n",
       "│  │  ├─ min_replay_history => 5000\n",
       "│  │  ├─ update_freq => 4\n",
       "│  │  ├─ update_step => 0\n",
       "│  │  ├─ target_update_freq => 4000\n",
       "│  │  ├─ sampler => typename(NStepBatchSampler)\n",
       "│  │  │  ├─ γ => 0.99\n",
       "│  │  │  ├─ n => 1\n",
       "│  │  │  ├─ batch_size => 32\n",
       "│  │  │  ├─ stack_size => 4\n",
       "│  │  │  ├─ rng => typename(Random._GLOBAL_RNG)\n",
       "│  │  │  └─ cache => typename(Nothing)\n",
       "│  │  ├─ rng => typename(Random._GLOBAL_RNG)\n",
       "│  │  ├─ loss => 0.0\n",
       "│  │  └─ is_enable_double_DQN => true\n",
       "│  └─ explorer => typename(EpsilonGreedyExplorer)\n",
       "│     ├─ ϵ_stable => 0.01\n",
       "│     ├─ ϵ_init => 1.0\n",
       "│     ├─ warmup_steps => 0\n",
       "│     ├─ decay_steps => 250000\n",
       "│     ├─ step => 1\n",
       "│     ├─ rng => typename(Random._GLOBAL_RNG)\n",
       "│     └─ is_training => true\n",
       "└─ trajectory => typename(Trajectory)\n",
       "   └─ traces => typename(NamedTuple)\n",
       "      ├─ state => 48×48×0 CircularArrayBuffers.CircularArrayBuffer{Float32, 3, Array{Float32, 3}}\n",
       "      ├─ action => 0-element CircularArrayBuffers.CircularVectorBuffer{Int64, Vector{Int64}}\n",
       "      ├─ reward => 0-element CircularArrayBuffers.CircularVectorBuffer{Float32, Vector{Float32}}\n",
       "      └─ terminal => 0-element CircularArrayBuffers.CircularVectorBuffer{Bool, Vector{Bool}}\n"
      ]
     },
     "execution_count": 8,
     "metadata": {},
     "output_type": "execute_result"
    }
   ],
   "source": [
    "agent = Agent(\n",
    "        policy = QBasedPolicy(\n",
    "            learner = DQNLearner(\n",
    "                approximator = NeuralNetworkApproximator(\n",
    "                    model = create_model(),\n",
    "                    optimizer = ADAM(0.0001),),  \n",
    "                target_approximator = NeuralNetworkApproximator(model = create_model()),\n",
    "                update_freq = 4,\n",
    "                γ = 0.99f0,\n",
    "                update_horizon = 1,\n",
    "                batch_size = 32,\n",
    "                stack_size = N_FRAMES,\n",
    "                min_replay_history = 5_000,\n",
    "                loss_func = huber_loss,\n",
    "                target_update_freq = 4_000,\n",
    "                rng = rng,\n",
    "            ),\n",
    "            explorer = EpsilonGreedyExplorer(\n",
    "                ϵ_init = 1.0,\n",
    "                ϵ_stable = 0.01,\n",
    "                decay_steps = 250_000,\n",
    "                kind = :linear,\n",
    "                rng = rng,\n",
    "            ),\n",
    "        ),\n",
    "        trajectory = CircularArraySARTTrajectory(\n",
    "            capacity =  50_000,\n",
    "            state = Matrix{Float32} => STATE_SIZE,\n",
    "        ),\n",
    "    )"
   ]
  },
  {
   "cell_type": "markdown",
   "id": "4a3ff729",
   "metadata": {},
   "source": [
    "Before running we will also define custom hooks:"
   ]
  },
  {
   "cell_type": "code",
   "execution_count": 9,
   "id": "491fd099",
   "metadata": {},
   "outputs": [],
   "source": [
    "\"Total reward per episode before reward reshaping\"\n",
    "Base.@kwdef mutable struct TotalOriginalRewardPerEpisode <: AbstractHook\n",
    "    rewards::Vector{Float64} = Float64[]\n",
    "    reward::Float64 = 0.0\n",
    "end\n",
    "\n",
    "function (hook::TotalOriginalRewardPerEpisode)(\n",
    "    ::PostActStage,\n",
    "    agent,\n",
    "    env::RewardTransformedEnv,\n",
    ")\n",
    "    hook.reward += reward(env.env)\n",
    "end\n",
    "\n",
    "function (hook::TotalOriginalRewardPerEpisode)(::PostEpisodeStage, agent, env)\n",
    "    push!(hook.rewards, hook.reward)\n",
    "    hook.reward = 0\n",
    "end"
   ]
  },
  {
   "cell_type": "markdown",
   "id": "d2f6fec1",
   "metadata": {},
   "source": [
    "and for parallel version:"
   ]
  },
  {
   "cell_type": "code",
   "execution_count": 10,
   "id": "00cd0538",
   "metadata": {},
   "outputs": [],
   "source": [
    "\"Total reward of each inner env per episode before reward reshaping\"\n",
    "struct TotalBatchOriginalRewardPerEpisode <: AbstractHook\n",
    "    rewards::Vector{Vector{Float64}}\n",
    "    reward::Vector{Float64}\n",
    "end\n",
    "\n",
    "function TotalBatchOriginalRewardPerEpisode(batch_size::Int)\n",
    "    TotalBatchOriginalRewardPerEpisode([Float64[] for _ in 1:batch_size], zeros(batch_size))\n",
    "end\n",
    "\n",
    "function (hook::TotalBatchOriginalRewardPerEpisode)(\n",
    "    ::PostActStage,\n",
    "    agent,\n",
    "    env::MultiThreadEnv{<:RewardTransformedEnv},\n",
    ")\n",
    "    for (i, e) in enumerate(env.envs)\n",
    "        hook.reward[i] += reward(e.env)\n",
    "        if is_terminated(e)\n",
    "            push!(hook.rewards[i], hook.reward[i])\n",
    "            hook.reward[i] = 0.0\n",
    "        end\n",
    "    end\n",
    "end "
   ]
  },
  {
   "cell_type": "markdown",
   "id": "9f08eb6f",
   "metadata": {},
   "source": [
    "Finally our hook will look like that:"
   ]
  },
  {
   "cell_type": "code",
   "execution_count": 11,
   "id": "c4e477f9",
   "metadata": {},
   "outputs": [
    {
     "data": {
      "text/plain": [
       "TotalOriginalRewardPerEpisode(Float64[], 0.0)"
      ]
     },
     "execution_count": 11,
     "metadata": {},
     "output_type": "execute_result"
    }
   ],
   "source": [
    "EVALUATION_FREQ = 200_000\n",
    "MAX_EPISODE_STEPS_EVAL = 100_000\n",
    "step_per_episode = StepsPerEpisode()\n",
    "reward_per_episode = TotalOriginalRewardPerEpisode()"
   ]
  },
  {
   "cell_type": "code",
   "execution_count": 12,
   "id": "4c165b47",
   "metadata": {},
   "outputs": [
    {
     "data": {
      "text/plain": [
       "ComposedHook{Tuple{StepsPerEpisode, TotalOriginalRewardPerEpisode, DoEveryNStep{var\"#18#24\"}, DoEveryNEpisode{PostEpisodeStage, var\"#20#26\"}, DoEveryNStep{var\"#22#28\"}}}((StepsPerEpisode(Int64[], 0), TotalOriginalRewardPerEpisode(Float64[], 0.0), DoEveryNStep{var\"#18#24\"}(var\"#18#24\"(), 1, 0), DoEveryNEpisode{PostEpisodeStage, var\"#20#26\"}(var\"#20#26\"(), 1, 0), DoEveryNStep{var\"#22#28\"}(var\"#22#28\"(), 200000, 0)))"
      ]
     },
     "execution_count": 12,
     "metadata": {},
     "output_type": "execute_result"
    }
   ],
   "source": [
    "hook = ComposedHook(\n",
    "    step_per_episode,\n",
    "    reward_per_episode,\n",
    "    DoEveryNStep() do t, agent, env\n",
    "        with_logger(lg) do #save the value of the loss function\n",
    "            @info \"training\" loss = agent.policy.learner.loss \n",
    "        end\n",
    "    end,\n",
    "    DoEveryNEpisode() do t, agent, env\n",
    "        with_logger(lg) do #basic statistics of training mode: step_per_episode and reward_per_episode\n",
    "            @info \"training\" episode_length = step_per_episode.steps[end] reward = reward_per_episode.rewards[end] log_step_increment = 0\n",
    "        end\n",
    "    end,\n",
    "    DoEveryNStep(;n=EVALUATION_FREQ) do t, agent, env #evaluation mode\n",
    "        @info \"evaluating agent at $t step...\"\n",
    "        p = agent.policy\n",
    "        p = @set p.explorer = EpsilonGreedyExplorer(0.001; rng = rng)  # set evaluation epsilon\n",
    "        h = ComposedHook(\n",
    "            TotalOriginalRewardPerEpisode(),\n",
    "            StepsPerEpisode(),\n",
    "            )\n",
    "        s = @elapsed run(\n",
    "            p,\n",
    "            atari_env_factory(name,\n",
    "                            STATE_SIZE,\n",
    "                            N_FRAMES,\n",
    "                            MAX_EPISODE_STEPS_EVAL;\n",
    "                            seed = isnothing(seed) ? nothing : hash(seed + t)),\n",
    "                            StopAfterStep(10_000; is_show_progress = false),\n",
    "                            h)\n",
    "            avg_score = mean(h[1].rewards[1:end-1])\n",
    "            avg_length = mean(h[2].steps[1:end-1])\n",
    "        @info \"saving model at $t step...\"\n",
    "        PongNN = cpu.(params(agent.policy.learner.approximator.model))\n",
    "        jldsave(\"PongNN_$t.jld2\"; PongNN)\n",
    "        @info \"finished evaluating agent in $s seconds\" avg_length = avg_length avg_score = avg_score\n",
    "        with_logger(lg) do\n",
    "            @info \"evaluating\" avg_length = avg_length avg_score = avg_score log_step_increment = 0\n",
    "        end\n",
    "    end,\n",
    "    )"
   ]
  },
  {
   "cell_type": "markdown",
   "id": "7809f3bf",
   "metadata": {},
   "source": [
    "it will save the main learning metrics in the [TensorBoardLogger](https://www.tensorflow.org/tensorboard/get_started) format. Lastly, stop condition:"
   ]
  },
  {
   "cell_type": "code",
   "execution_count": 13,
   "id": "2d27e8ae",
   "metadata": {},
   "outputs": [
    {
     "data": {
      "text/plain": [
       "StopAfterStep{ProgressMeter.Progress}(8000000, 1, ProgressMeter.Progress(8000000, ReentrantLock(nothing, 0x00000000, 0x00, Base.GenericCondition{Base.Threads.SpinLock}(Base.InvasiveLinkedList{Task}(nothing, nothing), Base.Threads.SpinLock(0)), (0, 0, 0)), 1.0, 1, 1.684870286534923e9, 1.684870286534923e9, 1.684870286534923e9, false, \"Progress: \", nothing, ProgressMeter.BarGlyphs('|', '█', ['▏', '▎', '▍', '▌', '▋', '▊', '▉'], ' ', '|'), :green, IJulia.IJuliaStdio{Base.PipeEndpoint}(IOContext(Base.PipeEndpoint(RawFD(44) open, 0 bytes waiting))), 0, 0, 0, true, false, 1, 1, Int64[]))"
      ]
     },
     "execution_count": 13,
     "metadata": {},
     "output_type": "execute_result"
    }
   ],
   "source": [
    "stop_condition = StopAfterStep(8_000_000,is_show_progress=true)"
   ]
  },
  {
   "cell_type": "markdown",
   "id": "a1c53fe7",
   "metadata": {},
   "source": [
    "Learning time:"
   ]
  },
  {
   "cell_type": "code",
   "execution_count": 14,
   "id": "692dc4b8",
   "metadata": {},
   "outputs": [
    {
     "name": "stderr",
     "output_type": "stream",
     "text": [
      "\u001b[32mProgress:   2%|█                                        |  ETA: 8:56:40\u001b[39mm09\u001b[39mm\u001b[36m\u001b[1m[ \u001b[22m\u001b[39m\u001b[36m\u001b[1mInfo: \u001b[22m\u001b[39mevaluating agent at 200000 step...\n",
      "\u001b[36m\u001b[1m┌ \u001b[22m\u001b[39m\u001b[36m\u001b[1mInfo: \u001b[22m\u001b[39mfinished evaluating agent in 25.832400967 seconds\n",
      "\u001b[36m\u001b[1m│ \u001b[22m\u001b[39m  avg_length = 938.1\n",
      "\u001b[36m\u001b[1m└ \u001b[22m\u001b[39m  avg_score = -20.22222222222222\n",
      "\u001b[32mProgress:   5%|██                                       |  ETA: 8:32:45\u001b[39m\u001b[36m\u001b[1m[ \u001b[22m\u001b[39m\u001b[36m\u001b[1mInfo: \u001b[22m\u001b[39mevaluating agent at 400000 step...\n",
      "\u001b[36m\u001b[1m┌ \u001b[22m\u001b[39m\u001b[36m\u001b[1mInfo: \u001b[22m\u001b[39mfinished evaluating agent in 24.786065247 seconds\n",
      "\u001b[36m\u001b[1m│ \u001b[22m\u001b[39m  avg_length = 1549.1666666666667\n",
      "\u001b[36m\u001b[1m└ \u001b[22m\u001b[39m  avg_score = -15.2\n",
      "\u001b[32mProgress:   7%|███▏                                     |  ETA: 8:10:21\u001b[39m\u001b[36m\u001b[1m[ \u001b[22m\u001b[39m\u001b[36m\u001b[1mInfo: \u001b[22m\u001b[39mevaluating agent at 600000 step...\n",
      "\u001b[36m\u001b[1m┌ \u001b[22m\u001b[39m\u001b[36m\u001b[1mInfo: \u001b[22m\u001b[39mfinished evaluating agent in 25.737494562 seconds\n",
      "\u001b[36m\u001b[1m│ \u001b[22m\u001b[39m  avg_length = 2286.25\n",
      "\u001b[36m\u001b[1m└ \u001b[22m\u001b[39m  avg_score = -12.0\n",
      "\u001b[32mProgress:  10%|████▏                                    |  ETA: 7:53:43\u001b[39m\u001b[36m\u001b[1m[ \u001b[22m\u001b[39m\u001b[36m\u001b[1mInfo: \u001b[22m\u001b[39mevaluating agent at 800000 step...\n",
      "\u001b[36m\u001b[1m┌ \u001b[22m\u001b[39m\u001b[36m\u001b[1mInfo: \u001b[22m\u001b[39mfinished evaluating agent in 25.791147963 seconds\n",
      "\u001b[36m\u001b[1m│ \u001b[22m\u001b[39m  avg_length = 2685.3333333333335\n",
      "\u001b[36m\u001b[1m└ \u001b[22m\u001b[39m  avg_score = -8.5\n",
      "\u001b[32mProgress:  12%|█████▏                                   |  ETA: 7:36:56\u001b[39m\u001b[36m\u001b[1m[ \u001b[22m\u001b[39m\u001b[36m\u001b[1mInfo: \u001b[22m\u001b[39mevaluating agent at 1000000 step...\n",
      "\u001b[36m\u001b[1m┌ \u001b[22m\u001b[39m\u001b[36m\u001b[1mInfo: \u001b[22m\u001b[39mfinished evaluating agent in 25.620449017 seconds\n",
      "\u001b[36m\u001b[1m│ \u001b[22m\u001b[39m  avg_length = 3815.0\n",
      "\u001b[36m\u001b[1m└ \u001b[22m\u001b[39m  avg_score = 2.0\n",
      "\u001b[32mProgress:  15%|██████▏                                  |  ETA: 7:21:38\u001b[39m\u001b[36m\u001b[1m[ \u001b[22m\u001b[39m\u001b[36m\u001b[1mInfo: \u001b[22m\u001b[39mevaluating agent at 1200000 step...\n",
      "\u001b[36m\u001b[1m┌ \u001b[22m\u001b[39m\u001b[36m\u001b[1mInfo: \u001b[22m\u001b[39mfinished evaluating agent in 25.582886188 seconds\n",
      "\u001b[36m\u001b[1m│ \u001b[22m\u001b[39m  avg_length = 3109.3333333333335\n",
      "\u001b[36m\u001b[1m└ \u001b[22m\u001b[39m  avg_score = -7.0\n",
      "\u001b[32mProgress:  17%|███████▏                                 |  ETA: 7:07:56\u001b[39m\u001b[36m\u001b[1m[ \u001b[22m\u001b[39m\u001b[36m\u001b[1mInfo: \u001b[22m\u001b[39mevaluating agent at 1400000 step...\n",
      "\u001b[36m\u001b[1m┌ \u001b[22m\u001b[39m\u001b[36m\u001b[1mInfo: \u001b[22m\u001b[39mfinished evaluating agent in 25.199212384 seconds\n",
      "\u001b[36m\u001b[1m│ \u001b[22m\u001b[39m  avg_length = 3102.0\n",
      "\u001b[36m\u001b[1m└ \u001b[22m\u001b[39m  avg_score = 8.5\n",
      "\u001b[32mProgress:  20%|████████▎                                |  ETA: 6:54:19\u001b[39m\u001b[36m\u001b[1m[ \u001b[22m\u001b[39m\u001b[36m\u001b[1mInfo: \u001b[22m\u001b[39mevaluating agent at 1600000 step...\n",
      "\u001b[36m\u001b[1m┌ \u001b[22m\u001b[39m\u001b[36m\u001b[1mInfo: \u001b[22m\u001b[39mfinished evaluating agent in 25.709491048 seconds\n",
      "\u001b[36m\u001b[1m│ \u001b[22m\u001b[39m  avg_length = 3074.0\n",
      "\u001b[36m\u001b[1m└ \u001b[22m\u001b[39m  avg_score = 9.0\n",
      "\u001b[32mProgress:  22%|█████████▎                               |  ETA: 6:41:04\u001b[39m\u001b[36m\u001b[1m[ \u001b[22m\u001b[39m\u001b[36m\u001b[1mInfo: \u001b[22m\u001b[39mevaluating agent at 1800000 step...\n",
      "\u001b[36m\u001b[1m┌ \u001b[22m\u001b[39m\u001b[36m\u001b[1mInfo: \u001b[22m\u001b[39mfinished evaluating agent in 24.684249057 seconds\n",
      "\u001b[36m\u001b[1m│ \u001b[22m\u001b[39m  avg_length = 3001.3333333333335\n",
      "\u001b[36m\u001b[1m└ \u001b[22m\u001b[39m  avg_score = 11.0\n",
      "\u001b[32mProgress:  25%|██████████▎                              |  ETA: 6:27:46\u001b[39m\u001b[36m\u001b[1m[ \u001b[22m\u001b[39m\u001b[36m\u001b[1mInfo: \u001b[22m\u001b[39mevaluating agent at 2000000 step...\n",
      "\u001b[36m\u001b[1m┌ \u001b[22m\u001b[39m\u001b[36m\u001b[1mInfo: \u001b[22m\u001b[39mfinished evaluating agent in 25.742177388 seconds\n",
      "\u001b[36m\u001b[1m│ \u001b[22m\u001b[39m  avg_length = 3181.3333333333335\n",
      "\u001b[36m\u001b[1m└ \u001b[22m\u001b[39m  avg_score = 8.5\n",
      "\u001b[32mProgress:  27%|███████████▎                             |  ETA: 6:14:16\u001b[39m\u001b[36m\u001b[1m[ \u001b[22m\u001b[39m\u001b[36m\u001b[1mInfo: \u001b[22m\u001b[39mevaluating agent at 2200000 step...\n",
      "\u001b[36m\u001b[1m┌ \u001b[22m\u001b[39m\u001b[36m\u001b[1mInfo: \u001b[22m\u001b[39mfinished evaluating agent in 25.709866804 seconds\n",
      "\u001b[36m\u001b[1m│ \u001b[22m\u001b[39m  avg_length = 2955.6666666666665\n",
      "\u001b[36m\u001b[1m└ \u001b[22m\u001b[39m  avg_score = 12.0\n",
      "\u001b[32mProgress:  30%|████████████▎                            |  ETA: 6:02:04\u001b[39m\u001b[36m\u001b[1m[ \u001b[22m\u001b[39m\u001b[36m\u001b[1mInfo: \u001b[22m\u001b[39mevaluating agent at 2400000 step...\n",
      "\u001b[36m\u001b[1m┌ \u001b[22m\u001b[39m\u001b[36m\u001b[1mInfo: \u001b[22m\u001b[39mfinished evaluating agent in 26.900071448 seconds\n",
      "\u001b[36m\u001b[1m│ \u001b[22m\u001b[39m  avg_length = 3014.6666666666665\n",
      "\u001b[36m\u001b[1m└ \u001b[22m\u001b[39m  avg_score = 5.5\n",
      "\u001b[32mProgress:  32%|█████████████▍                           |  ETA: 5:55:09\u001b[39m\u001b[36m\u001b[1m[ \u001b[22m\u001b[39m\u001b[36m\u001b[1mInfo: \u001b[22m\u001b[39mevaluating agent at 2600000 step...\n",
      "\u001b[36m\u001b[1m┌ \u001b[22m\u001b[39m\u001b[36m\u001b[1mInfo: \u001b[22m\u001b[39mfinished evaluating agent in 25.892264971 seconds\n",
      "\u001b[36m\u001b[1m│ \u001b[22m\u001b[39m  avg_length = 2652.3333333333335\n",
      "\u001b[36m\u001b[1m└ \u001b[22m\u001b[39m  avg_score = 14.0\n",
      "\u001b[32mProgress:  35%|██████████████▍                          |  ETA: 5:45:53\u001b[39m\u001b[36m\u001b[1m[ \u001b[22m\u001b[39m\u001b[36m\u001b[1mInfo: \u001b[22m\u001b[39mevaluating agent at 2800000 step...\n",
      "\u001b[36m\u001b[1m┌ \u001b[22m\u001b[39m\u001b[36m\u001b[1mInfo: \u001b[22m\u001b[39mfinished evaluating agent in 25.251634513 seconds\n",
      "\u001b[36m\u001b[1m│ \u001b[22m\u001b[39m  avg_length = 2944.6666666666665\n",
      "\u001b[36m\u001b[1m└ \u001b[22m\u001b[39m  avg_score = 10.0\n",
      "\u001b[32mProgress:  37%|███████████████▍                         |  ETA: 5:34:17\u001b[39m\u001b[36m\u001b[1m[ \u001b[22m\u001b[39m\u001b[36m\u001b[1mInfo: \u001b[22m\u001b[39mevaluating agent at 3000000 step...\n",
      "\u001b[36m\u001b[1m┌ \u001b[22m\u001b[39m\u001b[36m\u001b[1mInfo: \u001b[22m\u001b[39mfinished evaluating agent in 25.686952028 seconds\n",
      "\u001b[36m\u001b[1m│ \u001b[22m\u001b[39m  avg_length = 3266.3333333333335\n",
      "\u001b[36m\u001b[1m└ \u001b[22m\u001b[39m  avg_score = 1.0\n",
      "\u001b[32mProgress:  40%|████████████████▍                        |  ETA: 5:19:52\u001b[39m\u001b[36m\u001b[1m[ \u001b[22m\u001b[39m\u001b[36m\u001b[1mInfo: \u001b[22m\u001b[39mevaluating agent at 3200000 step...\n",
      "\u001b[36m\u001b[1m┌ \u001b[22m\u001b[39m\u001b[36m\u001b[1mInfo: \u001b[22m\u001b[39mfinished evaluating agent in 27.08340979 seconds\n",
      "\u001b[36m\u001b[1m│ \u001b[22m\u001b[39m  avg_length = 3134.0\n",
      "\u001b[36m\u001b[1m└ \u001b[22m\u001b[39m  avg_score = 6.0\n",
      "\u001b[32mProgress:  42%|█████████████████▍                       |  ETA: 5:05:54\u001b[39m\u001b[36m\u001b[1m[ \u001b[22m\u001b[39m\u001b[36m\u001b[1mInfo: \u001b[22m\u001b[39mevaluating agent at 3400000 step...\n",
      "\u001b[36m\u001b[1m┌ \u001b[22m\u001b[39m\u001b[36m\u001b[1mInfo: \u001b[22m\u001b[39mfinished evaluating agent in 25.888057265 seconds\n",
      "\u001b[36m\u001b[1m│ \u001b[22m\u001b[39m  avg_length = 2876.0\n",
      "\u001b[36m\u001b[1m└ \u001b[22m\u001b[39m  avg_score = 12.5\n",
      "\u001b[32mProgress:  45%|██████████████████▌                      |  ETA: 4:51:42\u001b[39m\u001b[36m\u001b[1m[ \u001b[22m\u001b[39m\u001b[36m\u001b[1mInfo: \u001b[22m\u001b[39mevaluating agent at 3600000 step...\n",
      "\u001b[36m\u001b[1m┌ \u001b[22m\u001b[39m\u001b[36m\u001b[1mInfo: \u001b[22m\u001b[39mfinished evaluating agent in 25.646445525 seconds\n",
      "\u001b[36m\u001b[1m│ \u001b[22m\u001b[39m  avg_length = 3055.3333333333335\n",
      "\u001b[36m\u001b[1m└ \u001b[22m\u001b[39m  avg_score = 12.5\n",
      "\u001b[32mProgress:  47%|███████████████████▌                     |  ETA: 4:37:38\u001b[39m\u001b[36m\u001b[1m[ \u001b[22m\u001b[39m\u001b[36m\u001b[1mInfo: \u001b[22m\u001b[39mevaluating agent at 3800000 step...\n",
      "\u001b[36m\u001b[1m┌ \u001b[22m\u001b[39m\u001b[36m\u001b[1mInfo: \u001b[22m\u001b[39mfinished evaluating agent in 25.501895563 seconds\n",
      "\u001b[36m\u001b[1m│ \u001b[22m\u001b[39m  avg_length = 2695.6666666666665\n",
      "\u001b[36m\u001b[1m└ \u001b[22m\u001b[39m  avg_score = 2.0\n",
      "\u001b[32mProgress:  50%|████████████████████▌                    |  ETA: 4:23:46\u001b[39m\u001b[36m\u001b[1m[ \u001b[22m\u001b[39m\u001b[36m\u001b[1mInfo: \u001b[22m\u001b[39mevaluating agent at 4000000 step...\n",
      "\u001b[36m\u001b[1m┌ \u001b[22m\u001b[39m\u001b[36m\u001b[1mInfo: \u001b[22m\u001b[39mfinished evaluating agent in 24.227395714 seconds\n",
      "\u001b[36m\u001b[1m│ \u001b[22m\u001b[39m  avg_length = 2831.3333333333335\n",
      "\u001b[36m\u001b[1m└ \u001b[22m\u001b[39m  avg_score = 9.5\n",
      "\u001b[32mProgress:  52%|█████████████████████▌                   |  ETA: 4:09:53\u001b[39m\u001b[36m\u001b[1m[ \u001b[22m\u001b[39m\u001b[36m\u001b[1mInfo: \u001b[22m\u001b[39mevaluating agent at 4200000 step...\n",
      "\u001b[36m\u001b[1m┌ \u001b[22m\u001b[39m\u001b[36m\u001b[1mInfo: \u001b[22m\u001b[39mfinished evaluating agent in 26.022662338 seconds\n",
      "\u001b[36m\u001b[1m│ \u001b[22m\u001b[39m  avg_length = 2646.0\n",
      "\u001b[36m\u001b[1m└ \u001b[22m\u001b[39m  avg_score = 13.5\n",
      "\u001b[32mProgress:  55%|██████████████████████▌                  |  ETA: 3:56:17\u001b[39m\u001b[36m\u001b[1m[ \u001b[22m\u001b[39m\u001b[36m\u001b[1mInfo: \u001b[22m\u001b[39mevaluating agent at 4400000 step...\n",
      "\u001b[36m\u001b[1m┌ \u001b[22m\u001b[39m\u001b[36m\u001b[1mInfo: \u001b[22m\u001b[39mfinished evaluating agent in 26.051438932 seconds\n",
      "\u001b[36m\u001b[1m│ \u001b[22m\u001b[39m  avg_length = 2689.0\n",
      "\u001b[36m\u001b[1m└ \u001b[22m\u001b[39m  avg_score = 17.0\n",
      "\u001b[32mProgress:  57%|███████████████████████▋                 |  ETA: 3:42:45\u001b[39m\u001b[36m\u001b[1m[ \u001b[22m\u001b[39m\u001b[36m\u001b[1mInfo: \u001b[22m\u001b[39mevaluating agent at 4600000 step...\n",
      "\u001b[36m\u001b[1m┌ \u001b[22m\u001b[39m\u001b[36m\u001b[1mInfo: \u001b[22m\u001b[39mfinished evaluating agent in 25.135124914 seconds\n",
      "\u001b[36m\u001b[1m│ \u001b[22m\u001b[39m  avg_length = 3055.3333333333335\n",
      "\u001b[36m\u001b[1m└ \u001b[22m\u001b[39m  avg_score = -2.5\n",
      "\u001b[32mProgress:  60%|████████████████████████▋                |  ETA: 3:29:10\u001b[39m\u001b[36m\u001b[1m[ \u001b[22m\u001b[39m\u001b[36m\u001b[1mInfo: \u001b[22m\u001b[39mevaluating agent at 4800000 step...\n"
     ]
    },
    {
     "name": "stderr",
     "output_type": "stream",
     "text": [
      "\u001b[36m\u001b[1m┌ \u001b[22m\u001b[39m\u001b[36m\u001b[1mInfo: \u001b[22m\u001b[39mfinished evaluating agent in 25.093745543 seconds\n",
      "\u001b[36m\u001b[1m│ \u001b[22m\u001b[39m  avg_length = 2956.3333333333335\n",
      "\u001b[36m\u001b[1m└ \u001b[22m\u001b[39m  avg_score = 11.0\n",
      "\u001b[32mProgress:  62%|█████████████████████████▋               |  ETA: 3:15:52\u001b[39m\u001b[36m\u001b[1m[ \u001b[22m\u001b[39m\u001b[36m\u001b[1mInfo: \u001b[22m\u001b[39mevaluating agent at 5000000 step...\n",
      "\u001b[36m\u001b[1m┌ \u001b[22m\u001b[39m\u001b[36m\u001b[1mInfo: \u001b[22m\u001b[39mfinished evaluating agent in 25.514600201 seconds\n",
      "\u001b[36m\u001b[1m│ \u001b[22m\u001b[39m  avg_length = 2819.6666666666665\n",
      "\u001b[36m\u001b[1m└ \u001b[22m\u001b[39m  avg_score = 12.0\n",
      "\u001b[32mProgress:  65%|██████████████████████████▋              |  ETA: 3:02:35\u001b[39m\u001b[36m\u001b[1m[ \u001b[22m\u001b[39m\u001b[36m\u001b[1mInfo: \u001b[22m\u001b[39mevaluating agent at 5200000 step...\n",
      "\u001b[36m\u001b[1m┌ \u001b[22m\u001b[39m\u001b[36m\u001b[1mInfo: \u001b[22m\u001b[39mfinished evaluating agent in 27.956703828 seconds\n",
      "\u001b[36m\u001b[1m│ \u001b[22m\u001b[39m  avg_length = 2923.3333333333335\n",
      "\u001b[36m\u001b[1m└ \u001b[22m\u001b[39m  avg_score = 8.5\n",
      "\u001b[32mProgress:  67%|███████████████████████████▋             |  ETA: 2:49:23\u001b[39m\u001b[36m\u001b[1m[ \u001b[22m\u001b[39m\u001b[36m\u001b[1mInfo: \u001b[22m\u001b[39mevaluating agent at 5400000 step...\n",
      "\u001b[36m\u001b[1m┌ \u001b[22m\u001b[39m\u001b[36m\u001b[1mInfo: \u001b[22m\u001b[39mfinished evaluating agent in 25.574795015 seconds\n",
      "\u001b[36m\u001b[1m│ \u001b[22m\u001b[39m  avg_length = 3026.6666666666665\n",
      "\u001b[36m\u001b[1m└ \u001b[22m\u001b[39m  avg_score = 5.0\n",
      "\u001b[32mProgress:  70%|████████████████████████████▊            |  ETA: 2:36:14\u001b[39m\u001b[36m\u001b[1m[ \u001b[22m\u001b[39m\u001b[36m\u001b[1mInfo: \u001b[22m\u001b[39mevaluating agent at 5600000 step...\n",
      "\u001b[36m\u001b[1m┌ \u001b[22m\u001b[39m\u001b[36m\u001b[1mInfo: \u001b[22m\u001b[39mfinished evaluating agent in 25.706690073 seconds\n",
      "\u001b[36m\u001b[1m│ \u001b[22m\u001b[39m  avg_length = 3646.5\n",
      "\u001b[36m\u001b[1m└ \u001b[22m\u001b[39m  avg_score = 4.0\n",
      "\u001b[32mProgress:  72%|█████████████████████████████▊           |  ETA: 2:22:56\u001b[39m\u001b[36m\u001b[1m[ \u001b[22m\u001b[39m\u001b[36m\u001b[1mInfo: \u001b[22m\u001b[39mevaluating agent at 5800000 step...\n",
      "\u001b[36m\u001b[1m┌ \u001b[22m\u001b[39m\u001b[36m\u001b[1mInfo: \u001b[22m\u001b[39mfinished evaluating agent in 25.815276806 seconds\n",
      "\u001b[36m\u001b[1m│ \u001b[22m\u001b[39m  avg_length = 3189.6666666666665\n",
      "\u001b[36m\u001b[1m└ \u001b[22m\u001b[39m  avg_score = 6.5\n",
      "\u001b[32mProgress:  75%|██████████████████████████████▊          |  ETA: 2:09:54\u001b[39m\u001b[36m\u001b[1m[ \u001b[22m\u001b[39m\u001b[36m\u001b[1mInfo: \u001b[22m\u001b[39mevaluating agent at 6000000 step...\n",
      "\u001b[36m\u001b[1m┌ \u001b[22m\u001b[39m\u001b[36m\u001b[1mInfo: \u001b[22m\u001b[39mfinished evaluating agent in 26.409177945 seconds\n",
      "\u001b[36m\u001b[1m│ \u001b[22m\u001b[39m  avg_length = 2454.0\n",
      "\u001b[36m\u001b[1m└ \u001b[22m\u001b[39m  avg_score = 12.666666666666666\n",
      "\u001b[32mProgress:  77%|███████████████████████████████▊         |  ETA: 1:56:54\u001b[39m\u001b[36m\u001b[1m[ \u001b[22m\u001b[39m\u001b[36m\u001b[1mInfo: \u001b[22m\u001b[39mevaluating agent at 6200000 step...\n",
      "\u001b[36m\u001b[1m┌ \u001b[22m\u001b[39m\u001b[36m\u001b[1mInfo: \u001b[22m\u001b[39mfinished evaluating agent in 25.787508264 seconds\n",
      "\u001b[36m\u001b[1m│ \u001b[22m\u001b[39m  avg_length = 2543.3333333333335\n",
      "\u001b[36m\u001b[1m└ \u001b[22m\u001b[39m  avg_score = 4.0\n",
      "\u001b[32mProgress:  80%|████████████████████████████████▊        |  ETA: 1:43:53\u001b[39m\u001b[36m\u001b[1m[ \u001b[22m\u001b[39m\u001b[36m\u001b[1mInfo: \u001b[22m\u001b[39mevaluating agent at 6400000 step...\n",
      "\u001b[36m\u001b[1m┌ \u001b[22m\u001b[39m\u001b[36m\u001b[1mInfo: \u001b[22m\u001b[39mfinished evaluating agent in 26.709300114 seconds\n",
      "\u001b[36m\u001b[1m│ \u001b[22m\u001b[39m  avg_length = 2671.6666666666665\n",
      "\u001b[36m\u001b[1m└ \u001b[22m\u001b[39m  avg_score = 14.5\n",
      "\u001b[32mProgress:  82%|█████████████████████████████████▉       |  ETA: 1:30:47\u001b[39m\u001b[36m\u001b[1m[ \u001b[22m\u001b[39m\u001b[36m\u001b[1mInfo: \u001b[22m\u001b[39mevaluating agent at 6600000 step...\n",
      "\u001b[36m\u001b[1m┌ \u001b[22m\u001b[39m\u001b[36m\u001b[1mInfo: \u001b[22m\u001b[39mfinished evaluating agent in 25.826981468 seconds\n",
      "\u001b[36m\u001b[1m│ \u001b[22m\u001b[39m  avg_length = 2721.3333333333335\n",
      "\u001b[36m\u001b[1m└ \u001b[22m\u001b[39m  avg_score = 13.5\n",
      "\u001b[32mProgress:  85%|██████████████████████████████████▉      |  ETA: 1:17:49\u001b[39m\u001b[36m\u001b[1m[ \u001b[22m\u001b[39m\u001b[36m\u001b[1mInfo: \u001b[22m\u001b[39mevaluating agent at 6800000 step...\n",
      "\u001b[36m\u001b[1m┌ \u001b[22m\u001b[39m\u001b[36m\u001b[1mInfo: \u001b[22m\u001b[39mfinished evaluating agent in 24.986978894 seconds\n",
      "\u001b[36m\u001b[1m│ \u001b[22m\u001b[39m  avg_length = 2909.3333333333335\n",
      "\u001b[36m\u001b[1m└ \u001b[22m\u001b[39m  avg_score = 9.0\n",
      "\u001b[32mProgress:  87%|███████████████████████████████████▉     |  ETA: 1:04:46\u001b[39m\u001b[36m\u001b[1m[ \u001b[22m\u001b[39m\u001b[36m\u001b[1mInfo: \u001b[22m\u001b[39mevaluating agent at 7000000 step...\n",
      "\u001b[36m\u001b[1m┌ \u001b[22m\u001b[39m\u001b[36m\u001b[1mInfo: \u001b[22m\u001b[39mfinished evaluating agent in 24.522682786 seconds\n",
      "\u001b[36m\u001b[1m│ \u001b[22m\u001b[39m  avg_length = 2946.0\n",
      "\u001b[36m\u001b[1m└ \u001b[22m\u001b[39m  avg_score = 15.0\n",
      "\u001b[32mProgress:  90%|████████████████████████████████████▉    |  ETA: 0:51:47\u001b[39m\u001b[36m\u001b[1m[ \u001b[22m\u001b[39m\u001b[36m\u001b[1mInfo: \u001b[22m\u001b[39mevaluating agent at 7200000 step...\n",
      "\u001b[36m\u001b[1m┌ \u001b[22m\u001b[39m\u001b[36m\u001b[1mInfo: \u001b[22m\u001b[39mfinished evaluating agent in 25.48176987 seconds\n",
      "\u001b[36m\u001b[1m│ \u001b[22m\u001b[39m  avg_length = 2745.0\n",
      "\u001b[36m\u001b[1m└ \u001b[22m\u001b[39m  avg_score = 15.5\n",
      "\u001b[32mProgress:  92%|█████████████████████████████████████▉   |  ETA: 0:38:47\u001b[39m\u001b[36m\u001b[1m[ \u001b[22m\u001b[39m\u001b[36m\u001b[1mInfo: \u001b[22m\u001b[39mevaluating agent at 7400000 step...\n",
      "\u001b[36m\u001b[1m┌ \u001b[22m\u001b[39m\u001b[36m\u001b[1mInfo: \u001b[22m\u001b[39mfinished evaluating agent in 24.809678633 seconds\n",
      "\u001b[36m\u001b[1m│ \u001b[22m\u001b[39m  avg_length = 2863.6666666666665\n",
      "\u001b[36m\u001b[1m└ \u001b[22m\u001b[39m  avg_score = 9.5\n",
      "\u001b[32mProgress:  95%|███████████████████████████████████████  |  ETA: 0:25:56\u001b[39m\u001b[36m\u001b[1m[ \u001b[22m\u001b[39m\u001b[36m\u001b[1mInfo: \u001b[22m\u001b[39mevaluating agent at 7600000 step...\n",
      "\u001b[36m\u001b[1m┌ \u001b[22m\u001b[39m\u001b[36m\u001b[1mInfo: \u001b[22m\u001b[39mfinished evaluating agent in 26.118272724 seconds\n",
      "\u001b[36m\u001b[1m│ \u001b[22m\u001b[39m  avg_length = 2535.0\n",
      "\u001b[36m\u001b[1m└ \u001b[22m\u001b[39m  avg_score = 11.0\n",
      "\u001b[32mProgress:  97%|████████████████████████████████████████ |  ETA: 0:13:00\u001b[39m\u001b[36m\u001b[1m[ \u001b[22m\u001b[39m\u001b[36m\u001b[1mInfo: \u001b[22m\u001b[39mevaluating agent at 7800000 step...\n",
      "\u001b[36m\u001b[1m┌ \u001b[22m\u001b[39m\u001b[36m\u001b[1mInfo: \u001b[22m\u001b[39mfinished evaluating agent in 24.962740957 seconds\n",
      "\u001b[36m\u001b[1m│ \u001b[22m\u001b[39m  avg_length = 2900.6666666666665\n",
      "\u001b[36m\u001b[1m└ \u001b[22m\u001b[39m  avg_score = 12.0\n",
      "\u001b[32mProgress: 100%|█████████████████████████████████████████| Time: 8:38:54\u001b[39m\n",
      "\u001b[36m\u001b[1m[ \u001b[22m\u001b[39m\u001b[36m\u001b[1mInfo: \u001b[22m\u001b[39mevaluating agent at 8000000 step...\n",
      "\u001b[36m\u001b[1m┌ \u001b[22m\u001b[39m\u001b[36m\u001b[1mInfo: \u001b[22m\u001b[39mfinished evaluating agent in 25.052530501 seconds\n",
      "\u001b[36m\u001b[1m│ \u001b[22m\u001b[39m  avg_length = 2663.3333333333335\n",
      "\u001b[36m\u001b[1m└ \u001b[22m\u001b[39m  avg_score = 13.0\n"
     ]
    },
    {
     "data": {
      "text/plain": [
       "ComposedHook{Tuple{StepsPerEpisode, TotalOriginalRewardPerEpisode, DoEveryNStep{var\"#18#24\"}, DoEveryNEpisode{PostEpisodeStage, var\"#20#26\"}, DoEveryNStep{var\"#22#28\"}}}((StepsPerEpisode([1154, 896, 883, 960, 758, 936, 759, 809, 969, 823  …  2540, 2867, 2950, 2611, 2642, 2797, 2924, 2283, 2596, 2181], 0), TotalOriginalRewardPerEpisode([-17.0, -20.0, -20.0, -20.0, -21.0, -19.0, -21.0, -21.0, -21.0, -21.0  …  12.0, 15.0, 12.0, 13.0, 16.0, 15.0, 3.0, 5.0, 19.0, 12.0], 11.0), DoEveryNStep{var\"#18#24\"}(var\"#18#24\"(), 1, 8000000), DoEveryNEpisode{PostEpisodeStage, var\"#20#26\"}(var\"#20#26\"(), 1, 3036), DoEveryNStep{var\"#22#28\"}(var\"#22#28\"(), 200000, 8000000)))"
      ]
     },
     "execution_count": 14,
     "metadata": {},
     "output_type": "execute_result"
    }
   ],
   "source": [
    "run(agent, env, stop_condition, hook)"
   ]
  },
  {
   "cell_type": "markdown",
   "id": "3fd722cc",
   "metadata": {},
   "source": [
    "Now, we will save the results:"
   ]
  },
  {
   "cell_type": "code",
   "execution_count": 15,
   "id": "60580b59",
   "metadata": {},
   "outputs": [],
   "source": [
    "using Flux: params\n",
    "using BSON\n",
    "\n",
    "ps = cpu.(params(agent.policy.learner.approximator.model)) \n",
    "\n",
    "BSON.@save \"pong_weights.bson\" ps"
   ]
  },
  {
   "cell_type": "code",
   "execution_count": 16,
   "id": "2bdba77c",
   "metadata": {},
   "outputs": [],
   "source": [
    "using Flux: params\n",
    "using JLD2\n",
    "\n",
    "PongNN = cpu.(params(agent.policy.learner.approximator.model))\n",
    "\n",
    "jldsave(\"PongNN.jld2\"; PongNN)"
   ]
  },
  {
   "cell_type": "markdown",
   "id": "06e74c1f",
   "metadata": {},
   "source": [
    "### Results Analysis"
   ]
  },
  {
   "cell_type": "markdown",
   "id": "c1ea9840",
   "metadata": {},
   "source": [
    "Firstly, we will create a simple, animated gif to take a look at the agent gaming skills."
   ]
  },
  {
   "cell_type": "code",
   "execution_count": 17,
   "id": "0fb68eab",
   "metadata": {},
   "outputs": [],
   "source": [
    "using Plots, Images, ImageCore"
   ]
  },
  {
   "cell_type": "code",
   "execution_count": 18,
   "id": "f16e4079",
   "metadata": {},
   "outputs": [],
   "source": [
    "\"Frames of pong game\"\n",
    "Base.@kwdef mutable struct AnimateGame <: AbstractHook\n",
    "    plots = []\n",
    "end\n",
    "\n",
    "function (hook::AnimateGame)(\n",
    "    ::PostActStage, agent,\n",
    "    env::RewardTransformedEnv,\n",
    ")\n",
    "    p =  plot(transpose(Gray.(state(env.env)[:,:,1]./255)),ticks = false, showaxis = false)\n",
    "    push!(hook.plots, p)\n",
    "end\n"
   ]
  },
  {
   "cell_type": "code",
   "execution_count": 19,
   "id": "fe369d97",
   "metadata": {},
   "outputs": [
    {
     "data": {
      "text/plain": [
       "anim_game (generic function with 1 method)"
      ]
     },
     "execution_count": 19,
     "metadata": {},
     "output_type": "execute_result"
    }
   ],
   "source": [
    "function anim_game(policy, gif_name; seed = 1234, MAX_EPISODES = 1, MAX_EPISODE_STEPS_ANIM = 3000, \n",
    "        FPS = 23, gif_length = 5)\n",
    "    policy = @set policy.explorer = EpsilonGreedyExplorer(0.001; rng = rng)  # set evaluation epsilon\n",
    "    hook = AnimateGame()\n",
    "    s = run(policy,\n",
    "        atari_env_factory(name,\n",
    "        STATE_SIZE,\n",
    "        N_FRAMES,\n",
    "        MAX_EPISODE_STEPS_ANIM;\n",
    "        seed = seed),\n",
    "        StopAfterStep(MAX_EPISODES * MAX_EPISODE_STEPS_ANIM, is_show_progress = false),\n",
    "        hook,)\n",
    "    first_frame = rand(1:length(hook.plots) - FPS *gif_length);\n",
    "    gif_frames = hook.plots[first_frame:(first_frame + FPS *gif_length)];\n",
    "    anim = @animate for frame in gif_frames\n",
    "        plot(frame)\n",
    "    end\n",
    "    anim\n",
    "    gif(anim, gif_name, fps = FPS)\n",
    "end\n"
   ]
  },
  {
   "cell_type": "markdown",
   "id": "1040858f",
   "metadata": {},
   "source": [
    "Now, test for random policy:"
   ]
  },
  {
   "cell_type": "code",
   "execution_count": 20,
   "id": "0248db1e",
   "metadata": {
    "scrolled": false
   },
   "outputs": [],
   "source": [
    "test_policy = QBasedPolicy(\n",
    "            learner = DQNLearner(\n",
    "                approximator = NeuralNetworkApproximator(\n",
    "                    model = create_model(),\n",
    "                    optimizer = ADAM(0.0001),),  \n",
    "                target_approximator = NeuralNetworkApproximator(model = create_model()),\n",
    "                update_freq = 4,\n",
    "                γ = 0.99f0,\n",
    "                update_horizon = 1,\n",
    "                batch_size = 32,\n",
    "                stack_size = N_FRAMES,\n",
    "                min_replay_history = 5_000,\n",
    "                loss_func = huber_loss,\n",
    "                target_update_freq = 4_000,\n",
    "                rng = rng,\n",
    "            ),\n",
    "            explorer = EpsilonGreedyExplorer(\n",
    "                ϵ_init = 1.0,\n",
    "                ϵ_stable = 0.01,\n",
    "                decay_steps = 250_000,\n",
    "                kind = :linear,\n",
    "                rng = rng,\n",
    "            ),\n",
    "        );"
   ]
  },
  {
   "cell_type": "code",
   "execution_count": 21,
   "id": "bbf4f37d",
   "metadata": {},
   "outputs": [
    {
     "name": "stderr",
     "output_type": "stream",
     "text": [
      "\u001b[36m\u001b[1m┌ \u001b[22m\u001b[39m\u001b[36m\u001b[1mInfo: \u001b[22m\u001b[39mSaved animation to \n",
      "\u001b[36m\u001b[1m└ \u001b[22m\u001b[39m  fn = \"/root/Pong/pong_before.gif\"\n"
     ]
    },
    {
     "data": {
      "text/html": [
       "<img src=\"data:image/gif;base64,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\" />"
      ],
      "text/plain": [
       "Plots.AnimatedGif(\"/root/Pong/pong_before.gif\")"
      ]
     },
     "execution_count": 21,
     "metadata": {},
     "output_type": "execute_result"
    }
   ],
   "source": [
    "anim_game(test_policy, \"pong_before.gif\")"
   ]
  },
  {
   "cell_type": "markdown",
   "id": "0ef138a4",
   "metadata": {},
   "source": [
    "and for the trained model:"
   ]
  },
  {
   "cell_type": "code",
   "execution_count": 22,
   "id": "4039d78d",
   "metadata": {},
   "outputs": [],
   "source": [
    "#using BSON, Zygote, CUDA, Flux\n",
    "\n",
    "#ps = params(agent.policy)\n",
    "\n",
    "#BSON.@load \"ps.bson\" ps \n",
    "#ps = gpu(ps)\n",
    "#Flux.loadparams!(agent.policy,ps)"
   ]
  },
  {
   "cell_type": "code",
   "execution_count": 23,
   "id": "696f49f9",
   "metadata": {},
   "outputs": [],
   "source": [
    "using JLD2, Flux\n",
    "using Flux: params\n",
    "\n",
    "PongNN = JLD2.load(\"PongNN.jld2\", \"PongNN\")\n",
    "Flux.loadparams!(test_policy.learner.approximator.model, gpu.(PongNN));"
   ]
  },
  {
   "cell_type": "code",
   "execution_count": 28,
   "id": "60c90398",
   "metadata": {},
   "outputs": [
    {
     "name": "stderr",
     "output_type": "stream",
     "text": [
      "\u001b[36m\u001b[1m┌ \u001b[22m\u001b[39m\u001b[36m\u001b[1mInfo: \u001b[22m\u001b[39mSaved animation to \n",
      "\u001b[36m\u001b[1m└ \u001b[22m\u001b[39m  fn = \"/root/Pong/pong_after.gif\"\n"
     ]
    },
    {
     "data": {
      "text/html": [
       "<img src=\"data:image/gif;base64,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\" />"
      ],
      "text/plain": [
       "Plots.AnimatedGif(\"/root/Pong/pong_after.gif\")"
      ]
     },
     "execution_count": 28,
     "metadata": {},
     "output_type": "execute_result"
    }
   ],
   "source": [
    "anim_game(test_policy, \"pong_after.gif\")"
   ]
  }
 ],
 "metadata": {
  "kernelspec": {
   "display_name": "Julia 1.8.5",
   "language": "julia",
   "name": "julia-1.8"
  },
  "language_info": {
   "file_extension": ".jl",
   "mimetype": "application/julia",
   "name": "julia",
   "version": "1.8.5"
  }
 },
 "nbformat": 4,
 "nbformat_minor": 5
}
