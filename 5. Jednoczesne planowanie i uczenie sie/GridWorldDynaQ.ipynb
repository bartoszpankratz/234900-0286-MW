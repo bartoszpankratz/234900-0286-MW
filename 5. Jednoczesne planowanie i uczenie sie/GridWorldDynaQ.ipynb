{
 "cells": [
  {
   "cell_type": "markdown",
   "id": "a347789c",
   "metadata": {},
   "source": [
    "## DynaQ - Grid World Example"
   ]
  },
  {
   "cell_type": "markdown",
   "id": "9c36b9a0",
   "metadata": {},
   "source": [
    "This time we will use an environment from the [<tt>GridWorlds.jl</tt>](https://github.com/JuliaReinforcementLearning/GridWorlds.jl) package:"
   ]
  },
  {
   "cell_type": "code",
   "execution_count": 1,
   "id": "9ff90a98",
   "metadata": {},
   "outputs": [
    {
     "data": {
      "text/markdown": [
       "# RLBaseEnv\n",
       "\n",
       "## Traits\n",
       "\n",
       "| Trait Type        |                  Value |\n",
       "|:----------------- | ----------------------:|\n",
       "| NumAgentStyle     |          SingleAgent() |\n",
       "| DynamicStyle      |           Sequential() |\n",
       "| InformationStyle  | ImperfectInformation() |\n",
       "| ChanceStyle       |           Stochastic() |\n",
       "| RewardStyle       |           StepReward() |\n",
       "| UtilityStyle      |           GeneralSum() |\n",
       "| ActionStyle       |     MinimalActionSet() |\n",
       "| StateStyle        |   InternalState{Any}() |\n",
       "| DefaultStateStyle |   InternalState{Any}() |\n",
       "\n",
       "## Is Environment Terminated?\n",
       "\n",
       "No\n",
       "\n",
       "## State Space\n",
       "\n",
       "`nothing`\n",
       "\n",
       "## Action Space\n",
       "\n",
       "`Base.OneTo(4)`\n",
       "\n",
       "## Current State\n",
       "\n",
       "```\n",
       "([0 0 0 0 0 0 0 0 0; 1 1 1 1 1 1 1 1 1; 0 0 0 0 0 0 0 0 0;;; 0 0 0 0 0 0 0 0 0; 1 0 0 0 1 0 0 0 1; 0 0 0 0 0 0 0 0 0;;; 0 0 0 0 0 0 0 0 0; 1 0 0 0 0 0 0 0 1; 0 0 0 0 0 0 0 0 0;;; 0 0 0 0 0 0 0 0 0; 1 0 0 0 1 0 0 0 1; 0 0 0 0 0 0 0 0 0;;; 0 0 0 0 0 0 1 0 0; 1 1 0 1 1 1 0 1 1; 0 0 0 0 0 0 0 0 0;;; 0 0 0 0 0 0 0 0 0; 1 0 0 0 1 0 0 0 1; 0 0 0 0 0 0 0 0 0;;; 0 0 0 0 0 0 0 0 0; 1 0 0 0 0 0 0 0 1; 0 0 0 0 0 1 0 0 0;;; 0 0 0 0 0 0 0 0 0; 1 0 0 0 1 0 0 0 1; 0 0 0 0 0 0 0 0 0;;; 0 0 0 0 0 0 0 0 0; 1 1 1 1 1 1 1 1 1; 0 0 0 0 0 0 0 0 0], 2)\n",
       "```\n"
      ],
      "text/plain": [
       "tile_map:\n",
       "█████████\n",
       "█⋅⋅⋅█⋅⋅⋅█\n",
       "█⋅⋅⋅⋅⋅⋅⋅█\n",
       "█⋅⋅⋅█⋅⋅⋅█\n",
       "██⋅███⋅██\n",
       "█⋅⋅⋅█⋅♥⋅█\n",
       "█⋅⋅⋅←⋅⋅⋅█\n",
       "█⋅⋅⋅█⋅⋅⋅█\n",
       "█████████\n",
       "sub_tile_map:\n",
       "██↓██\n",
       "█⋅⋅⋅█\n",
       "⋅⋅⋅⋅█\n",
       "█⋅⋅⋅█\n",
       "█████\n",
       "reward: 0.0\n",
       "done: false\n",
       "action_names: (:MOVE_FORWARD, :MOVE_BACKWARD, :TURN_LEFT, :TURN_RIGHT)\n",
       "object_names: (:AGENT, :WALL, :GOAL)"
      ]
     },
     "execution_count": 1,
     "metadata": {},
     "output_type": "execute_result"
    }
   ],
   "source": [
    "using ReinforcementLearningBase, GridWorlds\n",
    "using PyPlot\n",
    "\n",
    "world = GridWorlds.GridRoomsDirectedModule.GridRoomsDirected();\n",
    "env = GridWorlds.RLBaseEnv(world)"
   ]
  },
  {
   "cell_type": "markdown",
   "id": "6415da8e",
   "metadata": {},
   "source": [
    "Now, we will define agent (note how it differs from the basic TD learning):"
   ]
  },
  {
   "cell_type": "code",
   "execution_count": 2,
   "id": "a9241470",
   "metadata": {},
   "outputs": [
    {
     "data": {
      "text/plain": [
       "Agent"
      ]
     },
     "execution_count": 2,
     "metadata": {},
     "output_type": "execute_result"
    }
   ],
   "source": [
    "mutable struct Agent\n",
    "    env::AbstractEnv\n",
    "    ϵ::Float64 #współczynnik eksploracji\n",
    "    ϵ_decay::Float64\n",
    "    ϵ_min::Float64\n",
    "    β::Float64 #dyskonto\n",
    "    α::Float64 #stopa uczenia się\n",
    "    planning::Int64 #liczba krokow planowania\n",
    "    Q::Dict\n",
    "    model::Dict\n",
    "    score::Int #wynik - ile razy agent dotarl do mety\n",
    "end\n",
    "\n",
    "function Agent(env, planning_steps; ϵ = 1.0, ϵ_decay = 0.9975, ϵ_min = 0.005,\n",
    "        β = 0.99, α = 0.1) \n",
    "    Agent(env,\n",
    "        ϵ, ϵ_decay, ϵ_min, β, α, \n",
    "        planning_steps, \n",
    "        Dict(), Dict(), 0.0)\n",
    "end"
   ]
  },
  {
   "cell_type": "markdown",
   "id": "e8bfbd59",
   "metadata": {},
   "source": [
    "It is time to define the model approximation function. In our case it is simple, usually it is far more complicated:"
   ]
  },
  {
   "cell_type": "code",
   "execution_count": 3,
   "id": "aba573d4",
   "metadata": {},
   "outputs": [
    {
     "data": {
      "text/plain": [
       "feed! (generic function with 1 method)"
      ]
     },
     "execution_count": 3,
     "metadata": {},
     "output_type": "execute_result"
    }
   ],
   "source": [
    "feed!(agent,state, action, reward, new_state) = (agent.model[(state,action)] = (new_state, reward))"
   ]
  },
  {
   "cell_type": "markdown",
   "id": "2ff61b4c",
   "metadata": {},
   "source": [
    "Learning function:"
   ]
  },
  {
   "cell_type": "code",
   "execution_count": 4,
   "id": "6761a276",
   "metadata": {},
   "outputs": [
    {
     "data": {
      "text/plain": [
       "learn! (generic function with 1 method)"
      ]
     },
     "execution_count": 4,
     "metadata": {},
     "output_type": "execute_result"
    }
   ],
   "source": [
    "function learn!(agent, state, action, reward, new_state)\n",
    "    if !haskey(agent.Q, state)\n",
    "        agent.Q[state] = zeros(length(action_space(agent.env)))\n",
    "        agent.Q[state][action] = reward\n",
    "    else\n",
    "        Q_next_state = 0.0\n",
    "        haskey(agent.Q, new_state) && ( Q_next_state += maximum(agent.Q[new_state]))\n",
    "        agent.Q[state][action] += agent.α * (reward + agent.β*Q_next_state - agent.Q[state][action])\n",
    "    end\n",
    "    \n",
    "end"
   ]
  },
  {
   "cell_type": "markdown",
   "id": "989d47e2",
   "metadata": {},
   "source": [
    "Finally, the main loop:"
   ]
  },
  {
   "cell_type": "code",
   "execution_count": 5,
   "id": "f40c4b16",
   "metadata": {},
   "outputs": [
    {
     "data": {
      "text/plain": [
       "dyna_Q! (generic function with 1 method)"
      ]
     },
     "execution_count": 5,
     "metadata": {},
     "output_type": "execute_result"
    }
   ],
   "source": [
    "function dyna_Q!(agent, steps; burning = true, animated = nothing) \n",
    "    step = 1.0\n",
    "    episode = 0.0\n",
    "    if !isnothing(animated)\n",
    "        global str = \"\"\n",
    "        global str = str * \"FRAME_START_DELIMITER\"\n",
    "        global str = str * \"step: $(step)\\n\"\n",
    "        global str = str * \"episode: $(episode)\\n\"\n",
    "        global str = str * repr(MIME\"text/plain\"(), env)\n",
    "        global str = str * \"\\ntotal_reward: 0\"\n",
    "    end\n",
    "    while step <= steps\n",
    "        if (burning && step < 0.1*steps) || rand() < agent.ϵ || !haskey(agent.Q, state(agent.env))\n",
    "            action = rand(1:length(action_space(agent.env)))\n",
    "        else \n",
    "            action = argmax(agent.Q[state(agent.env)])\n",
    "        end\n",
    "        S = deepcopy(state(agent.env))\n",
    "        agent.env(action_space(agent.env)[action])\n",
    "        r = reward(agent.env)\n",
    "        learn!(agent, S, action, r, deepcopy(state(agent.env)))\n",
    "        feed!(agent, S, action, r, deepcopy(state(agent.env)))\n",
    "        for i = 1:agent.planning\n",
    "            (S,a),(next_S, R) = rand(agent.model)\n",
    "            learn!(agent, S, a, R, next_S)\n",
    "        end \n",
    "        if !isnothing(animated) \n",
    "            global str = str * \"FRAME_START_DELIMITER\"\n",
    "            global str = str * \"step: $(step)\\n\"\n",
    "            global str = str * \"episode: $(episode)\\n\"\n",
    "            global str = str * repr(MIME\"text/plain\"(), env)\n",
    "            global str = str * \"\\ntotal_reward: $(agent.score)\"\n",
    "        end\n",
    "        if is_terminated(agent.env)\n",
    "            eps = agent.ϵ * agent.ϵ_decay\n",
    "            agent.ϵ = max(agent.ϵ_min, eps)\n",
    "            agent.score += 1.0\n",
    "            episode += 1.0\n",
    "            reset!(agent.env)\n",
    "        end\n",
    "        step += 1.0 \n",
    "    end\n",
    "    if !isnothing(animated) \n",
    "        write(animated * \".txt\", str)\n",
    "    end\n",
    "end"
   ]
  },
  {
   "cell_type": "markdown",
   "id": "fd36b0f7",
   "metadata": {},
   "source": [
    "Let us test if everything work. DynaQ before learning:"
   ]
  },
  {
   "cell_type": "code",
   "execution_count": 6,
   "id": "3ad4902e",
   "metadata": {},
   "outputs": [
    {
     "data": {
      "text/plain": [
       "55337"
      ]
     },
     "execution_count": 6,
     "metadata": {},
     "output_type": "execute_result"
    }
   ],
   "source": [
    "agent = Agent(env,5);\n",
    "\n",
    "dyna_Q!(agent, 100, animated = \"before_learning\")\n",
    "#animation - works only in command line!\n",
    "#GridWorlds.replay(file_name = \"before_learning.txt\", frame_start_delimiter = \"FRAME_START_DELIMITER\", frame_rate = 5)"
   ]
  },
  {
   "cell_type": "markdown",
   "id": "e9823b3e",
   "metadata": {},
   "source": [
    "and after learning:"
   ]
  },
  {
   "cell_type": "code",
   "execution_count": 7,
   "id": "7daf65c9",
   "metadata": {},
   "outputs": [
    {
     "name": "stderr",
     "output_type": "stream",
     "text": [
      "\u001b[36m\u001b[1m[ \u001b[22m\u001b[39m\u001b[36m\u001b[1mInfo: \u001b[22m\u001b[39magent score: 110153\n"
     ]
    },
    {
     "data": {
      "text/plain": [
       "555454"
      ]
     },
     "execution_count": 7,
     "metadata": {},
     "output_type": "execute_result"
    }
   ],
   "source": [
    "dyna_Q!(agent, 1_000_000)\n",
    "@info \"agent score: $(agent.score)\"\n",
    "\n",
    "dyna_Q!(agent, 1000, burning = false, animated = \"after_learning\")\n",
    "#animation - works only in command line!\n",
    "#GridWorlds.replay(file_name = \"after_learning.txt\", frame_start_delimiter = \"FRAME_START_DELIMITER\",  frame_rate = 5)"
   ]
  },
  {
   "cell_type": "markdown",
   "id": "8c1780bc",
   "metadata": {},
   "source": [
    "Now, let us take a look at different numbers of planning steps:"
   ]
  },
  {
   "cell_type": "code",
   "execution_count": 8,
   "id": "4d9b602e",
   "metadata": {},
   "outputs": [
    {
     "name": "stdout",
     "output_type": "stream",
     "text": [
      "  9.325697 seconds (63.25 M allocations: 2.677 GiB, 5.83% gc time)\n"
     ]
    },
    {
     "name": "stderr",
     "output_type": "stream",
     "text": [
      "\u001b[36m\u001b[1m[ \u001b[22m\u001b[39m\u001b[36m\u001b[1mInfo: \u001b[22m\u001b[39magent 0 steps of planning (Q-learning)\n",
      "\u001b[36m\u001b[1m[ \u001b[22m\u001b[39m\u001b[36m\u001b[1mInfo: \u001b[22m\u001b[39magent score: 1407\n",
      "\u001b[36m\u001b[1m[ \u001b[22m\u001b[39m\u001b[36m\u001b[1mInfo: \u001b[22m\u001b[39magent 10 steps of planning\n"
     ]
    },
    {
     "name": "stdout",
     "output_type": "stream",
     "text": [
      " 77.335739 seconds (529.95 M allocations: 15.697 GiB, 4.25% gc time)\n"
     ]
    },
    {
     "name": "stderr",
     "output_type": "stream",
     "text": [
      "\u001b[36m\u001b[1m[ \u001b[22m\u001b[39m\u001b[36m\u001b[1mInfo: \u001b[22m\u001b[39magent score: 106693\n"
     ]
    },
    {
     "name": "stdout",
     "output_type": "stream",
     "text": [
      "213.700208 seconds (1.47 G allocations: 41.798 GiB, 3.91% gc time)\n"
     ]
    },
    {
     "name": "stderr",
     "output_type": "stream",
     "text": [
      "\u001b[36m\u001b[1m[ \u001b[22m\u001b[39m\u001b[36m\u001b[1mInfo: \u001b[22m\u001b[39magent 30 steps of planning\n",
      "\u001b[36m\u001b[1m[ \u001b[22m\u001b[39m\u001b[36m\u001b[1mInfo: \u001b[22m\u001b[39magent score: 106509\n"
     ]
    }
   ],
   "source": [
    "@info \"agent 0 steps of planning (Q-learning)\"\n",
    "agent = Agent(env,0);\n",
    "@time dyna_Q!(agent, 1_000_000)\n",
    "@info \"agent score: $(agent.score)\"\n",
    "\n",
    "@info \"agent 10 steps of planning\"\n",
    "agent = Agent(env,10);\n",
    "@time dyna_Q!(agent, 1_000_000)\n",
    "@info \"agent score: $(agent.score)\"\n",
    "\n",
    "@info \"agent 30 steps of planning\"\n",
    "agent = Agent(env,30);\n",
    "@time dyna_Q!(agent, 1_000_000)\n",
    "@info \"agent score: $(agent.score)\""
   ]
  },
  {
   "cell_type": "markdown",
   "id": "a1f456f9",
   "metadata": {},
   "source": [
    "### Experiment\n",
    "\n",
    "<i>Score for different numbers of planning steps:</i>"
   ]
  },
  {
   "cell_type": "code",
   "execution_count": 37,
   "id": "9b5e0654",
   "metadata": {},
   "outputs": [],
   "source": [
    "#this experiment is pretty slow!\n",
    "\n",
    "using Random; Random.seed!(234)\n",
    "\n",
    "res = []\n",
    "times = []\n",
    "for i in 0:3:25\n",
    "    scores = []\n",
    "    times_steps = []\n",
    "    for j in 1:5\n",
    "        agent = Agent(env, i);\n",
    "        t = @elapsed dyna_Q!(agent, 100_000)\n",
    "        push!(scores,agent.score)\n",
    "        push!(times_steps, t)\n",
    "    end\n",
    "    push!(res,sum(scores)/length(scores))\n",
    "    push!(times,sum(times_steps)/length(times_steps))\n",
    "end"
   ]
  },
  {
   "cell_type": "code",
   "execution_count": 38,
   "id": "42cb9cee",
   "metadata": {
    "scrolled": true
   },
   "outputs": [
    {
     "data": {
      "image/png": "[encoded data removed]",
      "text/plain": [
       "Figure(PyObject <Figure size 640x480 with 2 Axes>)"
      ]
     },
     "metadata": {},
     "output_type": "display_data"
    },
    {
     "data": {
      "text/plain": [
       "(PyCall.PyObject[PyObject <matplotlib.axis.XTick object at 0x000002BF31B213D0>, PyObject <matplotlib.axis.XTick object at 0x000002BF31B21250>, PyObject <matplotlib.axis.XTick object at 0x000002BF31D57310>, PyObject <matplotlib.axis.XTick object at 0x000002BF31B594C0>, PyObject <matplotlib.axis.XTick object at 0x000002BF31B59C10>, PyObject <matplotlib.axis.XTick object at 0x000002BF31B603A0>, PyObject <matplotlib.axis.XTick object at 0x000002BF31B60AF0>, PyObject <matplotlib.axis.XTick object at 0x000002BF31B59400>, PyObject <matplotlib.axis.XTick object at 0x000002BF31B600A0>], PyCall.PyObject[PyObject Text(0, 0, '0'), PyObject Text(1, 0, '3'), PyObject Text(2, 0, '6'), PyObject Text(3, 0, '9'), PyObject Text(4, 0, '12'), PyObject Text(5, 0, '15'), PyObject Text(6, 0, '18'), PyObject Text(7, 0, '21'), PyObject Text(8, 0, '24')])"
      ]
     },
     "execution_count": 38,
     "metadata": {},
     "output_type": "execute_result"
    }
   ],
   "source": [
    "PyPlot.plot(res, color = \"blue\", label = \"Score\")\n",
    "ylabel(\"Score\", color = \"blue\")\n",
    "xlabel(\"Planning Steps\")\n",
    "twinx()\n",
    "PyPlot.plot(times, color = \"red\", label = \"Time\")\n",
    "ylabel(\"Time (in Seconds)\",color = \"red\")\n",
    "xticks(0:8,string.(collect(0:3:25)))"
   ]
  }
 ],
 "metadata": {
  "kernelspec": {
   "display_name": "Julia 1.8.5",
   "language": "julia",
   "name": "julia-1.8"
  },
  "language_info": {
   "file_extension": ".jl",
   "mimetype": "application/julia",
   "name": "julia",
   "version": "1.8.5"
  }
 },
 "nbformat": 4,
 "nbformat_minor": 5
}
