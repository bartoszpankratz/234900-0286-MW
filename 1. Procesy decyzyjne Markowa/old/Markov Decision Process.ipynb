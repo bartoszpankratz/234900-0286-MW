{
 "cells": [
  {
   "cell_type": "markdown",
   "id": "e5be9710",
   "metadata": {},
   "source": [
    "# Markov Decision Process"
   ]
  },
  {
   "cell_type": "code",
   "execution_count": 6,
   "id": "3d863dfc",
   "metadata": {},
   "outputs": [],
   "source": [
    "using DataFrames\n",
    "using Random"
   ]
  },
  {
   "cell_type": "markdown",
   "id": "ce499144",
   "metadata": {},
   "source": [
    "### Let us define Monopoly game environment:"
   ]
  },
  {
   "cell_type": "code",
   "execution_count": 7,
   "id": "694ca080",
   "metadata": {},
   "outputs": [],
   "source": [
    " Spaces = [\n",
    "                (\"Go\", 0.0, Inf),\n",
    "                (\"Mediterranean Avenue\", 2.0, 60.0),\n",
    "                (\"Community Chest\", 0.0, Inf),\n",
    "                (\"Baltic Avenue\", 4.0, 60.0),\n",
    "                (\"Income Tax\", 0.0, Inf),\n",
    "                (\"Reading Railroad\", 25.0, 200.0),\n",
    "                (\"Oriental Avenue\", 6.0, 100.0),\n",
    "                (\"Chance\", 0.0, Inf),\n",
    "                (\"Vermont Avenue\", 6.0, 100.0),\n",
    "                (\"Connecticut Avenue\", 8.0, 120.0),\n",
    "                (\"Jail\", 0.0, Inf),\n",
    "                (\"St. Charles Place\", 10.0, 140.0),\n",
    "                (\"Electric Company\", 4.0 * 6.0, 150.0),\n",
    "                (\"States Avenue\", 10.0, 140.0),\n",
    "                (\"Virginia Avenue\", 12.0, 160.0),\n",
    "                (\"Pennsylvania Railroad\", 25.0, 200.0),\n",
    "                (\"St. James Place\", 14.0, 180.0),\n",
    "                (\"Community Chest\", 0.0, Inf),\n",
    "                (\"Tennessee Avenue\", 14.0, 180.0),\n",
    "                (\"New York Avenue\", 16.0, 200.0),\n",
    "                (\"Free Parking\", 0.0, Inf),\n",
    "                (\"Kentucky Avenue\", 18.0, 220.0),\n",
    "                (\"Chance\", 0.0, Inf),\n",
    "                (\"Indiana Avenue\", 18.0, 220.0),\n",
    "                (\"Illinois Avenue\", 20.0, 240.0),\n",
    "                (\"B & O Railroad\", 25.0, 200.0),\n",
    "                (\"Atlantic Avenue\", 22.0, 260.0),\n",
    "                (\"Ventnor Avenue\", 22.0, 260.0),\n",
    "                (\"Water Works\", 4.0 * 6.0, 150.0),\n",
    "                (\"Marvin Gardens\", 24.0, 280.0),\n",
    "                (\"Go To Jail\", 0.0, Inf),\n",
    "                (\"Pacific Avenue\", 26.0, 300.0),\n",
    "                (\"North Carolina Avenue\", 26.0, 300.0),\n",
    "                (\"Community Chest\", 0.0, Inf),\n",
    "                (\"Pennsylvania Avenue\", 28.0, 320.0),\n",
    "                (\"Short Line\", 25.0, 200.0),\n",
    "                (\"Chance\", 0.0, Inf),\n",
    "                (\"Park Place\", 35.0, 350.0),\n",
    "                (\"Luxury Tax\", 0.0, Inf),\n",
    "                (\"Boardwalk\", 50.0, 400.0)];"
   ]
  },
  {
   "cell_type": "markdown",
   "id": "875d1f96",
   "metadata": {},
   "source": [
    "### Example 1.  Monopoly as a Markov Chain"
   ]
  },
  {
   "cell_type": "markdown",
   "id": "95100e76",
   "metadata": {},
   "source": [
    "We will start with the Monopoly game defined as a simple Markov chain. Our goal is to find the stationary distribution of this process:"
   ]
  },
  {
   "cell_type": "code",
   "execution_count": 8,
   "id": "79771535",
   "metadata": {},
   "outputs": [
    {
     "data": {
      "text/plain": [
       "solve (generic function with 2 methods)"
      ]
     },
     "execution_count": 8,
     "metadata": {},
     "output_type": "execute_result"
    }
   ],
   "source": [
    "function transition_matrix(n=40)\n",
    "    #basic transition matrix\n",
    "    T = zeros(Float64,n,n)\n",
    "    for i = 1:n\n",
    "        for j = 2:12\n",
    "            T[i, mod(i + j - 1,n)+1] = mod(min(j -1,13-j),7)/ 36\n",
    "        end\n",
    "    end\n",
    "    #special matrix\n",
    "    S = zeros(Float64,n,n)\n",
    "    for i = 1:n\n",
    "        if !in(i,(3,18,31,34))\n",
    "            S[i,i] = 1.0\n",
    "        elseif i == 31\n",
    "            S[i,11] = 1.0\n",
    "        else #community chest\n",
    "            #advance to go\n",
    "            S[i,1] = 1.0 / 16.0;\n",
    "            #go to jail\n",
    "            S[i,11] = 1.0 / 16.0;\n",
    "            #stay put\n",
    "            S[i,i] = 14.0 / 16.0;\n",
    "        end\n",
    "    end\n",
    "    T * S\n",
    "end\n",
    "\n",
    "function solve(k,n=40)\n",
    "    T = transition_matrix(n)\n",
    "    s = hcat(1.0,zeros(Float64,1,n-1))\n",
    "    s * T^k\n",
    "end"
   ]
  },
  {
   "cell_type": "code",
   "execution_count": 9,
   "id": "97d55cc2",
   "metadata": {},
   "outputs": [
    {
     "data": {
      "text/plain": [
       "40×1 adjoint(::Matrix{Float64}) with eltype Float64:\n",
       " 0.02718519653634749\n",
       " 0.022595593909926576\n",
       " 0.020088902487865122\n",
       " 0.02337710167023832\n",
       " 0.023084775209526613\n",
       " 0.02297863014830041\n",
       " 0.02301209610078735\n",
       " 0.023063894117358544\n",
       " 0.022929801058082913\n",
       " 0.02284183819086106\n",
       " 0.0546613299656088\n",
       " 0.022917164921724145\n",
       " 0.023774933942587107\n",
       " ⋮\n",
       " 0.027030468446477315\n",
       " 0.026967717778825596\n",
       " 0.0\n",
       " 0.02688541220906093\n",
       " 0.026137642782802298\n",
       " 0.022233994190789353\n",
       " 0.024666218241423055\n",
       " 0.023787980616430136\n",
       " 0.02283673499352182\n",
       " 0.021779991748910883\n",
       " 0.02209821074932742\n",
       " 0.022276335016028846"
      ]
     },
     "execution_count": 9,
     "metadata": {},
     "output_type": "execute_result"
    }
   ],
   "source": [
    "#first as a simple Markov chain:\n",
    "solve(100000,40)'\n"
   ]
  },
  {
   "cell_type": "markdown",
   "id": "b4673db0",
   "metadata": {},
   "source": [
    "### Example 2.  Monopoly as a Markov Chain with Rewards"
   ]
  },
  {
   "cell_type": "markdown",
   "id": "1165a5d7",
   "metadata": {},
   "source": [
    "Now, let us add some rewards to the problem. With this simple modification, we will be able to compute the return on investment for every field in the game and discuss which one is the most profitable for a player: "
   ]
  },
  {
   "cell_type": "code",
   "execution_count": 10,
   "id": "49970665",
   "metadata": {},
   "outputs": [
    {
     "data": {
      "text/html": [
       "<div class=\"data-frame\"><p>40 rows × 4 columns</p><table class=\"data-frame\"><thead><tr><th></th><th>Space</th><th>Prob</th><th>Rent</th><th>ROI</th></tr><tr><th></th><th title=\"String\">String</th><th title=\"Float64\">Float64</th><th title=\"Float64\">Float64</th><th title=\"Float64\">Float64</th></tr></thead><tbody><tr><th>1</th><td>Go</td><td>0.0271852</td><td>0.0</td><td>0.0</td></tr><tr><th>2</th><td>Mediterranean Avenue</td><td>0.0225956</td><td>0.0451912</td><td>0.0753186</td></tr><tr><th>3</th><td>Community Chest</td><td>0.0200889</td><td>0.0</td><td>0.0</td></tr><tr><th>4</th><td>Baltic Avenue</td><td>0.0233771</td><td>0.0935084</td><td>0.155847</td></tr><tr><th>5</th><td>Income Tax</td><td>0.0230848</td><td>0.0</td><td>0.0</td></tr><tr><th>6</th><td>Reading Railroad</td><td>0.0229786</td><td>0.574466</td><td>0.287233</td></tr><tr><th>7</th><td>Oriental Avenue</td><td>0.0230121</td><td>0.138073</td><td>0.138073</td></tr><tr><th>8</th><td>Chance</td><td>0.0230639</td><td>0.0</td><td>0.0</td></tr><tr><th>9</th><td>Vermont Avenue</td><td>0.0229298</td><td>0.137579</td><td>0.137579</td></tr><tr><th>10</th><td>Connecticut Avenue</td><td>0.0228418</td><td>0.182735</td><td>0.152279</td></tr><tr><th>11</th><td>Jail</td><td>0.0546613</td><td>0.0</td><td>0.0</td></tr><tr><th>12</th><td>St. Charles Place</td><td>0.0229172</td><td>0.229172</td><td>0.163694</td></tr><tr><th>13</th><td>Electric Company</td><td>0.0237749</td><td>0.570598</td><td>0.380399</td></tr><tr><th>14</th><td>States Avenue</td><td>0.0246115</td><td>0.246115</td><td>0.175796</td></tr><tr><th>15</th><td>Virginia Avenue</td><td>0.0255852</td><td>0.307022</td><td>0.191889</td></tr><tr><th>16</th><td>Pennsylvania Railroad</td><td>0.0265888</td><td>0.66472</td><td>0.33236</td></tr><tr><th>17</th><td>St. James Place</td><td>0.0275873</td><td>0.386222</td><td>0.214568</td></tr><tr><th>18</th><td>Community Chest</td><td>0.0251166</td><td>0.0</td><td>0.0</td></tr><tr><th>19</th><td>Tennessee Avenue</td><td>0.028193</td><td>0.394702</td><td>0.219279</td></tr><tr><th>20</th><td>New York Avenue</td><td>0.027744</td><td>0.443905</td><td>0.221952</td></tr><tr><th>21</th><td>Free Parking</td><td>0.0273966</td><td>0.0</td><td>0.0</td></tr><tr><th>22</th><td>Kentucky Avenue</td><td>0.0270933</td><td>0.487679</td><td>0.221672</td></tr><tr><th>23</th><td>Chance</td><td>0.0267664</td><td>0.0</td><td>0.0</td></tr><tr><th>24</th><td>Indiana Avenue</td><td>0.0263495</td><td>0.474292</td><td>0.215587</td></tr><tr><th>25</th><td>Illinois Avenue</td><td>0.0266619</td><td>0.533238</td><td>0.222183</td></tr><tr><th>26</th><td>B &amp; O Railroad</td><td>0.0269474</td><td>0.673686</td><td>0.336843</td></tr><tr><th>27</th><td>Atlantic Avenue</td><td>0.0270677</td><td>0.595489</td><td>0.229034</td></tr><tr><th>28</th><td>Ventnor Avenue</td><td>0.0270788</td><td>0.595734</td><td>0.229128</td></tr><tr><th>29</th><td>Water Works</td><td>0.0270305</td><td>0.648731</td><td>0.432487</td></tr><tr><th>30</th><td>Marvin Gardens</td><td>0.0269677</td><td>0.647225</td><td>0.231152</td></tr><tr><th>&vellip;</th><td>&vellip;</td><td>&vellip;</td><td>&vellip;</td><td>&vellip;</td></tr></tbody></table></div>"
      ],
      "text/latex": [
       "\\begin{tabular}{r|cccc}\n",
       "\t& Space & Prob & Rent & ROI\\\\\n",
       "\t\\hline\n",
       "\t& String & Float64 & Float64 & Float64\\\\\n",
       "\t\\hline\n",
       "\t1 & Go & 0.0271852 & 0.0 & 0.0 \\\\\n",
       "\t2 & Mediterranean Avenue & 0.0225956 & 0.0451912 & 0.0753186 \\\\\n",
       "\t3 & Community Chest & 0.0200889 & 0.0 & 0.0 \\\\\n",
       "\t4 & Baltic Avenue & 0.0233771 & 0.0935084 & 0.155847 \\\\\n",
       "\t5 & Income Tax & 0.0230848 & 0.0 & 0.0 \\\\\n",
       "\t6 & Reading Railroad & 0.0229786 & 0.574466 & 0.287233 \\\\\n",
       "\t7 & Oriental Avenue & 0.0230121 & 0.138073 & 0.138073 \\\\\n",
       "\t8 & Chance & 0.0230639 & 0.0 & 0.0 \\\\\n",
       "\t9 & Vermont Avenue & 0.0229298 & 0.137579 & 0.137579 \\\\\n",
       "\t10 & Connecticut Avenue & 0.0228418 & 0.182735 & 0.152279 \\\\\n",
       "\t11 & Jail & 0.0546613 & 0.0 & 0.0 \\\\\n",
       "\t12 & St. Charles Place & 0.0229172 & 0.229172 & 0.163694 \\\\\n",
       "\t13 & Electric Company & 0.0237749 & 0.570598 & 0.380399 \\\\\n",
       "\t14 & States Avenue & 0.0246115 & 0.246115 & 0.175796 \\\\\n",
       "\t15 & Virginia Avenue & 0.0255852 & 0.307022 & 0.191889 \\\\\n",
       "\t16 & Pennsylvania Railroad & 0.0265888 & 0.66472 & 0.33236 \\\\\n",
       "\t17 & St. James Place & 0.0275873 & 0.386222 & 0.214568 \\\\\n",
       "\t18 & Community Chest & 0.0251166 & 0.0 & 0.0 \\\\\n",
       "\t19 & Tennessee Avenue & 0.028193 & 0.394702 & 0.219279 \\\\\n",
       "\t20 & New York Avenue & 0.027744 & 0.443905 & 0.221952 \\\\\n",
       "\t21 & Free Parking & 0.0273966 & 0.0 & 0.0 \\\\\n",
       "\t22 & Kentucky Avenue & 0.0270933 & 0.487679 & 0.221672 \\\\\n",
       "\t23 & Chance & 0.0267664 & 0.0 & 0.0 \\\\\n",
       "\t24 & Indiana Avenue & 0.0263495 & 0.474292 & 0.215587 \\\\\n",
       "\t25 & Illinois Avenue & 0.0266619 & 0.533238 & 0.222183 \\\\\n",
       "\t26 & B \\& O Railroad & 0.0269474 & 0.673686 & 0.336843 \\\\\n",
       "\t27 & Atlantic Avenue & 0.0270677 & 0.595489 & 0.229034 \\\\\n",
       "\t28 & Ventnor Avenue & 0.0270788 & 0.595734 & 0.229128 \\\\\n",
       "\t29 & Water Works & 0.0270305 & 0.648731 & 0.432487 \\\\\n",
       "\t30 & Marvin Gardens & 0.0269677 & 0.647225 & 0.231152 \\\\\n",
       "\t$\\dots$ & $\\dots$ & $\\dots$ & $\\dots$ & $\\dots$ \\\\\n",
       "\\end{tabular}\n"
      ],
      "text/plain": [
       "\u001b[1m40×4 DataFrame\u001b[0m\n",
       "\u001b[1m Row \u001b[0m│\u001b[1m Space                 \u001b[0m\u001b[1m Prob      \u001b[0m\u001b[1m Rent      \u001b[0m\u001b[1m ROI       \u001b[0m\n",
       "\u001b[1m     \u001b[0m│\u001b[90m String                \u001b[0m\u001b[90m Float64   \u001b[0m\u001b[90m Float64   \u001b[0m\u001b[90m Float64   \u001b[0m\n",
       "─────┼────────────────────────────────────────────────────────\n",
       "   1 │ Go                     0.0271852  0.0        0.0\n",
       "   2 │ Mediterranean Avenue   0.0225956  0.0451912  0.0753186\n",
       "   3 │ Community Chest        0.0200889  0.0        0.0\n",
       "   4 │ Baltic Avenue          0.0233771  0.0935084  0.155847\n",
       "   5 │ Income Tax             0.0230848  0.0        0.0\n",
       "   6 │ Reading Railroad       0.0229786  0.574466   0.287233\n",
       "   7 │ Oriental Avenue        0.0230121  0.138073   0.138073\n",
       "   8 │ Chance                 0.0230639  0.0        0.0\n",
       "   9 │ Vermont Avenue         0.0229298  0.137579   0.137579\n",
       "  10 │ Connecticut Avenue     0.0228418  0.182735   0.152279\n",
       "  11 │ Jail                   0.0546613  0.0        0.0\n",
       "  ⋮  │           ⋮                ⋮          ⋮          ⋮\n",
       "  31 │ Go To Jail             0.0        0.0        0.0\n",
       "  32 │ Pacific Avenue         0.0268854  0.699021   0.233007\n",
       "  33 │ North Carolina Avenue  0.0261376  0.679579   0.226526\n",
       "  34 │ Community Chest        0.022234   0.0        0.0\n",
       "  35 │ Pennsylvania Avenue    0.0246662  0.690654   0.215829\n",
       "  36 │ Short Line             0.023788   0.5947     0.29735\n",
       "  37 │ Chance                 0.0228367  0.0        0.0\n",
       "  38 │ Park Place             0.02178    0.7623     0.2178\n",
       "  39 │ Luxury Tax             0.0220982  0.0        0.0\n",
       "  40 │ Boardwalk              0.0222763  1.11382    0.278454\n",
       "\u001b[36m                                               19 rows omitted\u001b[0m"
      ]
     },
     "execution_count": 10,
     "metadata": {},
     "output_type": "execute_result"
    }
   ],
   "source": [
    "#add some rewards:\n",
    "function summary(k = 100000, n=40)\n",
    "    probs = solve(k,n)\n",
    "    df = DataFrame(Space = String[], Prob = Float64[], Rent = Float64[], ROI = Float64[])\n",
    "    for (i,prob) in enumerate(probs)\n",
    "        rent = prob * Spaces[i][2]\n",
    "        roi = rent /Spaces[i][3] \n",
    "        push!(df,(Spaces[i][1], prob, rent,roi * 100))\n",
    "    end\n",
    "    df\n",
    "end\n",
    "\n",
    "summary()"
   ]
  },
  {
   "cell_type": "markdown",
   "id": "0a1452f8",
   "metadata": {},
   "source": [
    "### Example 3.  Monopoly as a Markov Decision Process"
   ]
  },
  {
   "cell_type": "markdown",
   "id": "46ac0260",
   "metadata": {},
   "source": [
    "Finally, we will define Monopoly as a Markov Decision Process (MDP). We allow players to take actions, and as a result, we could evaluate different strategies. \n",
    "\n",
    "We will discuss three possible strategies:\n",
    "- buy a property randomly (player 1)\n",
    "- always buy a property (player 2)\n",
    "- buy a property if its ROI exceeds threshold $\\tau$ (player 3)"
   ]
  },
  {
   "cell_type": "code",
   "execution_count": 11,
   "id": "82ffc95b",
   "metadata": {},
   "outputs": [
    {
     "data": {
      "text/plain": [
       "simulate_game (generic function with 3 methods)"
      ]
     },
     "execution_count": 11,
     "metadata": {},
     "output_type": "execute_result"
    }
   ],
   "source": [
    "#Monopoly simulaton with simple strategies\n",
    "\n",
    "function simulate_game(τ, n = 40, Spaces = Spaces)\n",
    "    roi = summary()[!,:ROI]\n",
    "    owned = zeros(Int,n)\n",
    "    budget = 1500.0 * ones(3)\n",
    "    position = ones(Int,3)\n",
    "    seq = shuffle(1:3)\n",
    "    while sum(budget.> 0.0) > 1\n",
    "        for player in seq\n",
    "            budget[player] ≤ 0.0 && continue\n",
    "            roll = rand(2:12)\n",
    "            position[player] =  mod(position[player] + roll - 1,n) + 1\n",
    "            if position[player] == 31\n",
    "                position[player] = 11\n",
    "            elseif in(position[player],(3,18,34)) #community chest\n",
    "                if rand() ≤ 2.0/16.0 \n",
    "                    if rand() ≤ 0.5 #advance to go\n",
    "                        position[player] = 1\n",
    "                    else #go to jail\n",
    "                        position[player] = 11\n",
    "                    end\n",
    "                end\n",
    "            else\n",
    "                owner = owned[position[player]] \n",
    "                (Spaces[position[player]][3] == Inf || owner == player) && continue\n",
    "                if owner == 0\n",
    "                    price = Spaces[position[player]][3]\n",
    "                    price ≥ budget[player] && continue\n",
    "                    #decision time\n",
    "                    if player == 1  &&  rand() ≤ 0.5 \n",
    "                        #random strategy (player 1)\n",
    "                        owned[position[player]] = player\n",
    "                        budget[player] -= price\n",
    "                    elseif player == 2 \n",
    "                        #always buy (player 2)\n",
    "                        owned[position[player]] = player\n",
    "                        budget[player] -= price\n",
    "                    elseif player == 3 && roi[position[player]] > τ \n",
    "                        #buy only the best (player 3)\n",
    "                        owned[position[player]] = player\n",
    "                        budget[player] -= price\n",
    "                    end  \n",
    "                else\n",
    "                    rent = Spaces[position[player]][2]\n",
    "                    budget[player] -= rent\n",
    "                    budget[owner] += rent\n",
    "                end\n",
    "                budget[player] ≤ 0.0 && replace!(owned, player => 0)\n",
    "            end\n",
    "        end\n",
    "    end\n",
    "    return budget\n",
    "end"
   ]
  },
  {
   "cell_type": "code",
   "execution_count": 12,
   "id": "cf442ed6",
   "metadata": {},
   "outputs": [
    {
     "data": {
      "text/plain": [
       "3-element Vector{Float64}:\n",
       "  -9.0\n",
       "  -1.0\n",
       " 170.0"
      ]
     },
     "execution_count": 12,
     "metadata": {},
     "output_type": "execute_result"
    }
   ],
   "source": [
    "simulate_game(0.15)"
   ]
  },
  {
   "cell_type": "code",
   "execution_count": 14,
   "id": "8ac39fd6",
   "metadata": {},
   "outputs": [
    {
     "data": {
      "text/plain": [
       "3-element Vector{Float64}:\n",
       " 0.3695\n",
       " 0.2541\n",
       " 0.3764"
      ]
     },
     "execution_count": 14,
     "metadata": {},
     "output_type": "execute_result"
    }
   ],
   "source": [
    "n = 10000\n",
    "τ₁ = 0.15\n",
    "res = zeros(3)\n",
    "for k = 1:n\n",
    "   res .+= (simulate_game(τ₁) .> 0.0)\n",
    "end\n",
    "res ./ n"
   ]
  },
  {
   "cell_type": "code",
   "execution_count": null,
   "id": "3c3714cc",
   "metadata": {},
   "outputs": [],
   "source": []
  }
 ],
 "metadata": {
  "kernelspec": {
   "display_name": "Julia 1.8.5",
   "language": "julia",
   "name": "julia-1.8"
  },
  "language_info": {
   "file_extension": ".jl",
   "mimetype": "application/julia",
   "name": "julia",
   "version": "1.8.5"
  }
 },
 "nbformat": 4,
 "nbformat_minor": 5
}
