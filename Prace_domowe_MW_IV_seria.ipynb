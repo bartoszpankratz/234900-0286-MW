{
 "cells": [
  {
   "cell_type": "markdown",
   "metadata": {},
   "source": [
    "# Prace Domowe - Modelowanie Wieloagentowe  IV seria"
   ]
  },
  {
   "cell_type": "markdown",
   "metadata": {},
   "source": [
    "Z podanych poleceń należy wybrać jedno, rozwiązanie proszę przesłać na adres [bpankra@sgh.waw.pl](mailto:bpankra@sgh.waw.pl). Termin oddania <b>19 Stycznia 2023</b> koniec dnia."
   ]
  },
  {
   "cell_type": "markdown",
   "metadata": {},
   "source": [
    "## Zadanie 1\n",
    "\n",
    "Zmodyfikuj prezentowany na zajęciach kod z liniową aproksymacją funkcji wartości w środowisku <tt>Mountain Car</tt> tak aby uczył się korzystając z algorytmu $Q-learning$, a nie algorytmu $SARSA$. Czy algorytm zbiega do poprawnego rozwiązania?\n",
    "\n",
    "## Zadanie 2\n",
    "\n",
    "Zmodyfikuj prezentowany na zajęciach kod z liniową aproksymacją funkcji wartości w środowisku <tt>Mountain Car</tt> tak aby uczył się za pomocą metody <b>Gradient TD</b> (podręcznik rozdział 11.7 oraz [tutaj](http://incompleteideas.net/Talks/gradient-TD-2011.pdf) i [tutaj](http://incompleteideas.net/papers/maei-thesis-2011.pdf)). Jak zmienia się rozwiązanie? \n",
    "\n",
    "\n",
    "## Zadanie 3\n",
    "\n",
    "Zmodyfikuj prezentowany na zajęciach kod z liniową aproksymacją funkcji wartości w środowisku <tt>Mountain Car</tt> tak aby kodował przestrzeń stanów wykorzystując do tego radialne funkcje bazowe. Jak zmienia się rozwiązanie? \n",
    "\n",
    "\n",
    "## Zadanie 3\n",
    "\n",
    "W zaprezentowanym na zajęciach przykładzie deepQ learningu w środowisku <tt>Mountain Car</tt>, po ukończeniu procesu uczenia udało się osiągnąć przeciętną nagrodę równa -140 punktów. Zmodyfikuj algorytm (możesz zarówno zmodyfikować algorytm uczenia, jak i sieć neuronową), tak aby poprawić ten wynik.\n",
    "\n",
    "<b> Uwaga: </b> Osiągnięcie przeciętnej nagrody poniżej -100 puntów będzie nagrodzone dodatkowymi 20 punktami."
   ]
  }
 ],
 "metadata": {
  "kernelspec": {
   "display_name": "Julia 1.7.0",
   "language": "julia",
   "name": "julia-1.7"
  },
  "language_info": {
   "file_extension": ".jl",
   "mimetype": "application/julia",
   "name": "julia",
   "version": "1.7.0"
  }
 },
 "nbformat": 4,
 "nbformat_minor": 2
}
