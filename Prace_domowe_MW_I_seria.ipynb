{
 "cells": [
  {
   "cell_type": "markdown",
   "metadata": {},
   "source": [
    "# Prace Domowe - Modelowanie Wieloagentowe  I seria"
   ]
  },
  {
   "cell_type": "markdown",
   "metadata": {},
   "source": [
    "Z podanych poleceń należy wybrać jedno, rozwiązanie proszę przesłać na adres [bpankra@sgh.waw.pl](mailto:bpankra@sgh.waw.pl). Termin oddania <b>2 listopada 2022</b> koniec dnia."
   ]
  },
  {
   "cell_type": "markdown",
   "metadata": {},
   "source": [
    "## Zadanie 1\n",
    "\n",
    "a) Korzystając ze środowiska <tt>Frozen Lake</tt> zaproponuj eksperyment, który pokaże złożoność obliczeniową prezentowanego na zajęciach rozwiązania problemu za pomocą programowania dynamicznego. Czy value iteration i policy iteration mają taka samą złożoność? Jakiego rzędu jest złożoność tych algorytmów?  \n",
    "b) Bazując na wybranym algorytmie z poprzedniego podpunktu  (value iteration lub policy iteration) zaproponuj eksperyment, który porówna złożoność wersji algorytmu z synchronicznymi backupami (kod prezentowany na zajęciach) z algorytmem <i>in-place dynamic programming</i>, czyli takim, który do wyznaczania uaktualnienia wykorzystuje ten sam wektor funkcji wartości, tj. $V_k$, a nie $V_{k-1}$. Co zauważasz?\n",
    "\n",
    "\n",
    "## Zadanie 2\n",
    "\n",
    "W zaprezentowanym na ćwiczeniach środowisku <tt>Frozen Lake</tt> zaimplementuj algorytm wyszukiwania wyczerpującego. Jak szybko znajduje on rozwiązanie dla problemu $4\\times4$? A dla $8\\times8$? Porównaj rezultaty z rozwiązaniem otrzymanym za pomocą programowania dynamicznego.\n"
   ]
  }
 ],
 "metadata": {
  "kernelspec": {
   "display_name": "Julia 1.7.0",
   "language": "julia",
   "name": "julia-1.7"
  },
  "language_info": {
   "file_extension": ".jl",
   "mimetype": "application/julia",
   "name": "julia",
   "version": "1.7.0"
  }
 },
 "nbformat": 4,
 "nbformat_minor": 2
}
