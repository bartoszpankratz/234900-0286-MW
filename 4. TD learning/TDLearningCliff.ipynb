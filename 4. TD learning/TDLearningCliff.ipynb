{
 "cells": [
  {
   "cell_type": "markdown",
   "id": "81823dd1",
   "metadata": {},
   "source": [
    "## TD-Learning Cliff Walking Example\n",
    "\n",
    "Similarly to the previous examples, we will start with defining our environment:"
   ]
  },
  {
   "cell_type": "code",
   "execution_count": 1,
   "id": "b38439dd",
   "metadata": {},
   "outputs": [],
   "source": [
    "ENV[\"MPLBACKEND\"]=\"qt4agg\"\n",
    "using PyPlot;pygui(true) \n",
    "using Random; Random.seed!(1234)\n",
    "using ReinforcementLearning"
   ]
  },
  {
   "cell_type": "code",
   "execution_count": 2,
   "id": "35dc297b",
   "metadata": {},
   "outputs": [
    {
     "data": {
      "text/plain": [
       "create_world (generic function with 3 methods)"
      ]
     },
     "execution_count": 2,
     "metadata": {},
     "output_type": "execute_result"
    }
   ],
   "source": [
    "#Auxiliary functions\n",
    "function create_world(dx = 4,dy = 12)\n",
    "    world = zeros(dx,dy)\n",
    "    world[1,2:end-1] .= -1.0\n",
    "    world[1,end] = 1.0\n",
    "    return world\n",
    "end"
   ]
  },
  {
   "cell_type": "code",
   "execution_count": 3,
   "id": "3cd9c910",
   "metadata": {},
   "outputs": [
    {
     "data": {
      "text/plain": [
       "CliffEnv"
      ]
     },
     "execution_count": 3,
     "metadata": {},
     "output_type": "execute_result"
    }
   ],
   "source": [
    "#Now, define environment:\n",
    "\n",
    "Base.@kwdef mutable struct CliffEnv <: AbstractEnv\n",
    "    reward::Union{Nothing, Float64} = nothing\n",
    "    actions::Dict{Int64, Tuple{Int64, Int64}}  = \n",
    "    Dict(1 => (0,-1), 2 => (1,0), 3 => (0,1), 4 => (-1,0))\n",
    "    world::Matrix{Float64} = create_world()\n",
    "    position::Int = 1\n",
    "end\n",
    "Main.CliffEnv"
   ]
  },
  {
   "cell_type": "code",
   "execution_count": 4,
   "id": "1574cb47",
   "metadata": {},
   "outputs": [],
   "source": [
    "#functions:\n",
    "RLBase.action_space(env::CliffEnv) = Base.OneTo(length(env.actions))\n",
    "RLBase.state_space(env::CliffEnv) = Base.OneTo(length(env.world))\n",
    "RLBase.reward(env::CliffEnv) = env.reward\n",
    "RLBase.state(env::CliffEnv) = env.position\n",
    "RLBase.is_terminated(env::CliffEnv) = env.reward == -100.0 || env.reward == 0.0\n",
    "function RLBase.reset!(env::CliffEnv) \n",
    "    env.reward = nothing\n",
    "    env.position = 1\n",
    "end"
   ]
  },
  {
   "cell_type": "code",
   "execution_count": 5,
   "id": "6d57defb",
   "metadata": {},
   "outputs": [],
   "source": [
    "#and the most important function - movement control:\n",
    "function (x::CliffEnv)(action)\n",
    "    @assert action in action_space(x)\n",
    "    direction = x.actions[action]\n",
    "    cartesian_state = [CartesianIndices(x.world)[x.position][1],\n",
    "                        CartesianIndices(x.world)[x.position][2]]\n",
    "    new_state = cartesian_state .+ direction\n",
    "    if !(new_state[1] ∈ 1:size(x.world,1) && new_state[2] ∈ 1:size(x.world,2))\n",
    "        new_state = cartesian_state\n",
    "    end   \n",
    "    if x.world[new_state[1],new_state[2]] == -1.0\n",
    "        x.reward = -100.0\n",
    "    elseif x.world[new_state[1],new_state[2]] == 1.0\n",
    "        x.reward = 0.0\n",
    "    else\n",
    "        x.reward = -1.0\n",
    "    end\n",
    "    x.position = LinearIndices(x.world)[new_state[1],new_state[2]]\n",
    "    nothing\n",
    "end"
   ]
  },
  {
   "cell_type": "code",
   "execution_count": 6,
   "id": "4917657e",
   "metadata": {},
   "outputs": [
    {
     "name": "stdout",
     "output_type": "stream",
     "text": [
      "\u001b[0m\u001b[1mTest Summary:               | \u001b[22m\u001b[32m\u001b[1mPass  \u001b[22m\u001b[39m\u001b[36m\u001b[1mTotal  \u001b[22m\u001b[39m\u001b[0m\u001b[1mTime\u001b[22m\n",
      "random policy with CliffEnv | \u001b[32m2000  \u001b[39m\u001b[36m 2000  \u001b[39m\u001b[0m0.0s\n"
     ]
    },
    {
     "data": {
      "text/plain": [
       "Test.DefaultTestSet(\"random policy with CliffEnv\", Any[], 2000, false, false, true, 1.680675951282e9, 1.680675951321e9)"
      ]
     },
     "execution_count": 6,
     "metadata": {},
     "output_type": "execute_result"
    }
   ],
   "source": [
    "env = CliffEnv();\n",
    "RLBase.test_runnable!(env)"
   ]
  },
  {
   "cell_type": "markdown",
   "id": "bb8add88",
   "metadata": {},
   "source": [
    "Now we will define the agent:"
   ]
  },
  {
   "cell_type": "code",
   "execution_count": 7,
   "id": "29dd13fd",
   "metadata": {},
   "outputs": [],
   "source": [
    "#tworzymy obiekt agent, ktory przechowuje wszystkie kluczowe informacje na temat agenta\n",
    "mutable struct Agent\n",
    "    algo::Symbol #algorytm uczenia\n",
    "    env::CliffEnv #srodowisko\n",
    "    ϵ::Float64 #współczynnik eksploracji\n",
    "    β::Float64 #dyskonto\n",
    "    α::Float64 #stopa uczenia się\n",
    "    Q::Dict{Int64, Vector{Float64}} #slownik z nagrodami wynikajacymi z przejscia ze stanu do stanu\n",
    "    score::Int #wynik - ile razy agent dotarl do mety\n",
    "    cumulated_reward::Int #Skumulowana nagroda agenta w czasie\n",
    "    rewards::Array{Float64,1} #wektor przecietnego wyniku agenta w trakcie symulacji\n",
    "end"
   ]
  },
  {
   "cell_type": "code",
   "execution_count": 8,
   "id": "e896a76f",
   "metadata": {},
   "outputs": [
    {
     "data": {
      "text/plain": [
       "Agent"
      ]
     },
     "execution_count": 8,
     "metadata": {},
     "output_type": "execute_result"
    }
   ],
   "source": [
    "#konstruktor tworzacy agenta:\n",
    "function Agent(algo; ϵ = 0.1,β = 0.99,α = 0.1) \n",
    "    if algo != :SARSA && algo != :Qlearning\n",
    "        @error \"unknown algorithm\"\n",
    "    end\n",
    "    env = CliffEnv()\n",
    "    Agent(algo, env,\n",
    "        ϵ, β, α, \n",
    "        Dict{Tuple{Int64, Int64},Float64}(),\n",
    "        0, 0, [])\n",
    "end"
   ]
  },
  {
   "cell_type": "markdown",
   "id": "82788737",
   "metadata": {},
   "source": [
    "And learning functions: one for SARSA algorithm and one for Q-Learning:"
   ]
  },
  {
   "cell_type": "code",
   "execution_count": 9,
   "id": "2e6f193b",
   "metadata": {},
   "outputs": [
    {
     "data": {
      "text/plain": [
       "learn! (generic function with 1 method)"
      ]
     },
     "execution_count": 9,
     "metadata": {},
     "output_type": "execute_result"
    }
   ],
   "source": [
    "#funkcja uczenia sie agenta - algorytm Q Learning\n",
    "#uzupelniamy wartosc macierzy Q dla zadanego stanu s i akcji a\n",
    "#robimy to poprzez dodanie do nagrody za znalezienie sie w tym stanie zdyskontowanej najwyzszej nagrody jaka moze \n",
    "#uzyskac agent przenoszac sie z tego stanu do nowego:\n",
    "#Q(s, a) = reward(s) + beta * max(Q(s'))\n",
    "function learn!(agent, S, A, r, S′)\n",
    "    if !haskey(agent.Q, S)\n",
    "        agent.Q[S] = zeros(length(action_space(agent.env)))\n",
    "        agent.Q[S][A] = r\n",
    "    else\n",
    "        Q_S′ = 0.0\n",
    "        haskey(agent.Q, S′) && ( Q_S′ += maximum(agent.Q[S′]))\n",
    "        agent.Q[S][A] += agent.α * (r + agent.β*Q_S′ - agent.Q[S][A])\n",
    "    end\n",
    "end"
   ]
  },
  {
   "cell_type": "code",
   "execution_count": 10,
   "id": "012f7ecc",
   "metadata": {},
   "outputs": [
    {
     "data": {
      "text/plain": [
       "learn! (generic function with 2 methods)"
      ]
     },
     "execution_count": 10,
     "metadata": {},
     "output_type": "execute_result"
    }
   ],
   "source": [
    "#funkcja uczenia sie agenta - algorytm SARSA\n",
    "#uzupelniamy wartosc macierzy Q dla zadanego stanu s i akcji a\n",
    "#robimy to poprzez dodanie do nagrody za znalezienie sie w tym stanie zdyskontowanej najwyzszej nagrody jaka moze \n",
    "#uzyskac agent przenoszac sie z tego stanu do nowego:\n",
    "#Q(s, a) = reward(s) + beta * Q(s',a')\n",
    "function learn!(agent, S, A, r, S′,A′)\n",
    "    if !haskey(agent.Q, S)\n",
    "        agent.Q[S] = zeros(length(action_space(agent.env)))\n",
    "        agent.Q[S][A] = r\n",
    "    else\n",
    "        Q_S′ = 0.0\n",
    "        haskey(agent.Q, S′) && (Q_S′ += agent.Q[S′][A′])\n",
    "        agent.Q[S][A] += agent.α * (r + agent.β*Q_S′ - agent.Q[S][A])\n",
    "    end\n",
    "end"
   ]
  },
  {
   "cell_type": "markdown",
   "id": "6380091c",
   "metadata": {},
   "source": [
    "Main function:"
   ]
  },
  {
   "cell_type": "code",
   "execution_count": 11,
   "id": "6f6dbcf0",
   "metadata": {},
   "outputs": [
    {
     "data": {
      "text/plain": [
       "run_learning! (generic function with 1 method)"
      ]
     },
     "execution_count": 11,
     "metadata": {},
     "output_type": "execute_result"
    }
   ],
   "source": [
    "#funkcja kontrolujaca symulacje\n",
    "function run_learning!(agent, episodes; plotting = true, burning = true)\n",
    "    step = 1.0\n",
    "    episode = 0.0\n",
    "    #plot\n",
    "    if plotting \n",
    "        field_val = agent.env.world[state(agent.env)]\n",
    "        agent.env.world[state(agent.env)] = 2;\n",
    "        img = imshow(agent.env.world);\n",
    "        agent.env.world[state(agent.env)] = field_val\n",
    "    end\n",
    "    while episode ≤ episodes\n",
    "        S = deepcopy(state(agent.env))\n",
    "        if (burning && episode < 0.1 * episodes) || rand() < agent.ϵ || !haskey(agent.Q, state(agent.env))\n",
    "            A = rand(1:length(action_space(agent.env)))\n",
    "        else \n",
    "            A = argmax(agent.Q[state(agent.env)])\n",
    "        end\n",
    "        agent.env(action_space(agent.env)[A])\n",
    "        r = reward(agent.env)\n",
    "        S′ = deepcopy(state(agent.env))\n",
    "        if agent.algo == :SARSA\n",
    "            if (burning && episode < 0.1 * episodes) || rand() < agent.ϵ || !haskey(agent.Q, state(agent.env))\n",
    "                A′ = rand(1:length(action_space(agent.env)))\n",
    "            else \n",
    "                A′ = argmax(agent.Q[state(agent.env)])\n",
    "            end\n",
    "            learn!(agent, S, A, r, S′,A′)\n",
    "        else\n",
    "            learn!(agent, S, A, r, S′)\n",
    "        end\n",
    "        agent.cumulated_reward += r\n",
    "        if plotting\n",
    "            field_val = agent.env.world[state(agent.env)]\n",
    "            agent.env.world[state(agent.env)] = 2;\n",
    "            img[:set_data](agent.env.world)  \n",
    "            title(\"Episode: $episode, Score: $(agent.score)\")\n",
    "            show()         \n",
    "            sleep(0.001)\n",
    "            agent.env.world[state(agent.env)] = field_val\n",
    "        end\n",
    "        if is_terminated(agent.env)\n",
    "            episode += 1.0\n",
    "            push!(agent.rewards, agent.cumulated_reward/episode)\n",
    "            reward(agent.env) == 0.0 && (agent.score += 1.0)\n",
    "            reset!(agent.env)\n",
    "        end\n",
    "        step += 1.0    \n",
    "    end \n",
    "end"
   ]
  },
  {
   "cell_type": "markdown",
   "id": "456c9e33",
   "metadata": {},
   "source": [
    "It is time to run our agents. At first, let us take a look at Q-Learning agent before learning:"
   ]
  },
  {
   "cell_type": "code",
   "execution_count": 12,
   "id": "31de124f",
   "metadata": {},
   "outputs": [],
   "source": [
    "#uruchamiamy:\n",
    "\n",
    "agent_Q = Agent(:Qlearning);\n",
    "run_learning!(agent_Q,20,plotting = true, burning = false)"
   ]
  },
  {
   "cell_type": "markdown",
   "id": "2a796874",
   "metadata": {},
   "source": [
    "and after learning:"
   ]
  },
  {
   "cell_type": "code",
   "execution_count": 13,
   "id": "e77cb6a4",
   "metadata": {},
   "outputs": [],
   "source": [
    "agent_Q = Agent(:Qlearning);\n",
    "run_learning!(agent_Q,5000,plotting = false)\n",
    "Q_rewards = deepcopy(agent_Q.rewards);\n",
    "run_learning!(agent_Q,30,plotting = true, burning = false)"
   ]
  },
  {
   "cell_type": "markdown",
   "id": "3808c849",
   "metadata": {},
   "source": [
    "SARSA agent before:"
   ]
  },
  {
   "cell_type": "code",
   "execution_count": 15,
   "id": "32d21bfb",
   "metadata": {},
   "outputs": [],
   "source": [
    "agent_SARSA = Agent(:SARSA);\n",
    "run_learning!(agent_SARSA,20,plotting = true, burning = false)"
   ]
  },
  {
   "cell_type": "markdown",
   "id": "ca711e4f",
   "metadata": {},
   "source": [
    "and after learning:"
   ]
  },
  {
   "cell_type": "code",
   "execution_count": 16,
   "id": "0a55c7d4",
   "metadata": {},
   "outputs": [],
   "source": [
    "agent_SARSA = Agent(:SARSA);\n",
    "run_learning!(agent_SARSA,5000,plotting = false)\n",
    "SARSA_rewards = deepcopy(agent_SARSA.rewards);\n",
    "run_learning!(agent_SARSA,30,plotting = true, burning = false)"
   ]
  },
  {
   "cell_type": "markdown",
   "id": "5ccee555",
   "metadata": {},
   "source": [
    "Average rewards for both methods:"
   ]
  },
  {
   "cell_type": "code",
   "execution_count": 17,
   "id": "c598c391",
   "metadata": {},
   "outputs": [
    {
     "data": {
      "image/png": "[encoded data removed]",
      "text/plain": [
       "Figure(PyObject <Figure size 640x480 with 1 Axes>)"
      ]
     },
     "metadata": {},
     "output_type": "display_data"
    },
    {
     "data": {
      "text/plain": [
       "PyObject Text(24.0, 0.5, 'Average Reward')"
      ]
     },
     "execution_count": 17,
     "metadata": {},
     "output_type": "execute_result"
    }
   ],
   "source": [
    "pygui(false) \n",
    "plot(Q_rewards, label = \"Q-learning\")\n",
    "plot(SARSA_rewards, label = \"SARSA\")\n",
    "legend()\n",
    "xlabel(\"Episode\")\n",
    "ylabel(\"Average Reward\")"
   ]
  },
  {
   "cell_type": "code",
   "execution_count": null,
   "id": "78653728",
   "metadata": {},
   "outputs": [],
   "source": []
  }
 ],
 "metadata": {
  "kernelspec": {
   "display_name": "Julia 1.8.5",
   "language": "julia",
   "name": "julia-1.8"
  },
  "language_info": {
   "file_extension": ".jl",
   "mimetype": "application/julia",
   "name": "julia",
   "version": "1.8.5"
  }
 },
 "nbformat": 4,
 "nbformat_minor": 5
}
