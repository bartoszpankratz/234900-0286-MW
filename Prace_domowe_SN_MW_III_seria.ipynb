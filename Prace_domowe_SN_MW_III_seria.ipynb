{
 "cells": [
  {
   "cell_type": "markdown",
   "metadata": {},
   "source": [
    "# Prace Domowe - Modelowanie Wieloagentowe  III seria"
   ]
  },
  {
   "cell_type": "markdown",
   "metadata": {},
   "source": [
    "Z podanych poleceń należy wybrać jedno, rozwiązanie proszę przesłać na adres [bpankra@sgh.waw.pl](mailto:bpankra@sgh.waw.pl). Termin oddania <b>22 stycznia 2023</b> koniec dnia."
   ]
  },
  {
   "cell_type": "markdown",
   "metadata": {},
   "source": [
    "## Zadanie 1\n",
    "\n",
    "W zaprezentowanym na zajęciach środowisku <tt>Frozen Lake</tt> lub <tt>Blackjack</tt> zaimplementuj algorytm Monte Carlo Off Policy Learning.\n",
    "\n",
    "## Zadanie 2\n",
    "\n",
    "Zmodyfikuj prezentowany na zajęciach przykład <tt>Frozen Lake</tt> tak żeby uczył się za pomocą algorytmu <b>every visit</b>, a nie <b>first visit</b>. Co zauważasz? Porównaj oba algorytmy w zależności od horyzontu uczenia.\n",
    "\n",
    "\n",
    "## Zadanie 3\n",
    "\n",
    "Prezentowany kod do gry w <tt>Blackjack</tt> zakłada, że krupier gra z predefiniowaną strategią (dobieraj karty dopóki suma twoich kart nie będzie większa bądź równa 17). Zmodyfikuj jego zachowanie tak aby on też uczył się optymalnej strategii (de facto zaimplementuj dwóch agentów grających ze sobą). W jaki sposób zmienia to strategie agenta(ów) i oszacowania funkcji wartości?\n",
    "\n",
    "<b>Uwaga: Rozwiązanie może wymagać modyfikacji środowiska, [tutaj](https://github.com/JuliaReinforcementLearning/ReinforcementLearningAnIntroduction.jl/blob/master/notebooks/Chapter05_Blackjack.jl) dostępny jest przykład jego implementacji w języku Julia, który możesz wykorzystać, a [tutaj](https://juliareinforcementlearning.org/docs/How_to_write_a_customized_environment/#More-Complicated-Environments) wytłumaczenie jak należy definiować środowiska dla więcej niż jednego gracza</b>\n",
    "\n",
    "<b>Uwaga: Zadanie jest trudniejsze niż pozostałe - można za nie uzyskać 30 punktow </b>\n"
   ]
  }
 ],
 "metadata": {
  "kernelspec": {
   "display_name": "Julia 1.7.0",
   "language": "julia",
   "name": "julia-1.7"
  },
  "language_info": {
   "file_extension": ".jl",
   "mimetype": "application/julia",
   "name": "julia",
   "version": "1.7.0"
  }
 },
 "nbformat": 4,
 "nbformat_minor": 2
}
