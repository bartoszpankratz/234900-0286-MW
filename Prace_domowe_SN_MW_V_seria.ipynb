{
 "cells": [
  {
   "cell_type": "markdown",
   "metadata": {},
   "source": [
    "# Prace Domowe - Modelowanie Wieloagentowe V seria"
   ]
  },
  {
   "cell_type": "markdown",
   "metadata": {},
   "source": [
    "Z podanych poleceń należy wybrać jedno, rozwiązanie proszę przesłać na adres [bpankra@sgh.waw.pl](mailto:bpankra@sgh.waw.pl). Termin oddania <b>22 Stycznia 2023</b> koniec dnia."
   ]
  },
  {
   "cell_type": "markdown",
   "metadata": {},
   "source": [
    "## Zadanie 1\n",
    "W środowisku <tt>GridWorld</tt>:\n",
    "    \n",
    "- zamiast parametru eksploracji $\\epsilon$ zaimplementuj górną granicę ufności.\n",
    "- porównaj obie działanie (mierzone ilością epizodów zakończonych dotarciem do mety i przeciętną liczbą kroków na epizod) obu metod w horyzoncie <b>250 000</b> iteracji.\n",
    "\n",
    "\n",
    "## Zadanie 2\n",
    "\n",
    "W środowisku <tt>GridWorld</tt>  z zajęć zaimplementuj algorytm $SARSA(\\lambda)$ ze śladami wybieralności (<i>eligibility  traces</i>). Porównaj jego efektywność (mierzona ilością epizodów zakończonych dotarciem do mety i przeciętną liczbą kroków na epizod) z  bazowym algorytmem $SARSA(0)$ dla różnych wartości parametru $\\lambda$ w horyzoncie <b>250 000</b> iteracji.\n",
    "\n",
    "## Zadanie 3\n",
    "\n",
    "W prezentowanym na zajęciach przykładzie działania algorytmu $DynaQ$, zaimplementuj algorytm $DynaQ+$. Porównaj oba algorytmy  w horyzoncie <b>250 000</b> iteracji. Czy wynik dla dłuższych okresów planowania poprawia się?"
   ]
  }
 ],
 "metadata": {
  "kernelspec": {
   "display_name": "Julia 1.7.0",
   "language": "julia",
   "name": "julia-1.7"
  },
  "language_info": {
   "file_extension": ".jl",
   "mimetype": "application/julia",
   "name": "julia",
   "version": "1.7.0"
  }
 },
 "nbformat": 4,
 "nbformat_minor": 2
}
